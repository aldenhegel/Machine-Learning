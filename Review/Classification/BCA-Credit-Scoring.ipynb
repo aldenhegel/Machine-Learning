{
 "cells": [
  {
   "cell_type": "markdown",
   "metadata": {},
   "source": [
    "# BCA Credit Scoring"
   ]
  },
  {
   "cell_type": "code",
   "execution_count": 1,
   "metadata": {},
   "outputs": [],
   "source": [
    "def kacrut(nama) :\n",
    "    print('hello ' + nama)\n",
    "\n",
    "test = { 'kucrat': kacrut }"
   ]
  },
  {
   "cell_type": "code",
   "execution_count": 2,
   "metadata": {},
   "outputs": [
    {
     "name": "stdout",
     "output_type": "stream",
     "text": [
      "hello Baron\n"
     ]
    }
   ],
   "source": [
    "test['kucrat']('Baron')"
   ]
  },
  {
   "cell_type": "code",
   "execution_count": 3,
   "metadata": {},
   "outputs": [],
   "source": [
    "kuras = [test, kacrut]"
   ]
  },
  {
   "cell_type": "code",
   "execution_count": 4,
   "metadata": {},
   "outputs": [
    {
     "name": "stdout",
     "output_type": "stream",
     "text": [
      "hello Karimun\n"
     ]
    }
   ],
   "source": [
    "kuras[0]['kucrat']('Karimun')"
   ]
  },
  {
   "cell_type": "code",
   "execution_count": 5,
   "metadata": {},
   "outputs": [
    {
     "name": "stdout",
     "output_type": "stream",
     "text": [
      "hello Test\n"
     ]
    }
   ],
   "source": [
    "kuras[1]('Test')"
   ]
  },
  {
   "cell_type": "code",
   "execution_count": 6,
   "metadata": {},
   "outputs": [],
   "source": [
    "import pandas as pd\n",
    "import numpy as np\n",
    "import matplotlib.pyplot as plt\n",
    "import seaborn as sns\n",
    "from collections import Counter\n",
    "\n",
    "%matplotlib inline"
   ]
  },
  {
   "cell_type": "code",
   "execution_count": 7,
   "metadata": {},
   "outputs": [
    {
     "data": {
      "text/html": [
       "<div>\n",
       "<style scoped>\n",
       "    .dataframe tbody tr th:only-of-type {\n",
       "        vertical-align: middle;\n",
       "    }\n",
       "\n",
       "    .dataframe tbody tr th {\n",
       "        vertical-align: top;\n",
       "    }\n",
       "\n",
       "    .dataframe thead th {\n",
       "        text-align: right;\n",
       "    }\n",
       "</style>\n",
       "<table border=\"1\" class=\"dataframe\">\n",
       "  <thead>\n",
       "    <tr style=\"text-align: right;\">\n",
       "      <th></th>\n",
       "      <th>id</th>\n",
       "      <th>jumlah_kartu</th>\n",
       "      <th>outstanding</th>\n",
       "      <th>limit_kredit</th>\n",
       "      <th>tagihan</th>\n",
       "      <th>total_pemakaian_tunai</th>\n",
       "      <th>total_pemakaian_retail</th>\n",
       "      <th>sisa_tagihan_tidak_terbayar</th>\n",
       "      <th>kode_cabang</th>\n",
       "      <th>rasio_pembayaran</th>\n",
       "      <th>persentasi_overlimit</th>\n",
       "      <th>rasio_pembayaran_3bulan</th>\n",
       "      <th>rasio_pembayaran_6bulan</th>\n",
       "      <th>skor_delikuensi</th>\n",
       "      <th>flag_kredit_macet</th>\n",
       "      <th>jumlah_tahun_sejak_pembukaan_kredit</th>\n",
       "      <th>total_pemakaian</th>\n",
       "      <th>sisa_tagihan_per_jumlah_kartu</th>\n",
       "      <th>sisa_tagihan_per_limit</th>\n",
       "      <th>total_pemakaian_per_limit</th>\n",
       "      <th>pemakaian_3bln_per_limit</th>\n",
       "      <th>pemakaian_6bln_per_limit</th>\n",
       "      <th>utilisasi_3bulan</th>\n",
       "      <th>utilisasi_6bulan</th>\n",
       "    </tr>\n",
       "  </thead>\n",
       "  <tbody>\n",
       "    <tr>\n",
       "      <th>0</th>\n",
       "      <td>1</td>\n",
       "      <td>2</td>\n",
       "      <td>36158</td>\n",
       "      <td>7000000.0</td>\n",
       "      <td>23437.0</td>\n",
       "      <td>0.0</td>\n",
       "      <td>94.0</td>\n",
       "      <td>26323.0</td>\n",
       "      <td>I</td>\n",
       "      <td>102.19</td>\n",
       "      <td>0.0</td>\n",
       "      <td>74.78</td>\n",
       "      <td>100.00</td>\n",
       "      <td>0</td>\n",
       "      <td>0</td>\n",
       "      <td>15.416667</td>\n",
       "      <td>94.0</td>\n",
       "      <td>13161.5</td>\n",
       "      <td>0.003760</td>\n",
       "      <td>0.000013</td>\n",
       "      <td>0.011719</td>\n",
       "      <td>0.017810</td>\n",
       "      <td>0.013228</td>\n",
       "      <td>0.021949</td>\n",
       "    </tr>\n",
       "    <tr>\n",
       "      <th>1</th>\n",
       "      <td>2</td>\n",
       "      <td>2</td>\n",
       "      <td>268691</td>\n",
       "      <td>10000000.0</td>\n",
       "      <td>254564.0</td>\n",
       "      <td>0.0</td>\n",
       "      <td>1012.0</td>\n",
       "      <td>0.0</td>\n",
       "      <td>A</td>\n",
       "      <td>0.00</td>\n",
       "      <td>0.0</td>\n",
       "      <td>0.00</td>\n",
       "      <td>0.00</td>\n",
       "      <td>0</td>\n",
       "      <td>0</td>\n",
       "      <td>0.750000</td>\n",
       "      <td>1012.0</td>\n",
       "      <td>0.0</td>\n",
       "      <td>0.000000</td>\n",
       "      <td>0.000101</td>\n",
       "      <td>0.000000</td>\n",
       "      <td>0.000000</td>\n",
       "      <td>0.004232</td>\n",
       "      <td>0.000300</td>\n",
       "    </tr>\n",
       "    <tr>\n",
       "      <th>2</th>\n",
       "      <td>3</td>\n",
       "      <td>3</td>\n",
       "      <td>6769149</td>\n",
       "      <td>28000000.0</td>\n",
       "      <td>4159779.0</td>\n",
       "      <td>0.0</td>\n",
       "      <td>0.0</td>\n",
       "      <td>0.0</td>\n",
       "      <td>A</td>\n",
       "      <td>100.00</td>\n",
       "      <td>0.0</td>\n",
       "      <td>100.00</td>\n",
       "      <td>100.91</td>\n",
       "      <td>0</td>\n",
       "      <td>0</td>\n",
       "      <td>10.750000</td>\n",
       "      <td>0.0</td>\n",
       "      <td>0.0</td>\n",
       "      <td>0.000000</td>\n",
       "      <td>0.000000</td>\n",
       "      <td>0.040518</td>\n",
       "      <td>0.047703</td>\n",
       "      <td>0.249389</td>\n",
       "      <td>0.267853</td>\n",
       "    </tr>\n",
       "    <tr>\n",
       "      <th>3</th>\n",
       "      <td>4</td>\n",
       "      <td>4</td>\n",
       "      <td>3496732</td>\n",
       "      <td>21000000.0</td>\n",
       "      <td>111231.0</td>\n",
       "      <td>0.0</td>\n",
       "      <td>2536660.0</td>\n",
       "      <td>581334.0</td>\n",
       "      <td>G</td>\n",
       "      <td>100.00</td>\n",
       "      <td>0.0</td>\n",
       "      <td>25.01</td>\n",
       "      <td>22.64</td>\n",
       "      <td>0</td>\n",
       "      <td>0</td>\n",
       "      <td>19.750000</td>\n",
       "      <td>2536660.0</td>\n",
       "      <td>145333.5</td>\n",
       "      <td>0.027683</td>\n",
       "      <td>0.120793</td>\n",
       "      <td>0.055971</td>\n",
       "      <td>0.016851</td>\n",
       "      <td>0.101912</td>\n",
       "      <td>0.346635</td>\n",
       "    </tr>\n",
       "    <tr>\n",
       "      <th>4</th>\n",
       "      <td>5</td>\n",
       "      <td>2</td>\n",
       "      <td>9402085</td>\n",
       "      <td>10000000.0</td>\n",
       "      <td>6099283.0</td>\n",
       "      <td>0.0</td>\n",
       "      <td>2666558.0</td>\n",
       "      <td>5951865.0</td>\n",
       "      <td>A</td>\n",
       "      <td>95.99</td>\n",
       "      <td>0.0</td>\n",
       "      <td>97.49</td>\n",
       "      <td>99.84</td>\n",
       "      <td>0</td>\n",
       "      <td>0</td>\n",
       "      <td>1.666667</td>\n",
       "      <td>2666558.0</td>\n",
       "      <td>2975932.5</td>\n",
       "      <td>0.595186</td>\n",
       "      <td>0.266656</td>\n",
       "      <td>0.323027</td>\n",
       "      <td>0.131162</td>\n",
       "      <td>0.707865</td>\n",
       "      <td>0.336571</td>\n",
       "    </tr>\n",
       "  </tbody>\n",
       "</table>\n",
       "</div>"
      ],
      "text/plain": [
       "   id  jumlah_kartu  outstanding  limit_kredit    tagihan  \\\n",
       "0   1             2        36158     7000000.0    23437.0   \n",
       "1   2             2       268691    10000000.0   254564.0   \n",
       "2   3             3      6769149    28000000.0  4159779.0   \n",
       "3   4             4      3496732    21000000.0   111231.0   \n",
       "4   5             2      9402085    10000000.0  6099283.0   \n",
       "\n",
       "   total_pemakaian_tunai  total_pemakaian_retail  sisa_tagihan_tidak_terbayar  \\\n",
       "0                    0.0                    94.0                      26323.0   \n",
       "1                    0.0                  1012.0                          0.0   \n",
       "2                    0.0                     0.0                          0.0   \n",
       "3                    0.0               2536660.0                     581334.0   \n",
       "4                    0.0               2666558.0                    5951865.0   \n",
       "\n",
       "  kode_cabang  rasio_pembayaran  persentasi_overlimit  \\\n",
       "0           I            102.19                   0.0   \n",
       "1           A              0.00                   0.0   \n",
       "2           A            100.00                   0.0   \n",
       "3           G            100.00                   0.0   \n",
       "4           A             95.99                   0.0   \n",
       "\n",
       "   rasio_pembayaran_3bulan  rasio_pembayaran_6bulan  skor_delikuensi  \\\n",
       "0                    74.78                   100.00                0   \n",
       "1                     0.00                     0.00                0   \n",
       "2                   100.00                   100.91                0   \n",
       "3                    25.01                    22.64                0   \n",
       "4                    97.49                    99.84                0   \n",
       "\n",
       "   flag_kredit_macet  jumlah_tahun_sejak_pembukaan_kredit  total_pemakaian  \\\n",
       "0                  0                            15.416667             94.0   \n",
       "1                  0                             0.750000           1012.0   \n",
       "2                  0                            10.750000              0.0   \n",
       "3                  0                            19.750000        2536660.0   \n",
       "4                  0                             1.666667        2666558.0   \n",
       "\n",
       "   sisa_tagihan_per_jumlah_kartu  sisa_tagihan_per_limit  \\\n",
       "0                        13161.5                0.003760   \n",
       "1                            0.0                0.000000   \n",
       "2                            0.0                0.000000   \n",
       "3                       145333.5                0.027683   \n",
       "4                      2975932.5                0.595186   \n",
       "\n",
       "   total_pemakaian_per_limit  pemakaian_3bln_per_limit  \\\n",
       "0                   0.000013                  0.011719   \n",
       "1                   0.000101                  0.000000   \n",
       "2                   0.000000                  0.040518   \n",
       "3                   0.120793                  0.055971   \n",
       "4                   0.266656                  0.323027   \n",
       "\n",
       "   pemakaian_6bln_per_limit  utilisasi_3bulan  utilisasi_6bulan  \n",
       "0                  0.017810          0.013228          0.021949  \n",
       "1                  0.000000          0.004232          0.000300  \n",
       "2                  0.047703          0.249389          0.267853  \n",
       "3                  0.016851          0.101912          0.346635  \n",
       "4                  0.131162          0.707865          0.336571  "
      ]
     },
     "execution_count": 7,
     "metadata": {},
     "output_type": "execute_result"
    }
   ],
   "source": [
    "train = pd.read_csv('npl_train.csv').rename(columns={'X': 'id'})\n",
    "pd.set_option('display.max_columns', None)\n",
    "train.head()"
   ]
  },
  {
   "cell_type": "code",
   "execution_count": 8,
   "metadata": {},
   "outputs": [
    {
     "name": "stdout",
     "output_type": "stream",
     "text": [
      "<class 'pandas.core.frame.DataFrame'>\n",
      "RangeIndex: 15493 entries, 0 to 15492\n",
      "Data columns (total 24 columns):\n",
      "id                                     15493 non-null int64\n",
      "jumlah_kartu                           15493 non-null int64\n",
      "outstanding                            15493 non-null int64\n",
      "limit_kredit                           15493 non-null float64\n",
      "tagihan                                15493 non-null float64\n",
      "total_pemakaian_tunai                  15493 non-null float64\n",
      "total_pemakaian_retail                 15493 non-null float64\n",
      "sisa_tagihan_tidak_terbayar            15493 non-null float64\n",
      "kode_cabang                            15393 non-null object\n",
      "rasio_pembayaran                       15493 non-null float64\n",
      "persentasi_overlimit                   15493 non-null float64\n",
      "rasio_pembayaran_3bulan                15493 non-null float64\n",
      "rasio_pembayaran_6bulan                15493 non-null float64\n",
      "skor_delikuensi                        15493 non-null int64\n",
      "flag_kredit_macet                      15493 non-null int64\n",
      "jumlah_tahun_sejak_pembukaan_kredit    15493 non-null float64\n",
      "total_pemakaian                        15493 non-null float64\n",
      "sisa_tagihan_per_jumlah_kartu          15493 non-null float64\n",
      "sisa_tagihan_per_limit                 15493 non-null float64\n",
      "total_pemakaian_per_limit              15493 non-null float64\n",
      "pemakaian_3bln_per_limit               15493 non-null float64\n",
      "pemakaian_6bln_per_limit               15493 non-null float64\n",
      "utilisasi_3bulan                       15493 non-null float64\n",
      "utilisasi_6bulan                       15493 non-null float64\n",
      "dtypes: float64(18), int64(5), object(1)\n",
      "memory usage: 2.8+ MB\n"
     ]
    }
   ],
   "source": [
    "train.info()"
   ]
  },
  {
   "cell_type": "code",
   "execution_count": 9,
   "metadata": {},
   "outputs": [
    {
     "data": {
      "text/html": [
       "<div>\n",
       "<style scoped>\n",
       "    .dataframe tbody tr th:only-of-type {\n",
       "        vertical-align: middle;\n",
       "    }\n",
       "\n",
       "    .dataframe tbody tr th {\n",
       "        vertical-align: top;\n",
       "    }\n",
       "\n",
       "    .dataframe thead th {\n",
       "        text-align: right;\n",
       "    }\n",
       "</style>\n",
       "<table border=\"1\" class=\"dataframe\">\n",
       "  <thead>\n",
       "    <tr style=\"text-align: right;\">\n",
       "      <th></th>\n",
       "      <th>id</th>\n",
       "      <th>jumlah_kartu</th>\n",
       "      <th>outstanding</th>\n",
       "      <th>limit_kredit</th>\n",
       "      <th>tagihan</th>\n",
       "      <th>total_pemakaian_tunai</th>\n",
       "      <th>total_pemakaian_retail</th>\n",
       "      <th>sisa_tagihan_tidak_terbayar</th>\n",
       "      <th>rasio_pembayaran</th>\n",
       "      <th>persentasi_overlimit</th>\n",
       "      <th>rasio_pembayaran_3bulan</th>\n",
       "      <th>rasio_pembayaran_6bulan</th>\n",
       "      <th>skor_delikuensi</th>\n",
       "      <th>flag_kredit_macet</th>\n",
       "      <th>jumlah_tahun_sejak_pembukaan_kredit</th>\n",
       "      <th>total_pemakaian</th>\n",
       "      <th>sisa_tagihan_per_jumlah_kartu</th>\n",
       "      <th>sisa_tagihan_per_limit</th>\n",
       "      <th>total_pemakaian_per_limit</th>\n",
       "      <th>pemakaian_3bln_per_limit</th>\n",
       "      <th>pemakaian_6bln_per_limit</th>\n",
       "      <th>utilisasi_3bulan</th>\n",
       "      <th>utilisasi_6bulan</th>\n",
       "    </tr>\n",
       "  </thead>\n",
       "  <tbody>\n",
       "    <tr>\n",
       "      <th>count</th>\n",
       "      <td>15493.000000</td>\n",
       "      <td>15493.000000</td>\n",
       "      <td>1.549300e+04</td>\n",
       "      <td>1.549300e+04</td>\n",
       "      <td>1.549300e+04</td>\n",
       "      <td>1.549300e+04</td>\n",
       "      <td>1.549300e+04</td>\n",
       "      <td>1.549300e+04</td>\n",
       "      <td>15493.00000</td>\n",
       "      <td>15493.000000</td>\n",
       "      <td>15493.000000</td>\n",
       "      <td>15493.000000</td>\n",
       "      <td>15493.000000</td>\n",
       "      <td>15493.000000</td>\n",
       "      <td>15493.000000</td>\n",
       "      <td>1.549300e+04</td>\n",
       "      <td>1.549300e+04</td>\n",
       "      <td>15493.000000</td>\n",
       "      <td>15493.000000</td>\n",
       "      <td>15493.000000</td>\n",
       "      <td>15493.000000</td>\n",
       "      <td>15493.000000</td>\n",
       "      <td>15493.000000</td>\n",
       "    </tr>\n",
       "    <tr>\n",
       "      <th>mean</th>\n",
       "      <td>7747.000000</td>\n",
       "      <td>2.506551</td>\n",
       "      <td>1.159833e+07</td>\n",
       "      <td>2.079833e+07</td>\n",
       "      <td>8.078663e+06</td>\n",
       "      <td>7.453291e+04</td>\n",
       "      <td>2.025857e+06</td>\n",
       "      <td>8.140875e+06</td>\n",
       "      <td>64.64712</td>\n",
       "      <td>3.343533</td>\n",
       "      <td>50.530351</td>\n",
       "      <td>81.666238</td>\n",
       "      <td>0.004776</td>\n",
       "      <td>0.087717</td>\n",
       "      <td>6.634093</td>\n",
       "      <td>2.100421e+06</td>\n",
       "      <td>2.968060e+06</td>\n",
       "      <td>0.468246</td>\n",
       "      <td>0.109362</td>\n",
       "      <td>0.167446</td>\n",
       "      <td>0.202609</td>\n",
       "      <td>0.571102</td>\n",
       "      <td>0.533719</td>\n",
       "    </tr>\n",
       "    <tr>\n",
       "      <th>std</th>\n",
       "      <td>4472.588196</td>\n",
       "      <td>1.012655</td>\n",
       "      <td>2.408569e+07</td>\n",
       "      <td>2.955334e+07</td>\n",
       "      <td>1.761286e+07</td>\n",
       "      <td>6.184139e+05</td>\n",
       "      <td>7.927677e+06</td>\n",
       "      <td>1.922430e+07</td>\n",
       "      <td>794.16940</td>\n",
       "      <td>9.241921</td>\n",
       "      <td>1327.275247</td>\n",
       "      <td>1467.822452</td>\n",
       "      <td>0.114088</td>\n",
       "      <td>0.282892</td>\n",
       "      <td>4.675454</td>\n",
       "      <td>8.092612e+06</td>\n",
       "      <td>6.262192e+06</td>\n",
       "      <td>0.473056</td>\n",
       "      <td>0.200159</td>\n",
       "      <td>0.192327</td>\n",
       "      <td>0.274293</td>\n",
       "      <td>0.411928</td>\n",
       "      <td>0.432350</td>\n",
       "    </tr>\n",
       "    <tr>\n",
       "      <th>min</th>\n",
       "      <td>1.000000</td>\n",
       "      <td>1.000000</td>\n",
       "      <td>0.000000e+00</td>\n",
       "      <td>3.000000e+06</td>\n",
       "      <td>2.004300e+04</td>\n",
       "      <td>0.000000e+00</td>\n",
       "      <td>-1.566720e+07</td>\n",
       "      <td>0.000000e+00</td>\n",
       "      <td>-18138.00000</td>\n",
       "      <td>0.000000</td>\n",
       "      <td>-57792.340000</td>\n",
       "      <td>-77056.000000</td>\n",
       "      <td>0.000000</td>\n",
       "      <td>0.000000</td>\n",
       "      <td>0.750000</td>\n",
       "      <td>-1.566720e+07</td>\n",
       "      <td>0.000000e+00</td>\n",
       "      <td>0.000000</td>\n",
       "      <td>-0.632000</td>\n",
       "      <td>-0.126000</td>\n",
       "      <td>-0.569000</td>\n",
       "      <td>0.000288</td>\n",
       "      <td>0.000000</td>\n",
       "    </tr>\n",
       "    <tr>\n",
       "      <th>25%</th>\n",
       "      <td>3874.000000</td>\n",
       "      <td>2.000000</td>\n",
       "      <td>2.000551e+06</td>\n",
       "      <td>5.000000e+06</td>\n",
       "      <td>8.182500e+05</td>\n",
       "      <td>0.000000e+00</td>\n",
       "      <td>0.000000e+00</td>\n",
       "      <td>0.000000e+00</td>\n",
       "      <td>0.00000</td>\n",
       "      <td>0.000000</td>\n",
       "      <td>20.200000</td>\n",
       "      <td>21.600000</td>\n",
       "      <td>0.000000</td>\n",
       "      <td>0.000000</td>\n",
       "      <td>2.920000</td>\n",
       "      <td>0.000000e+00</td>\n",
       "      <td>0.000000e+00</td>\n",
       "      <td>0.000000</td>\n",
       "      <td>0.000000</td>\n",
       "      <td>0.035200</td>\n",
       "      <td>0.032900</td>\n",
       "      <td>0.189000</td>\n",
       "      <td>0.155000</td>\n",
       "    </tr>\n",
       "    <tr>\n",
       "      <th>50%</th>\n",
       "      <td>7747.000000</td>\n",
       "      <td>2.000000</td>\n",
       "      <td>4.726943e+06</td>\n",
       "      <td>9.000000e+06</td>\n",
       "      <td>3.145857e+06</td>\n",
       "      <td>0.000000e+00</td>\n",
       "      <td>2.010420e+05</td>\n",
       "      <td>2.750923e+06</td>\n",
       "      <td>27.00000</td>\n",
       "      <td>0.000000</td>\n",
       "      <td>50.000000</td>\n",
       "      <td>65.600000</td>\n",
       "      <td>0.000000</td>\n",
       "      <td>0.000000</td>\n",
       "      <td>5.666667</td>\n",
       "      <td>2.480000e+05</td>\n",
       "      <td>1.209318e+06</td>\n",
       "      <td>0.335000</td>\n",
       "      <td>0.022100</td>\n",
       "      <td>0.108000</td>\n",
       "      <td>0.117000</td>\n",
       "      <td>0.575000</td>\n",
       "      <td>0.496000</td>\n",
       "    </tr>\n",
       "    <tr>\n",
       "      <th>75%</th>\n",
       "      <td>11620.000000</td>\n",
       "      <td>3.000000</td>\n",
       "      <td>1.064848e+07</td>\n",
       "      <td>2.200000e+07</td>\n",
       "      <td>7.404991e+06</td>\n",
       "      <td>0.000000e+00</td>\n",
       "      <td>1.398000e+06</td>\n",
       "      <td>7.143198e+06</td>\n",
       "      <td>100.00000</td>\n",
       "      <td>1.060000</td>\n",
       "      <td>91.370000</td>\n",
       "      <td>100.000000</td>\n",
       "      <td>0.000000</td>\n",
       "      <td>0.000000</td>\n",
       "      <td>9.330000</td>\n",
       "      <td>1.512235e+06</td>\n",
       "      <td>3.088477e+06</td>\n",
       "      <td>0.930000</td>\n",
       "      <td>0.128000</td>\n",
       "      <td>0.239000</td>\n",
       "      <td>0.285000</td>\n",
       "      <td>0.917000</td>\n",
       "      <td>0.863000</td>\n",
       "    </tr>\n",
       "    <tr>\n",
       "      <th>max</th>\n",
       "      <td>15493.000000</td>\n",
       "      <td>16.000000</td>\n",
       "      <td>7.980586e+08</td>\n",
       "      <td>1.000000e+09</td>\n",
       "      <td>6.280000e+08</td>\n",
       "      <td>2.884057e+07</td>\n",
       "      <td>2.850000e+08</td>\n",
       "      <td>4.440000e+08</td>\n",
       "      <td>68983.00000</td>\n",
       "      <td>190.000000</td>\n",
       "      <td>75575.000000</td>\n",
       "      <td>54899.000000</td>\n",
       "      <td>5.000000</td>\n",
       "      <td>1.000000</td>\n",
       "      <td>34.416667</td>\n",
       "      <td>3.140000e+08</td>\n",
       "      <td>1.480000e+08</td>\n",
       "      <td>7.240000</td>\n",
       "      <td>4.600000</td>\n",
       "      <td>3.490000</td>\n",
       "      <td>8.110000</td>\n",
       "      <td>8.125671</td>\n",
       "      <td>9.730000</td>\n",
       "    </tr>\n",
       "  </tbody>\n",
       "</table>\n",
       "</div>"
      ],
      "text/plain": [
       "                 id  jumlah_kartu   outstanding  limit_kredit       tagihan  \\\n",
       "count  15493.000000  15493.000000  1.549300e+04  1.549300e+04  1.549300e+04   \n",
       "mean    7747.000000      2.506551  1.159833e+07  2.079833e+07  8.078663e+06   \n",
       "std     4472.588196      1.012655  2.408569e+07  2.955334e+07  1.761286e+07   \n",
       "min        1.000000      1.000000  0.000000e+00  3.000000e+06  2.004300e+04   \n",
       "25%     3874.000000      2.000000  2.000551e+06  5.000000e+06  8.182500e+05   \n",
       "50%     7747.000000      2.000000  4.726943e+06  9.000000e+06  3.145857e+06   \n",
       "75%    11620.000000      3.000000  1.064848e+07  2.200000e+07  7.404991e+06   \n",
       "max    15493.000000     16.000000  7.980586e+08  1.000000e+09  6.280000e+08   \n",
       "\n",
       "       total_pemakaian_tunai  total_pemakaian_retail  \\\n",
       "count           1.549300e+04            1.549300e+04   \n",
       "mean            7.453291e+04            2.025857e+06   \n",
       "std             6.184139e+05            7.927677e+06   \n",
       "min             0.000000e+00           -1.566720e+07   \n",
       "25%             0.000000e+00            0.000000e+00   \n",
       "50%             0.000000e+00            2.010420e+05   \n",
       "75%             0.000000e+00            1.398000e+06   \n",
       "max             2.884057e+07            2.850000e+08   \n",
       "\n",
       "       sisa_tagihan_tidak_terbayar  rasio_pembayaran  persentasi_overlimit  \\\n",
       "count                 1.549300e+04       15493.00000          15493.000000   \n",
       "mean                  8.140875e+06          64.64712              3.343533   \n",
       "std                   1.922430e+07         794.16940              9.241921   \n",
       "min                   0.000000e+00      -18138.00000              0.000000   \n",
       "25%                   0.000000e+00           0.00000              0.000000   \n",
       "50%                   2.750923e+06          27.00000              0.000000   \n",
       "75%                   7.143198e+06         100.00000              1.060000   \n",
       "max                   4.440000e+08       68983.00000            190.000000   \n",
       "\n",
       "       rasio_pembayaran_3bulan  rasio_pembayaran_6bulan  skor_delikuensi  \\\n",
       "count             15493.000000             15493.000000     15493.000000   \n",
       "mean                 50.530351                81.666238         0.004776   \n",
       "std                1327.275247              1467.822452         0.114088   \n",
       "min              -57792.340000            -77056.000000         0.000000   \n",
       "25%                  20.200000                21.600000         0.000000   \n",
       "50%                  50.000000                65.600000         0.000000   \n",
       "75%                  91.370000               100.000000         0.000000   \n",
       "max               75575.000000             54899.000000         5.000000   \n",
       "\n",
       "       flag_kredit_macet  jumlah_tahun_sejak_pembukaan_kredit  \\\n",
       "count       15493.000000                         15493.000000   \n",
       "mean            0.087717                             6.634093   \n",
       "std             0.282892                             4.675454   \n",
       "min             0.000000                             0.750000   \n",
       "25%             0.000000                             2.920000   \n",
       "50%             0.000000                             5.666667   \n",
       "75%             0.000000                             9.330000   \n",
       "max             1.000000                            34.416667   \n",
       "\n",
       "       total_pemakaian  sisa_tagihan_per_jumlah_kartu  sisa_tagihan_per_limit  \\\n",
       "count     1.549300e+04                   1.549300e+04            15493.000000   \n",
       "mean      2.100421e+06                   2.968060e+06                0.468246   \n",
       "std       8.092612e+06                   6.262192e+06                0.473056   \n",
       "min      -1.566720e+07                   0.000000e+00                0.000000   \n",
       "25%       0.000000e+00                   0.000000e+00                0.000000   \n",
       "50%       2.480000e+05                   1.209318e+06                0.335000   \n",
       "75%       1.512235e+06                   3.088477e+06                0.930000   \n",
       "max       3.140000e+08                   1.480000e+08                7.240000   \n",
       "\n",
       "       total_pemakaian_per_limit  pemakaian_3bln_per_limit  \\\n",
       "count               15493.000000              15493.000000   \n",
       "mean                    0.109362                  0.167446   \n",
       "std                     0.200159                  0.192327   \n",
       "min                    -0.632000                 -0.126000   \n",
       "25%                     0.000000                  0.035200   \n",
       "50%                     0.022100                  0.108000   \n",
       "75%                     0.128000                  0.239000   \n",
       "max                     4.600000                  3.490000   \n",
       "\n",
       "       pemakaian_6bln_per_limit  utilisasi_3bulan  utilisasi_6bulan  \n",
       "count              15493.000000      15493.000000      15493.000000  \n",
       "mean                   0.202609          0.571102          0.533719  \n",
       "std                    0.274293          0.411928          0.432350  \n",
       "min                   -0.569000          0.000288          0.000000  \n",
       "25%                    0.032900          0.189000          0.155000  \n",
       "50%                    0.117000          0.575000          0.496000  \n",
       "75%                    0.285000          0.917000          0.863000  \n",
       "max                    8.110000          8.125671          9.730000  "
      ]
     },
     "execution_count": 9,
     "metadata": {},
     "output_type": "execute_result"
    }
   ],
   "source": [
    "train.describe()"
   ]
  },
  {
   "cell_type": "code",
   "execution_count": 10,
   "metadata": {},
   "outputs": [
    {
     "data": {
      "text/html": [
       "<div>\n",
       "<style scoped>\n",
       "    .dataframe tbody tr th:only-of-type {\n",
       "        vertical-align: middle;\n",
       "    }\n",
       "\n",
       "    .dataframe tbody tr th {\n",
       "        vertical-align: top;\n",
       "    }\n",
       "\n",
       "    .dataframe thead th {\n",
       "        text-align: right;\n",
       "    }\n",
       "</style>\n",
       "<table border=\"1\" class=\"dataframe\">\n",
       "  <thead>\n",
       "    <tr style=\"text-align: right;\">\n",
       "      <th></th>\n",
       "      <th>dataFeatures</th>\n",
       "      <th>dataType</th>\n",
       "      <th>null</th>\n",
       "      <th>nullPct</th>\n",
       "      <th>unique</th>\n",
       "      <th>uniqueSample</th>\n",
       "    </tr>\n",
       "  </thead>\n",
       "  <tbody>\n",
       "    <tr>\n",
       "      <th>0</th>\n",
       "      <td>id</td>\n",
       "      <td>int64</td>\n",
       "      <td>0</td>\n",
       "      <td>0.00</td>\n",
       "      <td>15493</td>\n",
       "      <td>[4008, 11557]</td>\n",
       "    </tr>\n",
       "    <tr>\n",
       "      <th>1</th>\n",
       "      <td>jumlah_kartu</td>\n",
       "      <td>int64</td>\n",
       "      <td>0</td>\n",
       "      <td>0.00</td>\n",
       "      <td>15</td>\n",
       "      <td>[16, 9]</td>\n",
       "    </tr>\n",
       "    <tr>\n",
       "      <th>2</th>\n",
       "      <td>outstanding</td>\n",
       "      <td>int64</td>\n",
       "      <td>0</td>\n",
       "      <td>0.00</td>\n",
       "      <td>10359</td>\n",
       "      <td>[4950865, 37475859]</td>\n",
       "    </tr>\n",
       "    <tr>\n",
       "      <th>3</th>\n",
       "      <td>limit_kredit</td>\n",
       "      <td>float64</td>\n",
       "      <td>0</td>\n",
       "      <td>0.00</td>\n",
       "      <td>150</td>\n",
       "      <td>[67000000.0, 300000000.0]</td>\n",
       "    </tr>\n",
       "    <tr>\n",
       "      <th>4</th>\n",
       "      <td>tagihan</td>\n",
       "      <td>float64</td>\n",
       "      <td>0</td>\n",
       "      <td>0.00</td>\n",
       "      <td>10018</td>\n",
       "      <td>[5418951.0, 5810717.0]</td>\n",
       "    </tr>\n",
       "    <tr>\n",
       "      <th>5</th>\n",
       "      <td>total_pemakaian_tunai</td>\n",
       "      <td>float64</td>\n",
       "      <td>0</td>\n",
       "      <td>0.00</td>\n",
       "      <td>94</td>\n",
       "      <td>[175000.0, 900000.0]</td>\n",
       "    </tr>\n",
       "    <tr>\n",
       "      <th>6</th>\n",
       "      <td>total_pemakaian_retail</td>\n",
       "      <td>float64</td>\n",
       "      <td>0</td>\n",
       "      <td>0.00</td>\n",
       "      <td>5714</td>\n",
       "      <td>[11561.0, 2777220.0]</td>\n",
       "    </tr>\n",
       "    <tr>\n",
       "      <th>7</th>\n",
       "      <td>sisa_tagihan_tidak_terbayar</td>\n",
       "      <td>float64</td>\n",
       "      <td>0</td>\n",
       "      <td>0.00</td>\n",
       "      <td>6947</td>\n",
       "      <td>[12172162.0, 3086806.0]</td>\n",
       "    </tr>\n",
       "    <tr>\n",
       "      <th>8</th>\n",
       "      <td>kode_cabang</td>\n",
       "      <td>object</td>\n",
       "      <td>100</td>\n",
       "      <td>0.65</td>\n",
       "      <td>11</td>\n",
       "      <td>[B, A]</td>\n",
       "    </tr>\n",
       "    <tr>\n",
       "      <th>9</th>\n",
       "      <td>rasio_pembayaran</td>\n",
       "      <td>float64</td>\n",
       "      <td>0</td>\n",
       "      <td>0.00</td>\n",
       "      <td>1665</td>\n",
       "      <td>[12.5, 31.2]</td>\n",
       "    </tr>\n",
       "    <tr>\n",
       "      <th>10</th>\n",
       "      <td>persentasi_overlimit</td>\n",
       "      <td>float64</td>\n",
       "      <td>0</td>\n",
       "      <td>0.00</td>\n",
       "      <td>1222</td>\n",
       "      <td>[67.2, 9.63]</td>\n",
       "    </tr>\n",
       "    <tr>\n",
       "      <th>11</th>\n",
       "      <td>rasio_pembayaran_3bulan</td>\n",
       "      <td>float64</td>\n",
       "      <td>0</td>\n",
       "      <td>0.00</td>\n",
       "      <td>2574</td>\n",
       "      <td>[30.7, 7.82]</td>\n",
       "    </tr>\n",
       "    <tr>\n",
       "      <th>12</th>\n",
       "      <td>rasio_pembayaran_6bulan</td>\n",
       "      <td>float64</td>\n",
       "      <td>0</td>\n",
       "      <td>0.00</td>\n",
       "      <td>2416</td>\n",
       "      <td>[20.45, 82.5]</td>\n",
       "    </tr>\n",
       "    <tr>\n",
       "      <th>13</th>\n",
       "      <td>skor_delikuensi</td>\n",
       "      <td>int64</td>\n",
       "      <td>0</td>\n",
       "      <td>0.00</td>\n",
       "      <td>6</td>\n",
       "      <td>[0, 5]</td>\n",
       "    </tr>\n",
       "    <tr>\n",
       "      <th>14</th>\n",
       "      <td>flag_kredit_macet</td>\n",
       "      <td>int64</td>\n",
       "      <td>0</td>\n",
       "      <td>0.00</td>\n",
       "      <td>2</td>\n",
       "      <td>[0, 1]</td>\n",
       "    </tr>\n",
       "    <tr>\n",
       "      <th>15</th>\n",
       "      <td>jumlah_tahun_sejak_pembukaan_kredit</td>\n",
       "      <td>float64</td>\n",
       "      <td>0</td>\n",
       "      <td>0.00</td>\n",
       "      <td>448</td>\n",
       "      <td>[6.166666667, 9.083333332999999]</td>\n",
       "    </tr>\n",
       "    <tr>\n",
       "      <th>16</th>\n",
       "      <td>total_pemakaian</td>\n",
       "      <td>float64</td>\n",
       "      <td>0</td>\n",
       "      <td>0.00</td>\n",
       "      <td>5990</td>\n",
       "      <td>[970000.0, 3753400.0]</td>\n",
       "    </tr>\n",
       "    <tr>\n",
       "      <th>17</th>\n",
       "      <td>sisa_tagihan_per_jumlah_kartu</td>\n",
       "      <td>float64</td>\n",
       "      <td>0</td>\n",
       "      <td>0.00</td>\n",
       "      <td>8524</td>\n",
       "      <td>[1353055.0, 1516274.0]</td>\n",
       "    </tr>\n",
       "    <tr>\n",
       "      <th>18</th>\n",
       "      <td>sisa_tagihan_per_limit</td>\n",
       "      <td>float64</td>\n",
       "      <td>0</td>\n",
       "      <td>0.00</td>\n",
       "      <td>3235</td>\n",
       "      <td>[1.067784742, 0.0944]</td>\n",
       "    </tr>\n",
       "    <tr>\n",
       "      <th>19</th>\n",
       "      <td>total_pemakaian_per_limit</td>\n",
       "      <td>float64</td>\n",
       "      <td>0</td>\n",
       "      <td>0.00</td>\n",
       "      <td>3634</td>\n",
       "      <td>[0.0539, 0.18897]</td>\n",
       "    </tr>\n",
       "    <tr>\n",
       "      <th>20</th>\n",
       "      <td>pemakaian_3bln_per_limit</td>\n",
       "      <td>float64</td>\n",
       "      <td>0</td>\n",
       "      <td>0.00</td>\n",
       "      <td>4015</td>\n",
       "      <td>[0.08900000000000001, 0.136903466]</td>\n",
       "    </tr>\n",
       "    <tr>\n",
       "      <th>21</th>\n",
       "      <td>pemakaian_6bln_per_limit</td>\n",
       "      <td>float64</td>\n",
       "      <td>0</td>\n",
       "      <td>0.00</td>\n",
       "      <td>4049</td>\n",
       "      <td>[0.293858117, 0.0399]</td>\n",
       "    </tr>\n",
       "    <tr>\n",
       "      <th>22</th>\n",
       "      <td>utilisasi_3bulan</td>\n",
       "      <td>float64</td>\n",
       "      <td>0</td>\n",
       "      <td>0.00</td>\n",
       "      <td>4094</td>\n",
       "      <td>[0.056970825, 0.5947927279999999]</td>\n",
       "    </tr>\n",
       "    <tr>\n",
       "      <th>23</th>\n",
       "      <td>utilisasi_6bulan</td>\n",
       "      <td>float64</td>\n",
       "      <td>0</td>\n",
       "      <td>0.00</td>\n",
       "      <td>4151</td>\n",
       "      <td>[1.207130668, 0.8140000000000001]</td>\n",
       "    </tr>\n",
       "  </tbody>\n",
       "</table>\n",
       "</div>"
      ],
      "text/plain": [
       "                           dataFeatures dataType  null  nullPct  unique  \\\n",
       "0                                    id    int64     0     0.00   15493   \n",
       "1                          jumlah_kartu    int64     0     0.00      15   \n",
       "2                           outstanding    int64     0     0.00   10359   \n",
       "3                          limit_kredit  float64     0     0.00     150   \n",
       "4                               tagihan  float64     0     0.00   10018   \n",
       "5                 total_pemakaian_tunai  float64     0     0.00      94   \n",
       "6                total_pemakaian_retail  float64     0     0.00    5714   \n",
       "7           sisa_tagihan_tidak_terbayar  float64     0     0.00    6947   \n",
       "8                           kode_cabang   object   100     0.65      11   \n",
       "9                      rasio_pembayaran  float64     0     0.00    1665   \n",
       "10                 persentasi_overlimit  float64     0     0.00    1222   \n",
       "11              rasio_pembayaran_3bulan  float64     0     0.00    2574   \n",
       "12              rasio_pembayaran_6bulan  float64     0     0.00    2416   \n",
       "13                      skor_delikuensi    int64     0     0.00       6   \n",
       "14                    flag_kredit_macet    int64     0     0.00       2   \n",
       "15  jumlah_tahun_sejak_pembukaan_kredit  float64     0     0.00     448   \n",
       "16                      total_pemakaian  float64     0     0.00    5990   \n",
       "17        sisa_tagihan_per_jumlah_kartu  float64     0     0.00    8524   \n",
       "18               sisa_tagihan_per_limit  float64     0     0.00    3235   \n",
       "19            total_pemakaian_per_limit  float64     0     0.00    3634   \n",
       "20             pemakaian_3bln_per_limit  float64     0     0.00    4015   \n",
       "21             pemakaian_6bln_per_limit  float64     0     0.00    4049   \n",
       "22                     utilisasi_3bulan  float64     0     0.00    4094   \n",
       "23                     utilisasi_6bulan  float64     0     0.00    4151   \n",
       "\n",
       "                          uniqueSample  \n",
       "0                        [4008, 11557]  \n",
       "1                              [16, 9]  \n",
       "2                  [4950865, 37475859]  \n",
       "3            [67000000.0, 300000000.0]  \n",
       "4               [5418951.0, 5810717.0]  \n",
       "5                 [175000.0, 900000.0]  \n",
       "6                 [11561.0, 2777220.0]  \n",
       "7              [12172162.0, 3086806.0]  \n",
       "8                               [B, A]  \n",
       "9                         [12.5, 31.2]  \n",
       "10                        [67.2, 9.63]  \n",
       "11                        [30.7, 7.82]  \n",
       "12                       [20.45, 82.5]  \n",
       "13                              [0, 5]  \n",
       "14                              [0, 1]  \n",
       "15    [6.166666667, 9.083333332999999]  \n",
       "16               [970000.0, 3753400.0]  \n",
       "17              [1353055.0, 1516274.0]  \n",
       "18               [1.067784742, 0.0944]  \n",
       "19                   [0.0539, 0.18897]  \n",
       "20  [0.08900000000000001, 0.136903466]  \n",
       "21               [0.293858117, 0.0399]  \n",
       "22   [0.056970825, 0.5947927279999999]  \n",
       "23   [1.207130668, 0.8140000000000001]  "
      ]
     },
     "execution_count": 10,
     "metadata": {},
     "output_type": "execute_result"
    }
   ],
   "source": [
    "listItem = []\n",
    "for col in train.columns :\n",
    "    listItem.append([col, train[col].dtype, train[col].isna().sum(), round((train[col].isna().sum()/len(train[col])) * 100,2),\n",
    "                    train[col].nunique(), list(train[col].drop_duplicates().sample(2).values)]);\n",
    "\n",
    "dfDesc = pd.DataFrame(columns=['dataFeatures', 'dataType', 'null', 'nullPct', 'unique', 'uniqueSample'],\n",
    "                     data=listItem)\n",
    "dfDesc"
   ]
  },
  {
   "cell_type": "code",
   "execution_count": 11,
   "metadata": {},
   "outputs": [
    {
     "data": {
      "text/html": [
       "<div>\n",
       "<style scoped>\n",
       "    .dataframe tbody tr th:only-of-type {\n",
       "        vertical-align: middle;\n",
       "    }\n",
       "\n",
       "    .dataframe tbody tr th {\n",
       "        vertical-align: top;\n",
       "    }\n",
       "\n",
       "    .dataframe thead th {\n",
       "        text-align: right;\n",
       "    }\n",
       "</style>\n",
       "<table border=\"1\" class=\"dataframe\">\n",
       "  <thead>\n",
       "    <tr style=\"text-align: right;\">\n",
       "      <th></th>\n",
       "      <th>id</th>\n",
       "      <th>jumlah_kartu</th>\n",
       "      <th>outstanding</th>\n",
       "      <th>limit_kredit</th>\n",
       "      <th>tagihan</th>\n",
       "      <th>total_pemakaian_tunai</th>\n",
       "      <th>total_pemakaian_retail</th>\n",
       "      <th>sisa_tagihan_tidak_terbayar</th>\n",
       "      <th>kode_cabang</th>\n",
       "      <th>rasio_pembayaran</th>\n",
       "      <th>persentasi_overlimit</th>\n",
       "      <th>rasio_pembayaran_3bulan</th>\n",
       "      <th>rasio_pembayaran_6bulan</th>\n",
       "      <th>skor_delikuensi</th>\n",
       "      <th>flag_kredit_macet</th>\n",
       "      <th>jumlah_tahun_sejak_pembukaan_kredit</th>\n",
       "      <th>total_pemakaian</th>\n",
       "      <th>sisa_tagihan_per_jumlah_kartu</th>\n",
       "      <th>sisa_tagihan_per_limit</th>\n",
       "      <th>total_pemakaian_per_limit</th>\n",
       "      <th>pemakaian_3bln_per_limit</th>\n",
       "      <th>pemakaian_6bln_per_limit</th>\n",
       "      <th>utilisasi_3bulan</th>\n",
       "      <th>utilisasi_6bulan</th>\n",
       "    </tr>\n",
       "  </thead>\n",
       "  <tbody>\n",
       "    <tr>\n",
       "      <th>1815</th>\n",
       "      <td>1816</td>\n",
       "      <td>16</td>\n",
       "      <td>80828619</td>\n",
       "      <td>89000000.0</td>\n",
       "      <td>76815260.0</td>\n",
       "      <td>0.0</td>\n",
       "      <td>-1113166.0</td>\n",
       "      <td>75524675.0</td>\n",
       "      <td>A</td>\n",
       "      <td>0.0</td>\n",
       "      <td>0.00</td>\n",
       "      <td>9.82</td>\n",
       "      <td>26.2</td>\n",
       "      <td>0</td>\n",
       "      <td>1</td>\n",
       "      <td>10.083333</td>\n",
       "      <td>-1113166.0</td>\n",
       "      <td>4720292.188</td>\n",
       "      <td>0.848592</td>\n",
       "      <td>-0.012507</td>\n",
       "      <td>0.000</td>\n",
       "      <td>0.080805</td>\n",
       "      <td>0.901</td>\n",
       "      <td>0.999798</td>\n",
       "    </tr>\n",
       "    <tr>\n",
       "      <th>13339</th>\n",
       "      <td>13340</td>\n",
       "      <td>16</td>\n",
       "      <td>99880887</td>\n",
       "      <td>150000000.0</td>\n",
       "      <td>2488844.0</td>\n",
       "      <td>0.0</td>\n",
       "      <td>44000000.0</td>\n",
       "      <td>6064580.0</td>\n",
       "      <td>A</td>\n",
       "      <td>0.0</td>\n",
       "      <td>0.18</td>\n",
       "      <td>97.10</td>\n",
       "      <td>88.6</td>\n",
       "      <td>0</td>\n",
       "      <td>0</td>\n",
       "      <td>27.700000</td>\n",
       "      <td>44000000.0</td>\n",
       "      <td>379036.000</td>\n",
       "      <td>0.040400</td>\n",
       "      <td>0.294000</td>\n",
       "      <td>0.349</td>\n",
       "      <td>0.565000</td>\n",
       "      <td>0.436</td>\n",
       "      <td>0.444000</td>\n",
       "    </tr>\n",
       "  </tbody>\n",
       "</table>\n",
       "</div>"
      ],
      "text/plain": [
       "          id  jumlah_kartu  outstanding  limit_kredit     tagihan  \\\n",
       "1815    1816            16     80828619    89000000.0  76815260.0   \n",
       "13339  13340            16     99880887   150000000.0   2488844.0   \n",
       "\n",
       "       total_pemakaian_tunai  total_pemakaian_retail  \\\n",
       "1815                     0.0              -1113166.0   \n",
       "13339                    0.0              44000000.0   \n",
       "\n",
       "       sisa_tagihan_tidak_terbayar kode_cabang  rasio_pembayaran  \\\n",
       "1815                    75524675.0           A               0.0   \n",
       "13339                    6064580.0           A               0.0   \n",
       "\n",
       "       persentasi_overlimit  rasio_pembayaran_3bulan  rasio_pembayaran_6bulan  \\\n",
       "1815                   0.00                     9.82                     26.2   \n",
       "13339                  0.18                    97.10                     88.6   \n",
       "\n",
       "       skor_delikuensi  flag_kredit_macet  \\\n",
       "1815                 0                  1   \n",
       "13339                0                  0   \n",
       "\n",
       "       jumlah_tahun_sejak_pembukaan_kredit  total_pemakaian  \\\n",
       "1815                             10.083333       -1113166.0   \n",
       "13339                            27.700000       44000000.0   \n",
       "\n",
       "       sisa_tagihan_per_jumlah_kartu  sisa_tagihan_per_limit  \\\n",
       "1815                     4720292.188                0.848592   \n",
       "13339                     379036.000                0.040400   \n",
       "\n",
       "       total_pemakaian_per_limit  pemakaian_3bln_per_limit  \\\n",
       "1815                   -0.012507                     0.000   \n",
       "13339                   0.294000                     0.349   \n",
       "\n",
       "       pemakaian_6bln_per_limit  utilisasi_3bulan  utilisasi_6bulan  \n",
       "1815                   0.080805             0.901          0.999798  \n",
       "13339                  0.565000             0.436          0.444000  "
      ]
     },
     "execution_count": 11,
     "metadata": {},
     "output_type": "execute_result"
    }
   ],
   "source": [
    "train[train['jumlah_kartu'] == 16]"
   ]
  },
  {
   "cell_type": "code",
   "execution_count": 12,
   "metadata": {},
   "outputs": [
    {
     "data": {
      "text/plain": [
       "0    14134\n",
       "1     1359\n",
       "Name: flag_kredit_macet, dtype: int64"
      ]
     },
     "execution_count": 12,
     "metadata": {},
     "output_type": "execute_result"
    }
   ],
   "source": [
    "train['flag_kredit_macet'].value_counts()"
   ]
  },
  {
   "cell_type": "code",
   "execution_count": 13,
   "metadata": {},
   "outputs": [
    {
     "data": {
      "text/plain": [
       "0    0.912283\n",
       "1    0.087717\n",
       "Name: flag_kredit_macet, dtype: float64"
      ]
     },
     "execution_count": 13,
     "metadata": {},
     "output_type": "execute_result"
    }
   ],
   "source": [
    "train['flag_kredit_macet'].value_counts(normalize=True)"
   ]
  },
  {
   "cell_type": "markdown",
   "metadata": {},
   "source": [
    "# Remove Outliers"
   ]
  },
  {
   "cell_type": "code",
   "execution_count": 14,
   "metadata": {},
   "outputs": [],
   "source": [
    "def detect_outliers(df,n,features):\n",
    "    \"\"\"\n",
    "    Takes a dataframe df of features and returns a list of the indices\n",
    "    corresponding to the observations containing more than n outliers according\n",
    "    to the Tukey method.\n",
    "    \"\"\"\n",
    "    outlier_id = []\n",
    "    features_upper_outlier = []\n",
    "    features_bottom_outlier = []\n",
    "    \n",
    "    # iterate over features(columns)\n",
    "    for col in features:\n",
    "        # 1st quartile (25%)\n",
    "        Q1 = np.percentile(df[col], 25)\n",
    "        \n",
    "        # 3rd quartile (75%)\n",
    "        Q3 = np.percentile(df[col],75)\n",
    "        \n",
    "        # Interquartile range (IQR)\n",
    "        IQR = Q3 - Q1\n",
    "        \n",
    "        # outlier step\n",
    "        outlier_step = 1.5 * IQR\n",
    "        features_upper_outlier.append(Q3 + outlier_step)\n",
    "        features_bottom_outlier.append(Q1 - outlier_step)\n",
    "        \n",
    "        # Determine a list of indices of outliers for feature col\n",
    "        outlier_list_col = df[(df[col] < Q1 - outlier_step) | (df[col] > Q3 + outlier_step)]['id']\n",
    "        \n",
    "        # append the found outlier indices for col to the list of outlier indices\n",
    "        outlier_id.extend(outlier_list_col)\n",
    "        \n",
    "    # select observations containing more than 3 outliers\n",
    "    outlier_id_counter = Counter(outlier_id)\n",
    "    multiple_outliers = list( k for k, v in outlier_id_counter.items() if v > n )\n",
    "    \n",
    "    return multiple_outliers"
   ]
  },
  {
   "cell_type": "code",
   "execution_count": 15,
   "metadata": {},
   "outputs": [],
   "source": [
    "# arr = [1,2,3]\n",
    "# b = [4,5,6]\n",
    "# arr.append(b)\n",
    "# arr"
   ]
  },
  {
   "cell_type": "code",
   "execution_count": 16,
   "metadata": {},
   "outputs": [],
   "source": [
    "# arr = [1,2,3]\n",
    "# b = [4,5,6]\n",
    "# arr.extend(b)\n",
    "# arr"
   ]
  },
  {
   "cell_type": "code",
   "execution_count": 17,
   "metadata": {},
   "outputs": [],
   "source": [
    "# arr = [1,2,2,2,2,3,3]\n",
    "# c = Counter(arr)\n",
    "# c"
   ]
  },
  {
   "cell_type": "code",
   "execution_count": 18,
   "metadata": {},
   "outputs": [],
   "source": [
    "# c.items()"
   ]
  },
  {
   "cell_type": "code",
   "execution_count": 19,
   "metadata": {},
   "outputs": [],
   "source": [
    "features_basic_numerical = train.drop(['id', 'flag_kredit_macet', 'skor_delikuensi'], axis=1).select_dtypes(exclude=['object']).columns\n",
    "outliers_to_drop = detect_outliers(train,3,features_basic_numerical)"
   ]
  },
  {
   "cell_type": "code",
   "execution_count": 20,
   "metadata": {},
   "outputs": [],
   "source": [
    "id_to_drop = train[(train['id'].isin(outliers_to_drop)) & (train.flag_kredit_macet == 0)].id.tolist()"
   ]
  },
  {
   "cell_type": "code",
   "execution_count": 21,
   "metadata": {},
   "outputs": [
    {
     "data": {
      "text/plain": [
       "2034"
      ]
     },
     "execution_count": 21,
     "metadata": {},
     "output_type": "execute_result"
    }
   ],
   "source": [
    "len(id_to_drop)"
   ]
  },
  {
   "cell_type": "code",
   "execution_count": 22,
   "metadata": {},
   "outputs": [],
   "source": [
    "train = train[~train.id.isin(id_to_drop)]"
   ]
  },
  {
   "cell_type": "code",
   "execution_count": 23,
   "metadata": {},
   "outputs": [
    {
     "data": {
      "text/plain": [
       "0    12100\n",
       "1     1359\n",
       "Name: flag_kredit_macet, dtype: int64"
      ]
     },
     "execution_count": 23,
     "metadata": {},
     "output_type": "execute_result"
    }
   ],
   "source": [
    "train['flag_kredit_macet'].value_counts()"
   ]
  },
  {
   "cell_type": "code",
   "execution_count": 24,
   "metadata": {},
   "outputs": [
    {
     "data": {
      "text/plain": [
       "0    0.899027\n",
       "1    0.100973\n",
       "Name: flag_kredit_macet, dtype: float64"
      ]
     },
     "execution_count": 24,
     "metadata": {},
     "output_type": "execute_result"
    }
   ],
   "source": [
    "train['flag_kredit_macet'].value_counts(normalize=True)"
   ]
  },
  {
   "cell_type": "markdown",
   "metadata": {},
   "source": [
    "# Insert Missing Value"
   ]
  },
  {
   "cell_type": "code",
   "execution_count": 25,
   "metadata": {},
   "outputs": [
    {
     "data": {
      "text/plain": [
       "0    77\n",
       "1     5\n",
       "Name: flag_kredit_macet, dtype: int64"
      ]
     },
     "execution_count": 25,
     "metadata": {},
     "output_type": "execute_result"
    }
   ],
   "source": [
    "train[pd.isnull(train['kode_cabang'])]['flag_kredit_macet'].value_counts()"
   ]
  },
  {
   "cell_type": "code",
   "execution_count": 26,
   "metadata": {},
   "outputs": [
    {
     "data": {
      "text/plain": [
       "A    7359\n",
       "F    1502\n",
       "B    1214\n",
       "I     887\n",
       "E     531\n",
       "G     524\n",
       "J     384\n",
       "H     335\n",
       "C     304\n",
       "D     182\n",
       "K     155\n",
       "Name: kode_cabang, dtype: int64"
      ]
     },
     "execution_count": 26,
     "metadata": {},
     "output_type": "execute_result"
    }
   ],
   "source": [
    "train['kode_cabang'].value_counts()"
   ]
  },
  {
   "cell_type": "code",
   "execution_count": 27,
   "metadata": {},
   "outputs": [
    {
     "data": {
      "text/plain": [
       "array(['I', 'A', 'G', 'B', 'E', 'K', 'F', 'C', 'J', 'H', nan, 'D'],\n",
       "      dtype=object)"
      ]
     },
     "execution_count": 27,
     "metadata": {},
     "output_type": "execute_result"
    }
   ],
   "source": [
    "train['kode_cabang'].unique()"
   ]
  },
  {
   "cell_type": "code",
   "execution_count": 28,
   "metadata": {},
   "outputs": [
    {
     "data": {
      "text/plain": [
       "I    0.114994\n",
       "K    0.109677\n",
       "B    0.108731\n",
       "E    0.107345\n",
       "A    0.104226\n",
       "H    0.098507\n",
       "F    0.095872\n",
       "C    0.088816\n",
       "J    0.085938\n",
       "D    0.065934\n",
       "G    0.057252\n",
       "dtype: float64"
      ]
     },
     "execution_count": 28,
     "metadata": {},
     "output_type": "execute_result"
    }
   ],
   "source": [
    "kode = []\n",
    "value = []\n",
    "for k in train['kode_cabang'].unique() :\n",
    "    totalKM = sum(train[train['kode_cabang'] == k]['flag_kredit_macet'])\n",
    "    meanK = 0\n",
    "    if(totalKM > 0) :\n",
    "        meanK = sum(train[train['kode_cabang'] == k]['flag_kredit_macet'])/len(train[train['kode_cabang'] == k])\n",
    "        kode.append(k)\n",
    "        value.append(meanK)\n",
    "\n",
    "serCabang = pd.Series(value,index=kode)\n",
    "serCabang.sort_values(ascending=False)"
   ]
  },
  {
   "cell_type": "code",
   "execution_count": 29,
   "metadata": {},
   "outputs": [
    {
     "data": {
      "text/plain": [
       "kode_cabang\n",
       "I    0.114994\n",
       "K    0.109677\n",
       "B    0.108731\n",
       "E    0.107345\n",
       "A    0.104226\n",
       "H    0.098507\n",
       "F    0.095872\n",
       "C    0.088816\n",
       "J    0.085938\n",
       "D    0.065934\n",
       "G    0.057252\n",
       "Name: flag_kredit_macet, dtype: float64"
      ]
     },
     "execution_count": 29,
     "metadata": {},
     "output_type": "execute_result"
    }
   ],
   "source": [
    "train.groupby('kode_cabang').mean()['flag_kredit_macet'].sort_values(ascending=False)"
   ]
  },
  {
   "cell_type": "code",
   "execution_count": 30,
   "metadata": {},
   "outputs": [
    {
     "name": "stderr",
     "output_type": "stream",
     "text": [
      "C:\\Users\\harto\\Anaconda3\\lib\\site-packages\\seaborn\\categorical.py:3666: UserWarning: The `factorplot` function has been renamed to `catplot`. The original name will be removed in a future release. Please update your code. Note that the default `kind` in `factorplot` (`'point'`) has changed `'strip'` in `catplot`.\n",
      "  warnings.warn(msg)\n",
      "C:\\Users\\harto\\Anaconda3\\lib\\site-packages\\seaborn\\categorical.py:3672: UserWarning: The `size` paramter has been renamed to `height`; please update your code.\n",
      "  warnings.warn(msg, UserWarning)\n"
     ]
    },
    {
     "data": {
      "image/png": "[encoded data removed]",
      "text/plain": [
       "<Figure size 432x432 with 1 Axes>"
      ]
     },
     "metadata": {},
     "output_type": "display_data"
    }
   ],
   "source": [
    "# g = sns.factorplot(x=\"kode_cabang\",y=\"flag_kredit_macet\",\n",
    "#                    data=train,kind=\"bar\", size = 6, \n",
    "#                    palette = \"muted\", estimator=np.mean,\n",
    "#                   order=serCabang.sort_values(ascending=False).index)\n",
    "g = sns.factorplot(x=\"kode_cabang\",y=\"flag_kredit_macet\",\n",
    "                   data=train,kind=\"bar\", size = 6, \n",
    "                   palette = \"muted\", estimator=np.mean,\n",
    "                  order=train.groupby('kode_cabang').mean()['flag_kredit_macet'].sort_values(ascending=False).index)\n",
    "g.despine(left=True)\n",
    "g = g.set_ylabels(\"default probability\")"
   ]
  },
  {
   "cell_type": "code",
   "execution_count": 31,
   "metadata": {},
   "outputs": [],
   "source": [
    "# train = train.fillna('I')\n",
    "train = train.fillna(train.groupby('kode_cabang').mean()['flag_kredit_macet'].sort_values(ascending=False).index[0])"
   ]
  },
  {
   "cell_type": "code",
   "execution_count": 32,
   "metadata": {},
   "outputs": [
    {
     "name": "stdout",
     "output_type": "stream",
     "text": [
      "<class 'pandas.core.frame.DataFrame'>\n",
      "Int64Index: 13459 entries, 0 to 15492\n",
      "Data columns (total 24 columns):\n",
      "id                                     13459 non-null int64\n",
      "jumlah_kartu                           13459 non-null int64\n",
      "outstanding                            13459 non-null int64\n",
      "limit_kredit                           13459 non-null float64\n",
      "tagihan                                13459 non-null float64\n",
      "total_pemakaian_tunai                  13459 non-null float64\n",
      "total_pemakaian_retail                 13459 non-null float64\n",
      "sisa_tagihan_tidak_terbayar            13459 non-null float64\n",
      "kode_cabang                            13459 non-null object\n",
      "rasio_pembayaran                       13459 non-null float64\n",
      "persentasi_overlimit                   13459 non-null float64\n",
      "rasio_pembayaran_3bulan                13459 non-null float64\n",
      "rasio_pembayaran_6bulan                13459 non-null float64\n",
      "skor_delikuensi                        13459 non-null int64\n",
      "flag_kredit_macet                      13459 non-null int64\n",
      "jumlah_tahun_sejak_pembukaan_kredit    13459 non-null float64\n",
      "total_pemakaian                        13459 non-null float64\n",
      "sisa_tagihan_per_jumlah_kartu          13459 non-null float64\n",
      "sisa_tagihan_per_limit                 13459 non-null float64\n",
      "total_pemakaian_per_limit              13459 non-null float64\n",
      "pemakaian_3bln_per_limit               13459 non-null float64\n",
      "pemakaian_6bln_per_limit               13459 non-null float64\n",
      "utilisasi_3bulan                       13459 non-null float64\n",
      "utilisasi_6bulan                       13459 non-null float64\n",
      "dtypes: float64(18), int64(5), object(1)\n",
      "memory usage: 3.2+ MB\n"
     ]
    }
   ],
   "source": [
    "train.info()"
   ]
  },
  {
   "cell_type": "markdown",
   "metadata": {},
   "source": [
    "# EDA"
   ]
  },
  {
   "cell_type": "code",
   "execution_count": 33,
   "metadata": {},
   "outputs": [
    {
     "data": {
      "image/png": "[encoded data removed]",
      "text/plain": [
       "<Figure size 432x288 with 1 Axes>"
      ]
     },
     "metadata": {},
     "output_type": "display_data"
    },
    {
     "data": {
      "image/png": "[encoded data removed]",
      "text/plain": [
       "<Figure size 432x288 with 1 Axes>"
      ]
     },
     "metadata": {},
     "output_type": "display_data"
    },
    {
     "data": {
      "image/png": "[encoded data removed]",
      "text/plain": [
       "<Figure size 432x288 with 1 Axes>"
      ]
     },
     "metadata": {},
     "output_type": "display_data"
    },
    {
     "data": {
      "image/png": "[encoded data removed]",
      "text/plain": [
       "<Figure size 432x288 with 1 Axes>"
      ]
     },
     "metadata": {},
     "output_type": "display_data"
    },
    {
     "data": {
      "image/png": "[encoded data removed]",
      "text/plain": [
       "<Figure size 432x288 with 1 Axes>"
      ]
     },
     "metadata": {},
     "output_type": "display_data"
    },
    {
     "data": {
      "image/png": "[encoded data removed]",
      "text/plain": [
       "<Figure size 432x288 with 1 Axes>"
      ]
     },
     "metadata": {},
     "output_type": "display_data"
    },
    {
     "data": {
      "image/png": "[encoded data removed]",
      "text/plain": [
       "<Figure size 432x288 with 1 Axes>"
      ]
     },
     "metadata": {},
     "output_type": "display_data"
    },
    {
     "data": {
      "image/png": "[encoded data removed]",
      "text/plain": [
       "<Figure size 432x288 with 1 Axes>"
      ]
     },
     "metadata": {},
     "output_type": "display_data"
    },
    {
     "data": {
      "image/png": "[encoded data removed]",
      "text/plain": [
       "<Figure size 432x288 with 1 Axes>"
      ]
     },
     "metadata": {},
     "output_type": "display_data"
    },
    {
     "data": {
      "image/png": "[encoded data removed]",
      "text/plain": [
       "<Figure size 432x288 with 1 Axes>"
      ]
     },
     "metadata": {},
     "output_type": "display_data"
    },
    {
     "data": {
      "image/png": "[encoded data removed]",
      "text/plain": [
       "<Figure size 432x288 with 1 Axes>"
      ]
     },
     "metadata": {},
     "output_type": "display_data"
    },
    {
     "data": {
      "image/png": "[encoded data removed]",
      "text/plain": [
       "<Figure size 432x288 with 1 Axes>"
      ]
     },
     "metadata": {},
     "output_type": "display_data"
    },
    {
     "data": {
      "image/png": "[encoded data removed]",
      "text/plain": [
       "<Figure size 432x288 with 1 Axes>"
      ]
     },
     "metadata": {},
     "output_type": "display_data"
    },
    {
     "data": {
      "image/png": "[encoded data removed]",
      "text/plain": [
       "<Figure size 432x288 with 1 Axes>"
      ]
     },
     "metadata": {},
     "output_type": "display_data"
    },
    {
     "data": {
      "image/png": "[encoded data removed]",
      "text/plain": [
       "<Figure size 432x288 with 1 Axes>"
      ]
     },
     "metadata": {},
     "output_type": "display_data"
    },
    {
     "data": {
      "image/png": "[encoded data removed]",
      "text/plain": [
       "<Figure size 432x288 with 1 Axes>"
      ]
     },
     "metadata": {},
     "output_type": "display_data"
    },
    {
     "data": {
      "image/png": "[encoded data removed]",
      "text/plain": [
       "<Figure size 432x288 with 1 Axes>"
      ]
     },
     "metadata": {},
     "output_type": "display_data"
    },
    {
     "data": {
      "image/png": "[encoded data removed]",
      "text/plain": [
       "<Figure size 432x288 with 1 Axes>"
      ]
     },
     "metadata": {},
     "output_type": "display_data"
    },
    {
     "data": {
      "image/png": "[encoded data removed]",
      "text/plain": [
       "<Figure size 432x288 with 1 Axes>"
      ]
     },
     "metadata": {},
     "output_type": "display_data"
    },
    {
     "data": {
      "image/png": "[encoded data removed]",
      "text/plain": [
       "<Figure size 432x288 with 1 Axes>"
      ]
     },
     "metadata": {},
     "output_type": "display_data"
    },
    {
     "data": {
      "image/png": "[encoded data removed]",
      "text/plain": [
       "<Figure size 432x288 with 1 Axes>"
      ]
     },
     "metadata": {},
     "output_type": "display_data"
    }
   ],
   "source": [
    "for col in train.drop(['id', 'flag_kredit_macet'], axis=1).select_dtypes(exclude=['object']).columns :\n",
    "    # plt.figure(figsize=(10,6))\n",
    "    g = sns.kdeplot(train[\n",
    "        (train['flag_kredit_macet']==1) \n",
    "#       & (train[col] <= train[col].mean() + (3 * train[col].std()))\n",
    "#       & (train[col] >= train[col].mean() - (3 * train[col].std()))\n",
    "    ][col], color='red',shade=True)\n",
    "    g = sns.kdeplot(train[\n",
    "        (train['flag_kredit_macet']==0)\n",
    "#       & (train[col] <= train[col].mean() + (3 * train[col].std()))\n",
    "#       & (train[col] >= train[col].mean() - (3 * train[col].std()))\n",
    "    ][col], color='green', shade=True)\n",
    "    plt.legend(['Macet','Tidak Macet'])\n",
    "    plt.xlabel(col)\n",
    "    plt.ylabel('Frequency')\n",
    "    plt.show()"
   ]
  },
  {
   "cell_type": "code",
   "execution_count": 34,
   "metadata": {},
   "outputs": [
    {
     "data": {
      "text/plain": [
       "1    134\n",
       "0     11\n",
       "Name: flag_kredit_macet, dtype: int64"
      ]
     },
     "execution_count": 34,
     "metadata": {},
     "output_type": "execute_result"
    }
   ],
   "source": [
    "train[\n",
    "  (train['tagihan'] > train['tagihan'].mean() + (3 * train['tagihan'].std()))\n",
    "]['flag_kredit_macet'].value_counts()"
   ]
  },
  {
   "cell_type": "code",
   "execution_count": 35,
   "metadata": {},
   "outputs": [
    {
     "data": {
      "text/plain": [
       "Text(0.5,0,'Outstanding')"
      ]
     },
     "execution_count": 35,
     "metadata": {},
     "output_type": "execute_result"
    },
    {
     "data": {
      "image/png": "[encoded data removed]",
      "text/plain": [
       "<Figure size 720x432 with 1 Axes>"
      ]
     },
     "metadata": {},
     "output_type": "display_data"
    }
   ],
   "source": [
    "plt.figure(figsize=(10,6))\n",
    "train[\n",
    "    (train['flag_kredit_macet']==1) \n",
    "  & (train['outstanding'] <= train['outstanding'].mean() + (3 * train['outstanding'].std()))\n",
    "  & (train['outstanding'] >= train['outstanding'].mean() - (3 * train['outstanding'].std()))\n",
    "]['outstanding'].hist(alpha=0.5,color='red', bins=30,label='Macet')\n",
    "train[\n",
    "    (train['flag_kredit_macet']==0)\n",
    "  & (train['outstanding'] <= train['outstanding'].mean() + (3 * train['outstanding'].std()))\n",
    "  & (train['outstanding'] >= train['outstanding'].mean() - (3 * train['outstanding'].std()))\n",
    "]['outstanding'].hist(alpha=0.5,color='blue',bins=30,label='Tidak Macet')\n",
    "plt.legend()\n",
    "plt.xlabel('Outstanding')"
   ]
  },
  {
   "cell_type": "code",
   "execution_count": 36,
   "metadata": {},
   "outputs": [
    {
     "data": {
      "text/plain": [
       "1    134\n",
       "0     12\n",
       "Name: flag_kredit_macet, dtype: int64"
      ]
     },
     "execution_count": 36,
     "metadata": {},
     "output_type": "execute_result"
    }
   ],
   "source": [
    "train[\n",
    "  (train['outstanding'] > train['outstanding'].mean() + (3 * train['outstanding'].std()))\n",
    "]['flag_kredit_macet'].value_counts()"
   ]
  },
  {
   "cell_type": "code",
   "execution_count": 37,
   "metadata": {},
   "outputs": [
    {
     "data": {
      "text/plain": [
       "Text(0.5,0,'Rasio Pembayaran')"
      ]
     },
     "execution_count": 37,
     "metadata": {},
     "output_type": "execute_result"
    },
    {
     "data": {
      "image/png": "[encoded data removed]",
      "text/plain": [
       "<Figure size 720x432 with 1 Axes>"
      ]
     },
     "metadata": {},
     "output_type": "display_data"
    }
   ],
   "source": [
    "plt.figure(figsize=(10,6))\n",
    "train[\n",
    "    (train['flag_kredit_macet']==1) \n",
    "  & (train['rasio_pembayaran'] <= train['rasio_pembayaran'].mean() + (3 * train['rasio_pembayaran'].std()))\n",
    "  & (train['rasio_pembayaran'] >= train['rasio_pembayaran'].mean() - (3 * train['rasio_pembayaran'].std()))\n",
    "]['rasio_pembayaran'].hist(alpha=0.5,color='red', bins=30,label='Macet')\n",
    "train[\n",
    "    (train['flag_kredit_macet']==0)\n",
    "  & (train['rasio_pembayaran'] <= train['rasio_pembayaran'].mean() + (3 * train['rasio_pembayaran'].std()))\n",
    "  & (train['rasio_pembayaran'] >= train['rasio_pembayaran'].mean() - (3 * train['rasio_pembayaran'].std()))\n",
    "]['rasio_pembayaran'].hist(alpha=0.5,color='blue',bins=30,label='Tidak Macet')\n",
    "plt.legend()\n",
    "plt.xlabel('Rasio Pembayaran')"
   ]
  },
  {
   "cell_type": "code",
   "execution_count": 38,
   "metadata": {},
   "outputs": [
    {
     "data": {
      "text/plain": [
       "0    21\n",
       "1     4\n",
       "Name: flag_kredit_macet, dtype: int64"
      ]
     },
     "execution_count": 38,
     "metadata": {},
     "output_type": "execute_result"
    }
   ],
   "source": [
    "train[\n",
    "  (train['rasio_pembayaran'] < 0)\n",
    "]['flag_kredit_macet'].value_counts()"
   ]
  },
  {
   "cell_type": "code",
   "execution_count": 39,
   "metadata": {},
   "outputs": [
    {
     "data": {
      "text/plain": [
       "0    133\n",
       "1     35\n",
       "Name: flag_kredit_macet, dtype: int64"
      ]
     },
     "execution_count": 39,
     "metadata": {},
     "output_type": "execute_result"
    }
   ],
   "source": [
    "train[\n",
    "  (train['total_pemakaian_tunai'] > train['total_pemakaian_tunai'].mean() + (3 * train['total_pemakaian_tunai'].std()))\n",
    "]['flag_kredit_macet'].value_counts()"
   ]
  },
  {
   "cell_type": "code",
   "execution_count": 40,
   "metadata": {
    "scrolled": true
   },
   "outputs": [
    {
     "data": {
      "text/plain": [
       "8887410.992085863"
      ]
     },
     "execution_count": 40,
     "metadata": {},
     "output_type": "execute_result"
    }
   ],
   "source": [
    "train['total_pemakaian_tunai'].mean() + (25 * train['total_pemakaian_tunai'].std())"
   ]
  },
  {
   "cell_type": "code",
   "execution_count": 41,
   "metadata": {},
   "outputs": [
    {
     "data": {
      "text/html": [
       "<div>\n",
       "<style scoped>\n",
       "    .dataframe tbody tr th:only-of-type {\n",
       "        vertical-align: middle;\n",
       "    }\n",
       "\n",
       "    .dataframe tbody tr th {\n",
       "        vertical-align: top;\n",
       "    }\n",
       "\n",
       "    .dataframe thead th {\n",
       "        text-align: right;\n",
       "    }\n",
       "</style>\n",
       "<table border=\"1\" class=\"dataframe\">\n",
       "  <thead>\n",
       "    <tr style=\"text-align: right;\">\n",
       "      <th></th>\n",
       "      <th>id</th>\n",
       "      <th>jumlah_kartu</th>\n",
       "      <th>outstanding</th>\n",
       "      <th>limit_kredit</th>\n",
       "      <th>tagihan</th>\n",
       "      <th>total_pemakaian_tunai</th>\n",
       "      <th>total_pemakaian_retail</th>\n",
       "      <th>sisa_tagihan_tidak_terbayar</th>\n",
       "      <th>kode_cabang</th>\n",
       "      <th>rasio_pembayaran</th>\n",
       "      <th>persentasi_overlimit</th>\n",
       "      <th>rasio_pembayaran_3bulan</th>\n",
       "      <th>rasio_pembayaran_6bulan</th>\n",
       "      <th>skor_delikuensi</th>\n",
       "      <th>flag_kredit_macet</th>\n",
       "      <th>jumlah_tahun_sejak_pembukaan_kredit</th>\n",
       "      <th>total_pemakaian</th>\n",
       "      <th>sisa_tagihan_per_jumlah_kartu</th>\n",
       "      <th>sisa_tagihan_per_limit</th>\n",
       "      <th>total_pemakaian_per_limit</th>\n",
       "      <th>pemakaian_3bln_per_limit</th>\n",
       "      <th>pemakaian_6bln_per_limit</th>\n",
       "      <th>utilisasi_3bulan</th>\n",
       "      <th>utilisasi_6bulan</th>\n",
       "    </tr>\n",
       "  </thead>\n",
       "  <tbody>\n",
       "    <tr>\n",
       "      <th>1607</th>\n",
       "      <td>1608</td>\n",
       "      <td>3</td>\n",
       "      <td>77987704</td>\n",
       "      <td>90000000.0</td>\n",
       "      <td>47580392.0</td>\n",
       "      <td>15000000.0</td>\n",
       "      <td>0.0</td>\n",
       "      <td>75524675.0</td>\n",
       "      <td>A</td>\n",
       "      <td>0.0</td>\n",
       "      <td>0.0</td>\n",
       "      <td>53.08</td>\n",
       "      <td>53.81</td>\n",
       "      <td>0</td>\n",
       "      <td>1</td>\n",
       "      <td>13.083333</td>\n",
       "      <td>15000000.0</td>\n",
       "      <td>25174891.67</td>\n",
       "      <td>0.839163</td>\n",
       "      <td>0.166667</td>\n",
       "      <td>0.15958</td>\n",
       "      <td>0.240722</td>\n",
       "      <td>0.807937</td>\n",
       "      <td>0.823628</td>\n",
       "    </tr>\n",
       "    <tr>\n",
       "      <th>14963</th>\n",
       "      <td>14964</td>\n",
       "      <td>2</td>\n",
       "      <td>15708050</td>\n",
       "      <td>20000000.0</td>\n",
       "      <td>14775895.0</td>\n",
       "      <td>10000000.0</td>\n",
       "      <td>668100.0</td>\n",
       "      <td>14897060.0</td>\n",
       "      <td>A</td>\n",
       "      <td>22.1</td>\n",
       "      <td>0.0</td>\n",
       "      <td>11.80</td>\n",
       "      <td>13.80</td>\n",
       "      <td>0</td>\n",
       "      <td>0</td>\n",
       "      <td>1.000000</td>\n",
       "      <td>10668100.0</td>\n",
       "      <td>7448530.00</td>\n",
       "      <td>0.745000</td>\n",
       "      <td>0.533000</td>\n",
       "      <td>0.08700</td>\n",
       "      <td>0.067500</td>\n",
       "      <td>0.624000</td>\n",
       "      <td>0.616000</td>\n",
       "    </tr>\n",
       "  </tbody>\n",
       "</table>\n",
       "</div>"
      ],
      "text/plain": [
       "          id  jumlah_kartu  outstanding  limit_kredit     tagihan  \\\n",
       "1607    1608             3     77987704    90000000.0  47580392.0   \n",
       "14963  14964             2     15708050    20000000.0  14775895.0   \n",
       "\n",
       "       total_pemakaian_tunai  total_pemakaian_retail  \\\n",
       "1607              15000000.0                     0.0   \n",
       "14963             10000000.0                668100.0   \n",
       "\n",
       "       sisa_tagihan_tidak_terbayar kode_cabang  rasio_pembayaran  \\\n",
       "1607                    75524675.0           A               0.0   \n",
       "14963                   14897060.0           A              22.1   \n",
       "\n",
       "       persentasi_overlimit  rasio_pembayaran_3bulan  rasio_pembayaran_6bulan  \\\n",
       "1607                    0.0                    53.08                    53.81   \n",
       "14963                   0.0                    11.80                    13.80   \n",
       "\n",
       "       skor_delikuensi  flag_kredit_macet  \\\n",
       "1607                 0                  1   \n",
       "14963                0                  0   \n",
       "\n",
       "       jumlah_tahun_sejak_pembukaan_kredit  total_pemakaian  \\\n",
       "1607                             13.083333       15000000.0   \n",
       "14963                             1.000000       10668100.0   \n",
       "\n",
       "       sisa_tagihan_per_jumlah_kartu  sisa_tagihan_per_limit  \\\n",
       "1607                     25174891.67                0.839163   \n",
       "14963                     7448530.00                0.745000   \n",
       "\n",
       "       total_pemakaian_per_limit  pemakaian_3bln_per_limit  \\\n",
       "1607                    0.166667                   0.15958   \n",
       "14963                   0.533000                   0.08700   \n",
       "\n",
       "       pemakaian_6bln_per_limit  utilisasi_3bulan  utilisasi_6bulan  \n",
       "1607                   0.240722          0.807937          0.823628  \n",
       "14963                  0.067500          0.624000          0.616000  "
      ]
     },
     "execution_count": 41,
     "metadata": {},
     "output_type": "execute_result"
    }
   ],
   "source": [
    "train[train['total_pemakaian_tunai'] > (train['total_pemakaian_tunai'].mean() + (25 * train['total_pemakaian_tunai'].std()))]"
   ]
  },
  {
   "cell_type": "markdown",
   "metadata": {},
   "source": [
    "# Correcting Rasio Features"
   ]
  },
  {
   "cell_type": "code",
   "execution_count": 42,
   "metadata": {},
   "outputs": [],
   "source": [
    "train['rasio_pembayaran'] = train['rasio_pembayaran'].apply(lambda ras : 0 if ras < 0 else ras)\n",
    "train['rasio_pembayaran_3bulan'] = train['rasio_pembayaran_3bulan'].apply(lambda ras : 0 if ras < 0 else ras)\n",
    "train['rasio_pembayaran_6bulan'] = train['rasio_pembayaran_6bulan'].apply(lambda ras : 0 if ras < 0 else ras)"
   ]
  },
  {
   "cell_type": "code",
   "execution_count": 43,
   "metadata": {},
   "outputs": [
    {
     "data": {
      "text/html": [
       "<div>\n",
       "<style scoped>\n",
       "    .dataframe tbody tr th:only-of-type {\n",
       "        vertical-align: middle;\n",
       "    }\n",
       "\n",
       "    .dataframe tbody tr th {\n",
       "        vertical-align: top;\n",
       "    }\n",
       "\n",
       "    .dataframe thead th {\n",
       "        text-align: right;\n",
       "    }\n",
       "</style>\n",
       "<table border=\"1\" class=\"dataframe\">\n",
       "  <thead>\n",
       "    <tr style=\"text-align: right;\">\n",
       "      <th></th>\n",
       "      <th>id</th>\n",
       "      <th>jumlah_kartu</th>\n",
       "      <th>outstanding</th>\n",
       "      <th>limit_kredit</th>\n",
       "      <th>tagihan</th>\n",
       "      <th>total_pemakaian_tunai</th>\n",
       "      <th>total_pemakaian_retail</th>\n",
       "      <th>sisa_tagihan_tidak_terbayar</th>\n",
       "      <th>rasio_pembayaran</th>\n",
       "      <th>persentasi_overlimit</th>\n",
       "      <th>rasio_pembayaran_3bulan</th>\n",
       "      <th>rasio_pembayaran_6bulan</th>\n",
       "      <th>skor_delikuensi</th>\n",
       "      <th>flag_kredit_macet</th>\n",
       "      <th>jumlah_tahun_sejak_pembukaan_kredit</th>\n",
       "      <th>total_pemakaian</th>\n",
       "      <th>sisa_tagihan_per_jumlah_kartu</th>\n",
       "      <th>sisa_tagihan_per_limit</th>\n",
       "      <th>total_pemakaian_per_limit</th>\n",
       "      <th>pemakaian_3bln_per_limit</th>\n",
       "      <th>pemakaian_6bln_per_limit</th>\n",
       "      <th>utilisasi_3bulan</th>\n",
       "      <th>utilisasi_6bulan</th>\n",
       "    </tr>\n",
       "  </thead>\n",
       "  <tbody>\n",
       "    <tr>\n",
       "      <th>count</th>\n",
       "      <td>13459.000000</td>\n",
       "      <td>13459.000000</td>\n",
       "      <td>1.345900e+04</td>\n",
       "      <td>1.345900e+04</td>\n",
       "      <td>1.345900e+04</td>\n",
       "      <td>1.345900e+04</td>\n",
       "      <td>1.345900e+04</td>\n",
       "      <td>1.345900e+04</td>\n",
       "      <td>13459.000000</td>\n",
       "      <td>13459.000000</td>\n",
       "      <td>13459.000000</td>\n",
       "      <td>13459.000000</td>\n",
       "      <td>13459.000000</td>\n",
       "      <td>13459.000000</td>\n",
       "      <td>13459.000000</td>\n",
       "      <td>1.345900e+04</td>\n",
       "      <td>1.345900e+04</td>\n",
       "      <td>13459.000000</td>\n",
       "      <td>13459.000000</td>\n",
       "      <td>13459.000000</td>\n",
       "      <td>13459.000000</td>\n",
       "      <td>13459.000000</td>\n",
       "      <td>13459.000000</td>\n",
       "    </tr>\n",
       "    <tr>\n",
       "      <th>mean</th>\n",
       "      <td>7720.642098</td>\n",
       "      <td>2.376402</td>\n",
       "      <td>6.859532e+06</td>\n",
       "      <td>1.600479e+07</td>\n",
       "      <td>4.875820e+06</td>\n",
       "      <td>4.459329e+04</td>\n",
       "      <td>8.984658e+05</td>\n",
       "      <td>4.822436e+06</td>\n",
       "      <td>60.379597</td>\n",
       "      <td>2.934699</td>\n",
       "      <td>69.934091</td>\n",
       "      <td>91.196396</td>\n",
       "      <td>0.005498</td>\n",
       "      <td>0.100973</td>\n",
       "      <td>6.293546</td>\n",
       "      <td>9.430591e+05</td>\n",
       "      <td>1.931639e+06</td>\n",
       "      <td>0.442446</td>\n",
       "      <td>0.086310</td>\n",
       "      <td>0.148454</td>\n",
       "      <td>0.184162</td>\n",
       "      <td>0.539295</td>\n",
       "      <td>0.509423</td>\n",
       "    </tr>\n",
       "    <tr>\n",
       "      <th>std</th>\n",
       "      <td>4475.033870</td>\n",
       "      <td>0.795904</td>\n",
       "      <td>1.528072e+07</td>\n",
       "      <td>2.395373e+07</td>\n",
       "      <td>1.136996e+07</td>\n",
       "      <td>3.537127e+05</td>\n",
       "      <td>2.561418e+06</td>\n",
       "      <td>1.242972e+07</td>\n",
       "      <td>629.464282</td>\n",
       "      <td>8.385325</td>\n",
       "      <td>481.980667</td>\n",
       "      <td>863.396062</td>\n",
       "      <td>0.122390</td>\n",
       "      <td>0.301305</td>\n",
       "      <td>4.429554</td>\n",
       "      <td>2.585494e+06</td>\n",
       "      <td>4.103413e+06</td>\n",
       "      <td>0.463139</td>\n",
       "      <td>0.157144</td>\n",
       "      <td>0.163793</td>\n",
       "      <td>0.248340</td>\n",
       "      <td>0.402185</td>\n",
       "      <td>0.417610</td>\n",
       "    </tr>\n",
       "    <tr>\n",
       "      <th>min</th>\n",
       "      <td>1.000000</td>\n",
       "      <td>1.000000</td>\n",
       "      <td>0.000000e+00</td>\n",
       "      <td>3.000000e+06</td>\n",
       "      <td>2.004300e+04</td>\n",
       "      <td>0.000000e+00</td>\n",
       "      <td>-1.200000e+07</td>\n",
       "      <td>0.000000e+00</td>\n",
       "      <td>0.000000</td>\n",
       "      <td>0.000000</td>\n",
       "      <td>0.000000</td>\n",
       "      <td>0.000000</td>\n",
       "      <td>0.000000</td>\n",
       "      <td>0.000000</td>\n",
       "      <td>0.750000</td>\n",
       "      <td>-1.200000e+07</td>\n",
       "      <td>0.000000e+00</td>\n",
       "      <td>0.000000</td>\n",
       "      <td>-0.632000</td>\n",
       "      <td>-0.126000</td>\n",
       "      <td>-0.569000</td>\n",
       "      <td>0.000288</td>\n",
       "      <td>0.000000</td>\n",
       "    </tr>\n",
       "    <tr>\n",
       "      <th>25%</th>\n",
       "      <td>3839.500000</td>\n",
       "      <td>2.000000</td>\n",
       "      <td>1.571995e+06</td>\n",
       "      <td>5.000000e+06</td>\n",
       "      <td>6.569765e+05</td>\n",
       "      <td>0.000000e+00</td>\n",
       "      <td>0.000000e+00</td>\n",
       "      <td>0.000000e+00</td>\n",
       "      <td>0.000000</td>\n",
       "      <td>0.000000</td>\n",
       "      <td>20.400000</td>\n",
       "      <td>21.400000</td>\n",
       "      <td>0.000000</td>\n",
       "      <td>0.000000</td>\n",
       "      <td>2.830000</td>\n",
       "      <td>0.000000e+00</td>\n",
       "      <td>0.000000e+00</td>\n",
       "      <td>0.000000</td>\n",
       "      <td>0.000000</td>\n",
       "      <td>0.027800</td>\n",
       "      <td>0.026300</td>\n",
       "      <td>0.154000</td>\n",
       "      <td>0.130000</td>\n",
       "    </tr>\n",
       "    <tr>\n",
       "      <th>50%</th>\n",
       "      <td>7705.000000</td>\n",
       "      <td>2.000000</td>\n",
       "      <td>3.850823e+06</td>\n",
       "      <td>8.000000e+06</td>\n",
       "      <td>2.612858e+06</td>\n",
       "      <td>0.000000e+00</td>\n",
       "      <td>1.095000e+05</td>\n",
       "      <td>2.255200e+06</td>\n",
       "      <td>26.600000</td>\n",
       "      <td>0.000000</td>\n",
       "      <td>50.000000</td>\n",
       "      <td>64.200000</td>\n",
       "      <td>0.000000</td>\n",
       "      <td>0.000000</td>\n",
       "      <td>5.420000</td>\n",
       "      <td>1.490000e+05</td>\n",
       "      <td>9.797560e+05</td>\n",
       "      <td>0.262090</td>\n",
       "      <td>0.013900</td>\n",
       "      <td>0.096300</td>\n",
       "      <td>0.106796</td>\n",
       "      <td>0.524000</td>\n",
       "      <td>0.464000</td>\n",
       "    </tr>\n",
       "    <tr>\n",
       "      <th>75%</th>\n",
       "      <td>11611.500000</td>\n",
       "      <td>3.000000</td>\n",
       "      <td>7.499576e+06</td>\n",
       "      <td>1.900000e+07</td>\n",
       "      <td>5.537610e+06</td>\n",
       "      <td>0.000000e+00</td>\n",
       "      <td>9.029000e+05</td>\n",
       "      <td>5.586080e+06</td>\n",
       "      <td>100.000000</td>\n",
       "      <td>0.000000</td>\n",
       "      <td>88.650000</td>\n",
       "      <td>100.000000</td>\n",
       "      <td>0.000000</td>\n",
       "      <td>0.000000</td>\n",
       "      <td>8.670000</td>\n",
       "      <td>1.000000e+06</td>\n",
       "      <td>2.480130e+06</td>\n",
       "      <td>0.900000</td>\n",
       "      <td>0.102000</td>\n",
       "      <td>0.218750</td>\n",
       "      <td>0.264500</td>\n",
       "      <td>0.894000</td>\n",
       "      <td>0.842000</td>\n",
       "    </tr>\n",
       "    <tr>\n",
       "      <th>max</th>\n",
       "      <td>15493.000000</td>\n",
       "      <td>16.000000</td>\n",
       "      <td>7.980586e+08</td>\n",
       "      <td>1.000000e+09</td>\n",
       "      <td>6.280000e+08</td>\n",
       "      <td>1.500000e+07</td>\n",
       "      <td>1.520000e+08</td>\n",
       "      <td>4.440000e+08</td>\n",
       "      <td>68983.000000</td>\n",
       "      <td>189.000000</td>\n",
       "      <td>38828.000000</td>\n",
       "      <td>54899.000000</td>\n",
       "      <td>5.000000</td>\n",
       "      <td>1.000000</td>\n",
       "      <td>32.900000</td>\n",
       "      <td>1.520000e+08</td>\n",
       "      <td>1.480000e+08</td>\n",
       "      <td>5.530000</td>\n",
       "      <td>1.270000</td>\n",
       "      <td>2.010000</td>\n",
       "      <td>8.110000</td>\n",
       "      <td>8.125671</td>\n",
       "      <td>9.730000</td>\n",
       "    </tr>\n",
       "  </tbody>\n",
       "</table>\n",
       "</div>"
      ],
      "text/plain": [
       "                 id  jumlah_kartu   outstanding  limit_kredit       tagihan  \\\n",
       "count  13459.000000  13459.000000  1.345900e+04  1.345900e+04  1.345900e+04   \n",
       "mean    7720.642098      2.376402  6.859532e+06  1.600479e+07  4.875820e+06   \n",
       "std     4475.033870      0.795904  1.528072e+07  2.395373e+07  1.136996e+07   \n",
       "min        1.000000      1.000000  0.000000e+00  3.000000e+06  2.004300e+04   \n",
       "25%     3839.500000      2.000000  1.571995e+06  5.000000e+06  6.569765e+05   \n",
       "50%     7705.000000      2.000000  3.850823e+06  8.000000e+06  2.612858e+06   \n",
       "75%    11611.500000      3.000000  7.499576e+06  1.900000e+07  5.537610e+06   \n",
       "max    15493.000000     16.000000  7.980586e+08  1.000000e+09  6.280000e+08   \n",
       "\n",
       "       total_pemakaian_tunai  total_pemakaian_retail  \\\n",
       "count           1.345900e+04            1.345900e+04   \n",
       "mean            4.459329e+04            8.984658e+05   \n",
       "std             3.537127e+05            2.561418e+06   \n",
       "min             0.000000e+00           -1.200000e+07   \n",
       "25%             0.000000e+00            0.000000e+00   \n",
       "50%             0.000000e+00            1.095000e+05   \n",
       "75%             0.000000e+00            9.029000e+05   \n",
       "max             1.500000e+07            1.520000e+08   \n",
       "\n",
       "       sisa_tagihan_tidak_terbayar  rasio_pembayaran  persentasi_overlimit  \\\n",
       "count                 1.345900e+04      13459.000000          13459.000000   \n",
       "mean                  4.822436e+06         60.379597              2.934699   \n",
       "std                   1.242972e+07        629.464282              8.385325   \n",
       "min                   0.000000e+00          0.000000              0.000000   \n",
       "25%                   0.000000e+00          0.000000              0.000000   \n",
       "50%                   2.255200e+06         26.600000              0.000000   \n",
       "75%                   5.586080e+06        100.000000              0.000000   \n",
       "max                   4.440000e+08      68983.000000            189.000000   \n",
       "\n",
       "       rasio_pembayaran_3bulan  rasio_pembayaran_6bulan  skor_delikuensi  \\\n",
       "count             13459.000000             13459.000000     13459.000000   \n",
       "mean                 69.934091                91.196396         0.005498   \n",
       "std                 481.980667               863.396062         0.122390   \n",
       "min                   0.000000                 0.000000         0.000000   \n",
       "25%                  20.400000                21.400000         0.000000   \n",
       "50%                  50.000000                64.200000         0.000000   \n",
       "75%                  88.650000               100.000000         0.000000   \n",
       "max               38828.000000             54899.000000         5.000000   \n",
       "\n",
       "       flag_kredit_macet  jumlah_tahun_sejak_pembukaan_kredit  \\\n",
       "count       13459.000000                         13459.000000   \n",
       "mean            0.100973                             6.293546   \n",
       "std             0.301305                             4.429554   \n",
       "min             0.000000                             0.750000   \n",
       "25%             0.000000                             2.830000   \n",
       "50%             0.000000                             5.420000   \n",
       "75%             0.000000                             8.670000   \n",
       "max             1.000000                            32.900000   \n",
       "\n",
       "       total_pemakaian  sisa_tagihan_per_jumlah_kartu  sisa_tagihan_per_limit  \\\n",
       "count     1.345900e+04                   1.345900e+04            13459.000000   \n",
       "mean      9.430591e+05                   1.931639e+06                0.442446   \n",
       "std       2.585494e+06                   4.103413e+06                0.463139   \n",
       "min      -1.200000e+07                   0.000000e+00                0.000000   \n",
       "25%       0.000000e+00                   0.000000e+00                0.000000   \n",
       "50%       1.490000e+05                   9.797560e+05                0.262090   \n",
       "75%       1.000000e+06                   2.480130e+06                0.900000   \n",
       "max       1.520000e+08                   1.480000e+08                5.530000   \n",
       "\n",
       "       total_pemakaian_per_limit  pemakaian_3bln_per_limit  \\\n",
       "count               13459.000000              13459.000000   \n",
       "mean                    0.086310                  0.148454   \n",
       "std                     0.157144                  0.163793   \n",
       "min                    -0.632000                 -0.126000   \n",
       "25%                     0.000000                  0.027800   \n",
       "50%                     0.013900                  0.096300   \n",
       "75%                     0.102000                  0.218750   \n",
       "max                     1.270000                  2.010000   \n",
       "\n",
       "       pemakaian_6bln_per_limit  utilisasi_3bulan  utilisasi_6bulan  \n",
       "count              13459.000000      13459.000000      13459.000000  \n",
       "mean                   0.184162          0.539295          0.509423  \n",
       "std                    0.248340          0.402185          0.417610  \n",
       "min                   -0.569000          0.000288          0.000000  \n",
       "25%                    0.026300          0.154000          0.130000  \n",
       "50%                    0.106796          0.524000          0.464000  \n",
       "75%                    0.264500          0.894000          0.842000  \n",
       "max                    8.110000          8.125671          9.730000  "
      ]
     },
     "execution_count": 43,
     "metadata": {},
     "output_type": "execute_result"
    }
   ],
   "source": [
    "train.describe()"
   ]
  },
  {
   "cell_type": "code",
   "execution_count": 44,
   "metadata": {},
   "outputs": [
    {
     "data": {
      "text/plain": [
       "0    13\n",
       "1     1\n",
       "Name: flag_kredit_macet, dtype: int64"
      ]
     },
     "execution_count": 44,
     "metadata": {},
     "output_type": "execute_result"
    }
   ],
   "source": [
    "train[train['rasio_pembayaran'] > 3000]['flag_kredit_macet'].value_counts()"
   ]
  },
  {
   "cell_type": "markdown",
   "metadata": {},
   "source": [
    "# Clamp Transformation "
   ]
  },
  {
   "cell_type": "code",
   "execution_count": 45,
   "metadata": {},
   "outputs": [],
   "source": [
    "# batasMaxRas = train[train['rasio_pembayaran'] < 3000]['rasio_pembayaran'].mean() + (2 * train[train['rasio_pembayaran'] < 3000]['rasio_pembayaran'].std())\n",
    "# batasMaxRas3 = train[train['rasio_pembayaran_3bulan'] < 3000]['rasio_pembayaran_3bulan'].mean() + (2 * train[train['rasio_pembayaran_3bulan'] < 3000]['rasio_pembayaran_3bulan'].std())\n",
    "# batasMaxRas6 = train[train['rasio_pembayaran_6bulan'] < 3000]['rasio_pembayaran_6bulan'].mean() + (2 * train[train['rasio_pembayaran_6bulan'] < 3000]['rasio_pembayaran_6bulan'].std())\n",
    "dictBatasMaxRas = {}\n",
    "for col in ['rasio_pembayaran','rasio_pembayaran_3bulan','rasio_pembayaran_6bulan'] :\n",
    "    # 1st quartile (25%)\n",
    "    Q1 = np.percentile(train[col], 25)\n",
    "\n",
    "    # 3rd quartile (75%)\n",
    "    Q3 = np.percentile(train[col],75)\n",
    "\n",
    "    # Interquartile range (IQR)\n",
    "    IQR = Q3 - Q1\n",
    "\n",
    "    # outlier step\n",
    "    outlier_step = 1.5 * IQR\n",
    "    dictBatasMaxRas[col] = Q3 + outlier_step"
   ]
  },
  {
   "cell_type": "code",
   "execution_count": 46,
   "metadata": {},
   "outputs": [],
   "source": [
    "# train['rasio_pembayaran'] = train['rasio_pembayaran'].apply(\n",
    "#     lambda ras : batasMaxRas if ras > batasMaxRas else ras\n",
    "# )\n",
    "# train['rasio_pembayaran_3bulan'] = train['rasio_pembayaran_3bulan'].apply(\n",
    "#     lambda ras : batasMaxRas3 if ras > batasMaxRas3 else ras\n",
    "# )\n",
    "# train['rasio_pembayaran_6bulan'] = train['rasio_pembayaran_6bulan'].apply(\n",
    "#     lambda ras : batasMaxRas6 if ras > batasMaxRas6 else ras\n",
    "# )\n",
    "for col in ['rasio_pembayaran','rasio_pembayaran_3bulan','rasio_pembayaran_6bulan'] :\n",
    "    train[col] = train[col].apply(lambda ras : dictBatasMaxRas[col] if ras > dictBatasMaxRas[col] else ras)"
   ]
  },
  {
   "cell_type": "code",
   "execution_count": 47,
   "metadata": {},
   "outputs": [
    {
     "data": {
      "text/html": [
       "<div>\n",
       "<style scoped>\n",
       "    .dataframe tbody tr th:only-of-type {\n",
       "        vertical-align: middle;\n",
       "    }\n",
       "\n",
       "    .dataframe tbody tr th {\n",
       "        vertical-align: top;\n",
       "    }\n",
       "\n",
       "    .dataframe thead th {\n",
       "        text-align: right;\n",
       "    }\n",
       "</style>\n",
       "<table border=\"1\" class=\"dataframe\">\n",
       "  <thead>\n",
       "    <tr style=\"text-align: right;\">\n",
       "      <th></th>\n",
       "      <th>id</th>\n",
       "      <th>jumlah_kartu</th>\n",
       "      <th>outstanding</th>\n",
       "      <th>limit_kredit</th>\n",
       "      <th>tagihan</th>\n",
       "      <th>total_pemakaian_tunai</th>\n",
       "      <th>total_pemakaian_retail</th>\n",
       "      <th>sisa_tagihan_tidak_terbayar</th>\n",
       "      <th>rasio_pembayaran</th>\n",
       "      <th>persentasi_overlimit</th>\n",
       "      <th>rasio_pembayaran_3bulan</th>\n",
       "      <th>rasio_pembayaran_6bulan</th>\n",
       "      <th>skor_delikuensi</th>\n",
       "      <th>flag_kredit_macet</th>\n",
       "      <th>jumlah_tahun_sejak_pembukaan_kredit</th>\n",
       "      <th>total_pemakaian</th>\n",
       "      <th>sisa_tagihan_per_jumlah_kartu</th>\n",
       "      <th>sisa_tagihan_per_limit</th>\n",
       "      <th>total_pemakaian_per_limit</th>\n",
       "      <th>pemakaian_3bln_per_limit</th>\n",
       "      <th>pemakaian_6bln_per_limit</th>\n",
       "      <th>utilisasi_3bulan</th>\n",
       "      <th>utilisasi_6bulan</th>\n",
       "    </tr>\n",
       "  </thead>\n",
       "  <tbody>\n",
       "    <tr>\n",
       "      <th>count</th>\n",
       "      <td>13459.000000</td>\n",
       "      <td>13459.000000</td>\n",
       "      <td>1.345900e+04</td>\n",
       "      <td>1.345900e+04</td>\n",
       "      <td>1.345900e+04</td>\n",
       "      <td>1.345900e+04</td>\n",
       "      <td>1.345900e+04</td>\n",
       "      <td>1.345900e+04</td>\n",
       "      <td>13459.000000</td>\n",
       "      <td>13459.000000</td>\n",
       "      <td>13459.000000</td>\n",
       "      <td>13459.000000</td>\n",
       "      <td>13459.000000</td>\n",
       "      <td>13459.000000</td>\n",
       "      <td>13459.000000</td>\n",
       "      <td>1.345900e+04</td>\n",
       "      <td>1.345900e+04</td>\n",
       "      <td>13459.000000</td>\n",
       "      <td>13459.000000</td>\n",
       "      <td>13459.000000</td>\n",
       "      <td>13459.000000</td>\n",
       "      <td>13459.000000</td>\n",
       "      <td>13459.000000</td>\n",
       "    </tr>\n",
       "    <tr>\n",
       "      <th>mean</th>\n",
       "      <td>7720.642098</td>\n",
       "      <td>2.376402</td>\n",
       "      <td>6.859532e+06</td>\n",
       "      <td>1.600479e+07</td>\n",
       "      <td>4.875820e+06</td>\n",
       "      <td>4.459329e+04</td>\n",
       "      <td>8.984658e+05</td>\n",
       "      <td>4.822436e+06</td>\n",
       "      <td>49.212973</td>\n",
       "      <td>2.934699</td>\n",
       "      <td>55.044938</td>\n",
       "      <td>62.362132</td>\n",
       "      <td>0.005498</td>\n",
       "      <td>0.100973</td>\n",
       "      <td>6.293546</td>\n",
       "      <td>9.430591e+05</td>\n",
       "      <td>1.931639e+06</td>\n",
       "      <td>0.442446</td>\n",
       "      <td>0.086310</td>\n",
       "      <td>0.148454</td>\n",
       "      <td>0.184162</td>\n",
       "      <td>0.539295</td>\n",
       "      <td>0.509423</td>\n",
       "    </tr>\n",
       "    <tr>\n",
       "      <th>std</th>\n",
       "      <td>4475.033870</td>\n",
       "      <td>0.795904</td>\n",
       "      <td>1.528072e+07</td>\n",
       "      <td>2.395373e+07</td>\n",
       "      <td>1.136996e+07</td>\n",
       "      <td>3.537127e+05</td>\n",
       "      <td>2.561418e+06</td>\n",
       "      <td>1.242972e+07</td>\n",
       "      <td>49.823819</td>\n",
       "      <td>8.385325</td>\n",
       "      <td>38.795547</td>\n",
       "      <td>43.677291</td>\n",
       "      <td>0.122390</td>\n",
       "      <td>0.301305</td>\n",
       "      <td>4.429554</td>\n",
       "      <td>2.585494e+06</td>\n",
       "      <td>4.103413e+06</td>\n",
       "      <td>0.463139</td>\n",
       "      <td>0.157144</td>\n",
       "      <td>0.163793</td>\n",
       "      <td>0.248340</td>\n",
       "      <td>0.402185</td>\n",
       "      <td>0.417610</td>\n",
       "    </tr>\n",
       "    <tr>\n",
       "      <th>min</th>\n",
       "      <td>1.000000</td>\n",
       "      <td>1.000000</td>\n",
       "      <td>0.000000e+00</td>\n",
       "      <td>3.000000e+06</td>\n",
       "      <td>2.004300e+04</td>\n",
       "      <td>0.000000e+00</td>\n",
       "      <td>-1.200000e+07</td>\n",
       "      <td>0.000000e+00</td>\n",
       "      <td>0.000000</td>\n",
       "      <td>0.000000</td>\n",
       "      <td>0.000000</td>\n",
       "      <td>0.000000</td>\n",
       "      <td>0.000000</td>\n",
       "      <td>0.000000</td>\n",
       "      <td>0.750000</td>\n",
       "      <td>-1.200000e+07</td>\n",
       "      <td>0.000000e+00</td>\n",
       "      <td>0.000000</td>\n",
       "      <td>-0.632000</td>\n",
       "      <td>-0.126000</td>\n",
       "      <td>-0.569000</td>\n",
       "      <td>0.000288</td>\n",
       "      <td>0.000000</td>\n",
       "    </tr>\n",
       "    <tr>\n",
       "      <th>25%</th>\n",
       "      <td>3839.500000</td>\n",
       "      <td>2.000000</td>\n",
       "      <td>1.571995e+06</td>\n",
       "      <td>5.000000e+06</td>\n",
       "      <td>6.569765e+05</td>\n",
       "      <td>0.000000e+00</td>\n",
       "      <td>0.000000e+00</td>\n",
       "      <td>0.000000e+00</td>\n",
       "      <td>0.000000</td>\n",
       "      <td>0.000000</td>\n",
       "      <td>20.400000</td>\n",
       "      <td>21.400000</td>\n",
       "      <td>0.000000</td>\n",
       "      <td>0.000000</td>\n",
       "      <td>2.830000</td>\n",
       "      <td>0.000000e+00</td>\n",
       "      <td>0.000000e+00</td>\n",
       "      <td>0.000000</td>\n",
       "      <td>0.000000</td>\n",
       "      <td>0.027800</td>\n",
       "      <td>0.026300</td>\n",
       "      <td>0.154000</td>\n",
       "      <td>0.130000</td>\n",
       "    </tr>\n",
       "    <tr>\n",
       "      <th>50%</th>\n",
       "      <td>7705.000000</td>\n",
       "      <td>2.000000</td>\n",
       "      <td>3.850823e+06</td>\n",
       "      <td>8.000000e+06</td>\n",
       "      <td>2.612858e+06</td>\n",
       "      <td>0.000000e+00</td>\n",
       "      <td>1.095000e+05</td>\n",
       "      <td>2.255200e+06</td>\n",
       "      <td>26.600000</td>\n",
       "      <td>0.000000</td>\n",
       "      <td>50.000000</td>\n",
       "      <td>64.200000</td>\n",
       "      <td>0.000000</td>\n",
       "      <td>0.000000</td>\n",
       "      <td>5.420000</td>\n",
       "      <td>1.490000e+05</td>\n",
       "      <td>9.797560e+05</td>\n",
       "      <td>0.262090</td>\n",
       "      <td>0.013900</td>\n",
       "      <td>0.096300</td>\n",
       "      <td>0.106796</td>\n",
       "      <td>0.524000</td>\n",
       "      <td>0.464000</td>\n",
       "    </tr>\n",
       "    <tr>\n",
       "      <th>75%</th>\n",
       "      <td>11611.500000</td>\n",
       "      <td>3.000000</td>\n",
       "      <td>7.499576e+06</td>\n",
       "      <td>1.900000e+07</td>\n",
       "      <td>5.537610e+06</td>\n",
       "      <td>0.000000e+00</td>\n",
       "      <td>9.029000e+05</td>\n",
       "      <td>5.586080e+06</td>\n",
       "      <td>100.000000</td>\n",
       "      <td>0.000000</td>\n",
       "      <td>88.650000</td>\n",
       "      <td>100.000000</td>\n",
       "      <td>0.000000</td>\n",
       "      <td>0.000000</td>\n",
       "      <td>8.670000</td>\n",
       "      <td>1.000000e+06</td>\n",
       "      <td>2.480130e+06</td>\n",
       "      <td>0.900000</td>\n",
       "      <td>0.102000</td>\n",
       "      <td>0.218750</td>\n",
       "      <td>0.264500</td>\n",
       "      <td>0.894000</td>\n",
       "      <td>0.842000</td>\n",
       "    </tr>\n",
       "    <tr>\n",
       "      <th>max</th>\n",
       "      <td>15493.000000</td>\n",
       "      <td>16.000000</td>\n",
       "      <td>7.980586e+08</td>\n",
       "      <td>1.000000e+09</td>\n",
       "      <td>6.280000e+08</td>\n",
       "      <td>1.500000e+07</td>\n",
       "      <td>1.520000e+08</td>\n",
       "      <td>4.440000e+08</td>\n",
       "      <td>250.000000</td>\n",
       "      <td>189.000000</td>\n",
       "      <td>191.025000</td>\n",
       "      <td>217.900000</td>\n",
       "      <td>5.000000</td>\n",
       "      <td>1.000000</td>\n",
       "      <td>32.900000</td>\n",
       "      <td>1.520000e+08</td>\n",
       "      <td>1.480000e+08</td>\n",
       "      <td>5.530000</td>\n",
       "      <td>1.270000</td>\n",
       "      <td>2.010000</td>\n",
       "      <td>8.110000</td>\n",
       "      <td>8.125671</td>\n",
       "      <td>9.730000</td>\n",
       "    </tr>\n",
       "  </tbody>\n",
       "</table>\n",
       "</div>"
      ],
      "text/plain": [
       "                 id  jumlah_kartu   outstanding  limit_kredit       tagihan  \\\n",
       "count  13459.000000  13459.000000  1.345900e+04  1.345900e+04  1.345900e+04   \n",
       "mean    7720.642098      2.376402  6.859532e+06  1.600479e+07  4.875820e+06   \n",
       "std     4475.033870      0.795904  1.528072e+07  2.395373e+07  1.136996e+07   \n",
       "min        1.000000      1.000000  0.000000e+00  3.000000e+06  2.004300e+04   \n",
       "25%     3839.500000      2.000000  1.571995e+06  5.000000e+06  6.569765e+05   \n",
       "50%     7705.000000      2.000000  3.850823e+06  8.000000e+06  2.612858e+06   \n",
       "75%    11611.500000      3.000000  7.499576e+06  1.900000e+07  5.537610e+06   \n",
       "max    15493.000000     16.000000  7.980586e+08  1.000000e+09  6.280000e+08   \n",
       "\n",
       "       total_pemakaian_tunai  total_pemakaian_retail  \\\n",
       "count           1.345900e+04            1.345900e+04   \n",
       "mean            4.459329e+04            8.984658e+05   \n",
       "std             3.537127e+05            2.561418e+06   \n",
       "min             0.000000e+00           -1.200000e+07   \n",
       "25%             0.000000e+00            0.000000e+00   \n",
       "50%             0.000000e+00            1.095000e+05   \n",
       "75%             0.000000e+00            9.029000e+05   \n",
       "max             1.500000e+07            1.520000e+08   \n",
       "\n",
       "       sisa_tagihan_tidak_terbayar  rasio_pembayaran  persentasi_overlimit  \\\n",
       "count                 1.345900e+04      13459.000000          13459.000000   \n",
       "mean                  4.822436e+06         49.212973              2.934699   \n",
       "std                   1.242972e+07         49.823819              8.385325   \n",
       "min                   0.000000e+00          0.000000              0.000000   \n",
       "25%                   0.000000e+00          0.000000              0.000000   \n",
       "50%                   2.255200e+06         26.600000              0.000000   \n",
       "75%                   5.586080e+06        100.000000              0.000000   \n",
       "max                   4.440000e+08        250.000000            189.000000   \n",
       "\n",
       "       rasio_pembayaran_3bulan  rasio_pembayaran_6bulan  skor_delikuensi  \\\n",
       "count             13459.000000             13459.000000     13459.000000   \n",
       "mean                 55.044938                62.362132         0.005498   \n",
       "std                  38.795547                43.677291         0.122390   \n",
       "min                   0.000000                 0.000000         0.000000   \n",
       "25%                  20.400000                21.400000         0.000000   \n",
       "50%                  50.000000                64.200000         0.000000   \n",
       "75%                  88.650000               100.000000         0.000000   \n",
       "max                 191.025000               217.900000         5.000000   \n",
       "\n",
       "       flag_kredit_macet  jumlah_tahun_sejak_pembukaan_kredit  \\\n",
       "count       13459.000000                         13459.000000   \n",
       "mean            0.100973                             6.293546   \n",
       "std             0.301305                             4.429554   \n",
       "min             0.000000                             0.750000   \n",
       "25%             0.000000                             2.830000   \n",
       "50%             0.000000                             5.420000   \n",
       "75%             0.000000                             8.670000   \n",
       "max             1.000000                            32.900000   \n",
       "\n",
       "       total_pemakaian  sisa_tagihan_per_jumlah_kartu  sisa_tagihan_per_limit  \\\n",
       "count     1.345900e+04                   1.345900e+04            13459.000000   \n",
       "mean      9.430591e+05                   1.931639e+06                0.442446   \n",
       "std       2.585494e+06                   4.103413e+06                0.463139   \n",
       "min      -1.200000e+07                   0.000000e+00                0.000000   \n",
       "25%       0.000000e+00                   0.000000e+00                0.000000   \n",
       "50%       1.490000e+05                   9.797560e+05                0.262090   \n",
       "75%       1.000000e+06                   2.480130e+06                0.900000   \n",
       "max       1.520000e+08                   1.480000e+08                5.530000   \n",
       "\n",
       "       total_pemakaian_per_limit  pemakaian_3bln_per_limit  \\\n",
       "count               13459.000000              13459.000000   \n",
       "mean                    0.086310                  0.148454   \n",
       "std                     0.157144                  0.163793   \n",
       "min                    -0.632000                 -0.126000   \n",
       "25%                     0.000000                  0.027800   \n",
       "50%                     0.013900                  0.096300   \n",
       "75%                     0.102000                  0.218750   \n",
       "max                     1.270000                  2.010000   \n",
       "\n",
       "       pemakaian_6bln_per_limit  utilisasi_3bulan  utilisasi_6bulan  \n",
       "count              13459.000000      13459.000000      13459.000000  \n",
       "mean                   0.184162          0.539295          0.509423  \n",
       "std                    0.248340          0.402185          0.417610  \n",
       "min                   -0.569000          0.000288          0.000000  \n",
       "25%                    0.026300          0.154000          0.130000  \n",
       "50%                    0.106796          0.524000          0.464000  \n",
       "75%                    0.264500          0.894000          0.842000  \n",
       "max                    8.110000          8.125671          9.730000  "
      ]
     },
     "execution_count": 47,
     "metadata": {},
     "output_type": "execute_result"
    }
   ],
   "source": [
    "train.describe()"
   ]
  },
  {
   "cell_type": "markdown",
   "metadata": {},
   "source": [
    "# Feature Engineering"
   ]
  },
  {
   "cell_type": "code",
   "execution_count": 48,
   "metadata": {},
   "outputs": [],
   "source": [
    "def feature_engineering_jumlah_kartu(df):\n",
    "    df['jumlah_kartu_total_sisa_tagihan_semua_kartu'] = df.apply(lambda x: x['jumlah_kartu'] * x[\n",
    "        'sisa_tagihan_per_jumlah_kartu'], axis=1)\n",
    "    return df\n",
    "                                                                                                 \n",
    "# def feature_engineering_outstanding(df):\n",
    "#     df['jumlah_kartu_total_sisa_tagihan_semua_kartu'] = df.apply(lambda x: x['jumlah_kartu'] * x[\n",
    "#         'sisa_tagihan_per_jumlah_kartu'], axis=1)\n",
    "#     return df\n",
    "                                                                                                 \n",
    "def feature_engineering_limit_kredit(df):\n",
    "    df['limit_kredit_per_jumlah_kartu'] = df.apply(lambda x: x['limit_kredit'] / x['jumlah_kartu'], \n",
    "                                                   axis=1)\n",
    "    df['limit_kredit_overlimit_maksimum'] = df.apply(lambda x: x['limit_kredit'] + (x['limit_kredit'] \n",
    "                                                        * x['persentasi_overlimit']), axis=1)\n",
    "    df['limit_kredit_total_sisa_tagihan_semua_limit'] = df.apply(lambda x: x['limit_kredit'] * x[\n",
    "        'sisa_tagihan_per_limit'], axis=1)\n",
    "    return df\n",
    "                                                                                                 \n",
    "def feature_engineering_jumlah_tahun_sejak_pembukaan_kredit(df):\n",
    "    df['jumlah_tahun_sejak_pembukaan_kredit_average_quarter_utilization'] = df.apply(lambda x: x[\n",
    "        'jumlah_tahun_sejak_pembukaan_kredit'] * 4 * x['utilisasi_3bulan'], axis=1)\n",
    "    df['jumlah_tahun_sejak_pembukaan_kredit_average_semester_utilization'] = df.apply(lambda x: x[\n",
    "        'jumlah_tahun_sejak_pembukaan_kredit'] * 2 * x['utilisasi_6bulan'], axis=1)\n",
    "    df['jumlah_tahun_sejak_pembukaan_kredit_average_quarter_utilization_per_limit'] = df.apply(\n",
    "        lambda x: x['jumlah_tahun_sejak_pembukaan_kredit'] * 4 * x['pemakaian_3bln_per_limit'], axis=1)\n",
    "    df['jumlah_tahun_sejak_pembukaan_kredit_average_semester_utilization_per_limit'] = df.apply(\n",
    "        lambda x: x['jumlah_tahun_sejak_pembukaan_kredit'] * 2 * x['pemakaian_6bln_per_limit'], axis=1)\n",
    "    df['jumlah_tahun_sejak_pembukaan_kredit_rata_rata_waktu_pembukaan_kredit'] = df.apply(lambda x: x[\n",
    "        'jumlah_tahun_sejak_pembukaan_kredit'] / x['jumlah_kartu'], axis=1)\n",
    "    return df\n",
    "                                                                                                      \n",
    "def feature_engineering_persentasi_overlimit(df):\n",
    "    df['persentasi_overlimit_excess'] = df.apply(lambda x: x['persentasi_overlimit'] * \n",
    "                                                 x['limit_kredit'], axis=1)\n",
    "    return df\n",
    "                                                                                                      \n",
    "def feature_engineering_total_pemakaian(df):\n",
    "    df['total_pemakaian_tunai_retail'] = df.apply(\n",
    "        lambda x: x['total_pemakaian_tunai'] + x['total_pemakaian_retail'], axis=1)\n",
    "    df['total_pemakaian_per_limit_kredit'] = df.apply(\n",
    "        lambda x: x['total_pemakaian'] / x['limit_kredit'], axis=1)\n",
    "    df['total_pemakaian_per_jumlah_kartu'] = df.apply(\n",
    "        lambda x: x['total_pemakaian'] / x['jumlah_kartu'], axis=1)\n",
    "    df['total_pemakaian_unexpected'] = df.apply(\n",
    "        lambda x: 1 if x['total_pemakaian'] <= 0.00 and x['total_pemakaian_tunai'] <= 0.00 and \n",
    "        x['total_pemakaian_retail'] <= 0.00 else 0, axis=1)\n",
    "    return df\n",
    "                                                                                                  \n",
    "def feature_engineering_tagihan(df):\n",
    "    df['tagihan_terbayar'] = df.apply(lambda x: x['tagihan'] - x['sisa_tagihan_tidak_terbayar'], axis=1)\n",
    "    df['tagihan_per_limit_kredit'] = df.apply(lambda x: x['tagihan'] / x['limit_kredit'], axis=1)\n",
    "    df['sisa_tagihan_tidak_terbayar_percentage'] = df.apply(lambda x: x['sisa_tagihan_tidak_terbayar']\n",
    "                                                           / x['tagihan'], axis=1)\n",
    "    return df\n",
    "                                                                                                  \n",
    "def feature_engineering_sisa_tagihan(df):\n",
    "    df['tagihan_per_jumlah_kartu'] = df.apply(lambda x: x['tagihan'] / x['jumlah_kartu'], axis=1)\n",
    "    return df\n",
    "                                                                                                  \n",
    "def feature_engineering_utilisasi_3bulan(df):\n",
    "    df['utilisasi_3bln_per_jumlah_kartu'] = df.apply(lambda x: x['utilisasi_3bulan'] / \n",
    "                                                     x['jumlah_kartu'], axis=1)\n",
    "    return df\n",
    "                                                                                                  \n",
    "def feature_engineering_utilisasi_6bulan(df):\n",
    "    df['utilisasi_6bln_per_jumlah_kartu'] = df.apply(lambda x: x['utilisasi_6bulan'] / \n",
    "                                                     x['jumlah_kartu'], axis=1)\n",
    "    return df"
   ]
  },
  {
   "cell_type": "code",
   "execution_count": 49,
   "metadata": {},
   "outputs": [],
   "source": [
    "train = feature_engineering_jumlah_kartu(train)\n",
    "# train = feature_engineering_outstanding(train)\n",
    "train = feature_engineering_limit_kredit(train)\n",
    "train = feature_engineering_jumlah_tahun_sejak_pembukaan_kredit(train)\n",
    "train = feature_engineering_persentasi_overlimit(train)\n",
    "train = feature_engineering_total_pemakaian(train)\n",
    "train = feature_engineering_tagihan(train)\n",
    "train = feature_engineering_sisa_tagihan(train)\n",
    "train = feature_engineering_utilisasi_3bulan(train)\n",
    "train = feature_engineering_utilisasi_6bulan(train)"
   ]
  },
  {
   "cell_type": "markdown",
   "metadata": {},
   "source": [
    "# One Hot Encoding Category Variables"
   ]
  },
  {
   "cell_type": "code",
   "execution_count": 50,
   "metadata": {},
   "outputs": [
    {
     "data": {
      "text/html": [
       "<div>\n",
       "<style scoped>\n",
       "    .dataframe tbody tr th:only-of-type {\n",
       "        vertical-align: middle;\n",
       "    }\n",
       "\n",
       "    .dataframe tbody tr th {\n",
       "        vertical-align: top;\n",
       "    }\n",
       "\n",
       "    .dataframe thead th {\n",
       "        text-align: right;\n",
       "    }\n",
       "</style>\n",
       "<table border=\"1\" class=\"dataframe\">\n",
       "  <thead>\n",
       "    <tr style=\"text-align: right;\">\n",
       "      <th></th>\n",
       "      <th>id</th>\n",
       "      <th>jumlah_kartu</th>\n",
       "      <th>outstanding</th>\n",
       "      <th>limit_kredit</th>\n",
       "      <th>tagihan</th>\n",
       "      <th>total_pemakaian_tunai</th>\n",
       "      <th>total_pemakaian_retail</th>\n",
       "      <th>sisa_tagihan_tidak_terbayar</th>\n",
       "      <th>rasio_pembayaran</th>\n",
       "      <th>persentasi_overlimit</th>\n",
       "      <th>rasio_pembayaran_3bulan</th>\n",
       "      <th>rasio_pembayaran_6bulan</th>\n",
       "      <th>flag_kredit_macet</th>\n",
       "      <th>jumlah_tahun_sejak_pembukaan_kredit</th>\n",
       "      <th>total_pemakaian</th>\n",
       "      <th>sisa_tagihan_per_jumlah_kartu</th>\n",
       "      <th>sisa_tagihan_per_limit</th>\n",
       "      <th>total_pemakaian_per_limit</th>\n",
       "      <th>pemakaian_3bln_per_limit</th>\n",
       "      <th>pemakaian_6bln_per_limit</th>\n",
       "      <th>utilisasi_3bulan</th>\n",
       "      <th>utilisasi_6bulan</th>\n",
       "      <th>kode_cabang_B</th>\n",
       "      <th>kode_cabang_C</th>\n",
       "      <th>kode_cabang_D</th>\n",
       "      <th>kode_cabang_E</th>\n",
       "      <th>kode_cabang_F</th>\n",
       "      <th>kode_cabang_G</th>\n",
       "      <th>kode_cabang_H</th>\n",
       "      <th>kode_cabang_I</th>\n",
       "      <th>kode_cabang_J</th>\n",
       "      <th>kode_cabang_K</th>\n",
       "      <th>skor_delikuensi_1</th>\n",
       "      <th>skor_delikuensi_2</th>\n",
       "      <th>skor_delikuensi_3</th>\n",
       "      <th>skor_delikuensi_4</th>\n",
       "      <th>skor_delikuensi_5</th>\n",
       "    </tr>\n",
       "  </thead>\n",
       "  <tbody>\n",
       "    <tr>\n",
       "      <th>0</th>\n",
       "      <td>1</td>\n",
       "      <td>2</td>\n",
       "      <td>36158</td>\n",
       "      <td>7000000.0</td>\n",
       "      <td>23437.0</td>\n",
       "      <td>0.0</td>\n",
       "      <td>94.0</td>\n",
       "      <td>26323.0</td>\n",
       "      <td>102.19</td>\n",
       "      <td>0.0</td>\n",
       "      <td>74.78</td>\n",
       "      <td>100.00</td>\n",
       "      <td>0</td>\n",
       "      <td>15.416667</td>\n",
       "      <td>94.0</td>\n",
       "      <td>13161.5</td>\n",
       "      <td>0.003760</td>\n",
       "      <td>0.000013</td>\n",
       "      <td>0.011719</td>\n",
       "      <td>0.017810</td>\n",
       "      <td>0.013228</td>\n",
       "      <td>0.021949</td>\n",
       "      <td>0</td>\n",
       "      <td>0</td>\n",
       "      <td>0</td>\n",
       "      <td>0</td>\n",
       "      <td>0</td>\n",
       "      <td>0</td>\n",
       "      <td>0</td>\n",
       "      <td>1</td>\n",
       "      <td>0</td>\n",
       "      <td>0</td>\n",
       "      <td>0</td>\n",
       "      <td>0</td>\n",
       "      <td>0</td>\n",
       "      <td>0</td>\n",
       "      <td>0</td>\n",
       "    </tr>\n",
       "    <tr>\n",
       "      <th>1</th>\n",
       "      <td>2</td>\n",
       "      <td>2</td>\n",
       "      <td>268691</td>\n",
       "      <td>10000000.0</td>\n",
       "      <td>254564.0</td>\n",
       "      <td>0.0</td>\n",
       "      <td>1012.0</td>\n",
       "      <td>0.0</td>\n",
       "      <td>0.00</td>\n",
       "      <td>0.0</td>\n",
       "      <td>0.00</td>\n",
       "      <td>0.00</td>\n",
       "      <td>0</td>\n",
       "      <td>0.750000</td>\n",
       "      <td>1012.0</td>\n",
       "      <td>0.0</td>\n",
       "      <td>0.000000</td>\n",
       "      <td>0.000101</td>\n",
       "      <td>0.000000</td>\n",
       "      <td>0.000000</td>\n",
       "      <td>0.004232</td>\n",
       "      <td>0.000300</td>\n",
       "      <td>0</td>\n",
       "      <td>0</td>\n",
       "      <td>0</td>\n",
       "      <td>0</td>\n",
       "      <td>0</td>\n",
       "      <td>0</td>\n",
       "      <td>0</td>\n",
       "      <td>0</td>\n",
       "      <td>0</td>\n",
       "      <td>0</td>\n",
       "      <td>0</td>\n",
       "      <td>0</td>\n",
       "      <td>0</td>\n",
       "      <td>0</td>\n",
       "      <td>0</td>\n",
       "    </tr>\n",
       "    <tr>\n",
       "      <th>2</th>\n",
       "      <td>3</td>\n",
       "      <td>3</td>\n",
       "      <td>6769149</td>\n",
       "      <td>28000000.0</td>\n",
       "      <td>4159779.0</td>\n",
       "      <td>0.0</td>\n",
       "      <td>0.0</td>\n",
       "      <td>0.0</td>\n",
       "      <td>100.00</td>\n",
       "      <td>0.0</td>\n",
       "      <td>100.00</td>\n",
       "      <td>100.91</td>\n",
       "      <td>0</td>\n",
       "      <td>10.750000</td>\n",
       "      <td>0.0</td>\n",
       "      <td>0.0</td>\n",
       "      <td>0.000000</td>\n",
       "      <td>0.000000</td>\n",
       "      <td>0.040518</td>\n",
       "      <td>0.047703</td>\n",
       "      <td>0.249389</td>\n",
       "      <td>0.267853</td>\n",
       "      <td>0</td>\n",
       "      <td>0</td>\n",
       "      <td>0</td>\n",
       "      <td>0</td>\n",
       "      <td>0</td>\n",
       "      <td>0</td>\n",
       "      <td>0</td>\n",
       "      <td>0</td>\n",
       "      <td>0</td>\n",
       "      <td>0</td>\n",
       "      <td>0</td>\n",
       "      <td>0</td>\n",
       "      <td>0</td>\n",
       "      <td>0</td>\n",
       "      <td>0</td>\n",
       "    </tr>\n",
       "    <tr>\n",
       "      <th>3</th>\n",
       "      <td>4</td>\n",
       "      <td>4</td>\n",
       "      <td>3496732</td>\n",
       "      <td>21000000.0</td>\n",
       "      <td>111231.0</td>\n",
       "      <td>0.0</td>\n",
       "      <td>2536660.0</td>\n",
       "      <td>581334.0</td>\n",
       "      <td>100.00</td>\n",
       "      <td>0.0</td>\n",
       "      <td>25.01</td>\n",
       "      <td>22.64</td>\n",
       "      <td>0</td>\n",
       "      <td>19.750000</td>\n",
       "      <td>2536660.0</td>\n",
       "      <td>145333.5</td>\n",
       "      <td>0.027683</td>\n",
       "      <td>0.120793</td>\n",
       "      <td>0.055971</td>\n",
       "      <td>0.016851</td>\n",
       "      <td>0.101912</td>\n",
       "      <td>0.346635</td>\n",
       "      <td>0</td>\n",
       "      <td>0</td>\n",
       "      <td>0</td>\n",
       "      <td>0</td>\n",
       "      <td>0</td>\n",
       "      <td>1</td>\n",
       "      <td>0</td>\n",
       "      <td>0</td>\n",
       "      <td>0</td>\n",
       "      <td>0</td>\n",
       "      <td>0</td>\n",
       "      <td>0</td>\n",
       "      <td>0</td>\n",
       "      <td>0</td>\n",
       "      <td>0</td>\n",
       "    </tr>\n",
       "    <tr>\n",
       "      <th>4</th>\n",
       "      <td>5</td>\n",
       "      <td>2</td>\n",
       "      <td>9402085</td>\n",
       "      <td>10000000.0</td>\n",
       "      <td>6099283.0</td>\n",
       "      <td>0.0</td>\n",
       "      <td>2666558.0</td>\n",
       "      <td>5951865.0</td>\n",
       "      <td>95.99</td>\n",
       "      <td>0.0</td>\n",
       "      <td>97.49</td>\n",
       "      <td>99.84</td>\n",
       "      <td>0</td>\n",
       "      <td>1.666667</td>\n",
       "      <td>2666558.0</td>\n",
       "      <td>2975932.5</td>\n",
       "      <td>0.595186</td>\n",
       "      <td>0.266656</td>\n",
       "      <td>0.323027</td>\n",
       "      <td>0.131162</td>\n",
       "      <td>0.707865</td>\n",
       "      <td>0.336571</td>\n",
       "      <td>0</td>\n",
       "      <td>0</td>\n",
       "      <td>0</td>\n",
       "      <td>0</td>\n",
       "      <td>0</td>\n",
       "      <td>0</td>\n",
       "      <td>0</td>\n",
       "      <td>0</td>\n",
       "      <td>0</td>\n",
       "      <td>0</td>\n",
       "      <td>0</td>\n",
       "      <td>0</td>\n",
       "      <td>0</td>\n",
       "      <td>0</td>\n",
       "      <td>0</td>\n",
       "    </tr>\n",
       "  </tbody>\n",
       "</table>\n",
       "</div>"
      ],
      "text/plain": [
       "   id  jumlah_kartu  outstanding  limit_kredit    tagihan  \\\n",
       "0   1             2        36158     7000000.0    23437.0   \n",
       "1   2             2       268691    10000000.0   254564.0   \n",
       "2   3             3      6769149    28000000.0  4159779.0   \n",
       "3   4             4      3496732    21000000.0   111231.0   \n",
       "4   5             2      9402085    10000000.0  6099283.0   \n",
       "\n",
       "   total_pemakaian_tunai  total_pemakaian_retail  sisa_tagihan_tidak_terbayar  \\\n",
       "0                    0.0                    94.0                      26323.0   \n",
       "1                    0.0                  1012.0                          0.0   \n",
       "2                    0.0                     0.0                          0.0   \n",
       "3                    0.0               2536660.0                     581334.0   \n",
       "4                    0.0               2666558.0                    5951865.0   \n",
       "\n",
       "   rasio_pembayaran  persentasi_overlimit  rasio_pembayaran_3bulan  \\\n",
       "0            102.19                   0.0                    74.78   \n",
       "1              0.00                   0.0                     0.00   \n",
       "2            100.00                   0.0                   100.00   \n",
       "3            100.00                   0.0                    25.01   \n",
       "4             95.99                   0.0                    97.49   \n",
       "\n",
       "   rasio_pembayaran_6bulan  flag_kredit_macet  \\\n",
       "0                   100.00                  0   \n",
       "1                     0.00                  0   \n",
       "2                   100.91                  0   \n",
       "3                    22.64                  0   \n",
       "4                    99.84                  0   \n",
       "\n",
       "   jumlah_tahun_sejak_pembukaan_kredit  total_pemakaian  \\\n",
       "0                            15.416667             94.0   \n",
       "1                             0.750000           1012.0   \n",
       "2                            10.750000              0.0   \n",
       "3                            19.750000        2536660.0   \n",
       "4                             1.666667        2666558.0   \n",
       "\n",
       "   sisa_tagihan_per_jumlah_kartu  sisa_tagihan_per_limit  \\\n",
       "0                        13161.5                0.003760   \n",
       "1                            0.0                0.000000   \n",
       "2                            0.0                0.000000   \n",
       "3                       145333.5                0.027683   \n",
       "4                      2975932.5                0.595186   \n",
       "\n",
       "   total_pemakaian_per_limit  pemakaian_3bln_per_limit  \\\n",
       "0                   0.000013                  0.011719   \n",
       "1                   0.000101                  0.000000   \n",
       "2                   0.000000                  0.040518   \n",
       "3                   0.120793                  0.055971   \n",
       "4                   0.266656                  0.323027   \n",
       "\n",
       "   pemakaian_6bln_per_limit  utilisasi_3bulan  utilisasi_6bulan  \\\n",
       "0                  0.017810          0.013228          0.021949   \n",
       "1                  0.000000          0.004232          0.000300   \n",
       "2                  0.047703          0.249389          0.267853   \n",
       "3                  0.016851          0.101912          0.346635   \n",
       "4                  0.131162          0.707865          0.336571   \n",
       "\n",
       "   kode_cabang_B  kode_cabang_C  kode_cabang_D  kode_cabang_E  kode_cabang_F  \\\n",
       "0              0              0              0              0              0   \n",
       "1              0              0              0              0              0   \n",
       "2              0              0              0              0              0   \n",
       "3              0              0              0              0              0   \n",
       "4              0              0              0              0              0   \n",
       "\n",
       "   kode_cabang_G  kode_cabang_H  kode_cabang_I  kode_cabang_J  kode_cabang_K  \\\n",
       "0              0              0              1              0              0   \n",
       "1              0              0              0              0              0   \n",
       "2              0              0              0              0              0   \n",
       "3              1              0              0              0              0   \n",
       "4              0              0              0              0              0   \n",
       "\n",
       "   skor_delikuensi_1  skor_delikuensi_2  skor_delikuensi_3  skor_delikuensi_4  \\\n",
       "0                  0                  0                  0                  0   \n",
       "1                  0                  0                  0                  0   \n",
       "2                  0                  0                  0                  0   \n",
       "3                  0                  0                  0                  0   \n",
       "4                  0                  0                  0                  0   \n",
       "\n",
       "   skor_delikuensi_5  \n",
       "0                  0  \n",
       "1                  0  \n",
       "2                  0  \n",
       "3                  0  \n",
       "4                  0  "
      ]
     },
     "execution_count": 50,
     "metadata": {},
     "output_type": "execute_result"
    }
   ],
   "source": [
    "# skordelikuensi = pd.get_dummies(train['skor_delikuensi'], drop_first=True)\n",
    "# kode = pd.get_dummies(train['kode_cabang'], drop_first=True)\n",
    "# train.drop(['skor_delikuensi','kode_cabang'],axis=1,inplace=True)\n",
    "# train = pd.concat([train,skordelikuensi,kode],axis=1)\n",
    "# train.head()\n",
    "train = pd.get_dummies(train, drop_first=True, columns=['kode_cabang','skor_delikuensi'])\n",
    "train.head()"
   ]
  },
  {
   "cell_type": "code",
   "execution_count": 51,
   "metadata": {},
   "outputs": [
    {
     "name": "stdout",
     "output_type": "stream",
     "text": [
      "<class 'pandas.core.frame.DataFrame'>\n",
      "Int64Index: 13459 entries, 0 to 15492\n",
      "Data columns (total 37 columns):\n",
      "id                                     13459 non-null int64\n",
      "jumlah_kartu                           13459 non-null int64\n",
      "outstanding                            13459 non-null int64\n",
      "limit_kredit                           13459 non-null float64\n",
      "tagihan                                13459 non-null float64\n",
      "total_pemakaian_tunai                  13459 non-null float64\n",
      "total_pemakaian_retail                 13459 non-null float64\n",
      "sisa_tagihan_tidak_terbayar            13459 non-null float64\n",
      "rasio_pembayaran                       13459 non-null float64\n",
      "persentasi_overlimit                   13459 non-null float64\n",
      "rasio_pembayaran_3bulan                13459 non-null float64\n",
      "rasio_pembayaran_6bulan                13459 non-null float64\n",
      "flag_kredit_macet                      13459 non-null int64\n",
      "jumlah_tahun_sejak_pembukaan_kredit    13459 non-null float64\n",
      "total_pemakaian                        13459 non-null float64\n",
      "sisa_tagihan_per_jumlah_kartu          13459 non-null float64\n",
      "sisa_tagihan_per_limit                 13459 non-null float64\n",
      "total_pemakaian_per_limit              13459 non-null float64\n",
      "pemakaian_3bln_per_limit               13459 non-null float64\n",
      "pemakaian_6bln_per_limit               13459 non-null float64\n",
      "utilisasi_3bulan                       13459 non-null float64\n",
      "utilisasi_6bulan                       13459 non-null float64\n",
      "kode_cabang_B                          13459 non-null uint8\n",
      "kode_cabang_C                          13459 non-null uint8\n",
      "kode_cabang_D                          13459 non-null uint8\n",
      "kode_cabang_E                          13459 non-null uint8\n",
      "kode_cabang_F                          13459 non-null uint8\n",
      "kode_cabang_G                          13459 non-null uint8\n",
      "kode_cabang_H                          13459 non-null uint8\n",
      "kode_cabang_I                          13459 non-null uint8\n",
      "kode_cabang_J                          13459 non-null uint8\n",
      "kode_cabang_K                          13459 non-null uint8\n",
      "skor_delikuensi_1                      13459 non-null uint8\n",
      "skor_delikuensi_2                      13459 non-null uint8\n",
      "skor_delikuensi_3                      13459 non-null uint8\n",
      "skor_delikuensi_4                      13459 non-null uint8\n",
      "skor_delikuensi_5                      13459 non-null uint8\n",
      "dtypes: float64(18), int64(4), uint8(15)\n",
      "memory usage: 3.2 MB\n"
     ]
    }
   ],
   "source": [
    "train.info()"
   ]
  },
  {
   "cell_type": "markdown",
   "metadata": {},
   "source": [
    "# Train Test Split"
   ]
  },
  {
   "cell_type": "code",
   "execution_count": 52,
   "metadata": {},
   "outputs": [],
   "source": [
    "data = train.drop(['id','flag_kredit_macet'], axis=1)\n",
    "target = train['flag_kredit_macet']"
   ]
  },
  {
   "cell_type": "code",
   "execution_count": 53,
   "metadata": {},
   "outputs": [],
   "source": [
    "from sklearn.model_selection import train_test_split\n",
    "X_train, X_test, y_train, y_test = train_test_split(data,target,\n",
    "                                                    test_size=0.30, random_state=101)"
   ]
  },
  {
   "cell_type": "markdown",
   "metadata": {},
   "source": [
    "# Model Creation\n",
    "\n",
    "### a. Random Forest"
   ]
  },
  {
   "cell_type": "code",
   "execution_count": 2,
   "metadata": {},
   "outputs": [],
   "source": [
    "from sklearn.ensemble import RandomForestClassifier\n",
    "from sklearn.metrics import classification_report, roc_auc_score, confusion_matrix, accuracy_score"
   ]
  },
  {
   "cell_type": "code",
   "execution_count": 3,
   "metadata": {},
   "outputs": [],
   "source": [
    "rfc = RandomForestClassifier(n_estimators=100, random_state=101)"
   ]
  },
  {
   "cell_type": "code",
   "execution_count": 4,
   "metadata": {},
   "outputs": [
    {
     "ename": "NameError",
     "evalue": "name 'X_train' is not defined",
     "output_type": "error",
     "traceback": [
      "\u001b[0;31m---------------------------------------------------------------------------\u001b[0m",
      "\u001b[0;31mNameError\u001b[0m                                 Traceback (most recent call last)",
      "\u001b[0;32m<ipython-input-4-823e2bba21ee>\u001b[0m in \u001b[0;36m<module>\u001b[0;34m\u001b[0m\n\u001b[0;32m----> 1\u001b[0;31m \u001b[0mrfc\u001b[0m\u001b[0;34m.\u001b[0m\u001b[0mfit\u001b[0m\u001b[0;34m(\u001b[0m\u001b[0mX_train\u001b[0m\u001b[0;34m,\u001b[0m \u001b[0my_train\u001b[0m\u001b[0;34m)\u001b[0m\u001b[0;34m\u001b[0m\u001b[0;34m\u001b[0m\u001b[0m\n\u001b[0m",
      "\u001b[0;31mNameError\u001b[0m: name 'X_train' is not defined"
     ]
    }
   ],
   "source": [
    "rfc.fit(X_train, y_train)"
   ]
  },
  {
   "cell_type": "code",
   "execution_count": 1,
   "metadata": {},
   "outputs": [
    {
     "ename": "NameError",
     "evalue": "name 'rfc' is not defined",
     "output_type": "error",
     "traceback": [
      "\u001b[0;31m---------------------------------------------------------------------------\u001b[0m",
      "\u001b[0;31mNameError\u001b[0m                                 Traceback (most recent call last)",
      "\u001b[0;32m<ipython-input-1-4527ca26c57a>\u001b[0m in \u001b[0;36m<module>\u001b[0;34m\u001b[0m\n\u001b[0;32m----> 1\u001b[0;31m \u001b[0mpredict\u001b[0m \u001b[0;34m=\u001b[0m \u001b[0mrfc\u001b[0m\u001b[0;34m.\u001b[0m\u001b[0mpredict\u001b[0m\u001b[0;34m(\u001b[0m\u001b[0mxtr\u001b[0m\u001b[0;34m)\u001b[0m\u001b[0;34m\u001b[0m\u001b[0;34m\u001b[0m\u001b[0m\n\u001b[0m\u001b[1;32m      2\u001b[0m \u001b[0mpredictProb\u001b[0m \u001b[0;34m=\u001b[0m \u001b[0mrfc\u001b[0m\u001b[0;34m.\u001b[0m\u001b[0mpredict_proba\u001b[0m\u001b[0;34m(\u001b[0m\u001b[0mxtr\u001b[0m\u001b[0;34m)\u001b[0m\u001b[0;34m\u001b[0m\u001b[0;34m\u001b[0m\u001b[0m\n",
      "\u001b[0;31mNameError\u001b[0m: name 'rfc' is not defined"
     ]
    }
   ],
   "source": [
    "predict = rfc.predict(xtr)\n",
    "predictProb = rfc.predict_proba(xtr)"
   ]
  },
  {
   "cell_type": "code",
   "execution_count": 58,
   "metadata": {},
   "outputs": [
    {
     "name": "stdout",
     "output_type": "stream",
     "text": [
      "[[3606   47]\n",
      " [ 271  114]]\n",
      "              precision    recall  f1-score   support\n",
      "\n",
      "           0       0.93      0.99      0.96      3653\n",
      "           1       0.71      0.30      0.42       385\n",
      "\n",
      "   micro avg       0.92      0.92      0.92      4038\n",
      "   macro avg       0.82      0.64      0.69      4038\n",
      "weighted avg       0.91      0.92      0.91      4038\n",
      "\n",
      "ROC AUC Score = 0.8763496290186681\n"
     ]
    }
   ],
   "source": [
    "print(confusion_matrix(xtr, predict))\n",
    "print(classification_report(xtr, predict))\n",
    "print('ROC AUC Score = ' + str(roc_auc_score(ytr, predictProb[:,1])))"
   ]
  },
  {
   "cell_type": "code",
   "execution_count": 59,
   "metadata": {},
   "outputs": [
    {
     "data": {
      "text/plain": [
       "<matplotlib.axes._subplots.AxesSubplot at 0x283965e44a8>"
      ]
     },
     "execution_count": 59,
     "metadata": {},
     "output_type": "execute_result"
    },
    {
     "data": {
      "image/png": "[encoded data removed]",
      "text/plain": [
       "<Figure size 432x288 with 1 Axes>"
      ]
     },
     "metadata": {},
     "output_type": "display_data"
    }
   ],
   "source": [
    "coef1 = pd.Series(rfc.feature_importances_, X_train.columns).sort_values(ascending = False).head(10)\n",
    "coef1.plot(kind='bar', title='Feature Importances')"
   ]
  },
  {
   "cell_type": "markdown",
   "metadata": {},
   "source": [
    "# Gridsearch"
   ]
  },
  {
   "cell_type": "code",
   "execution_count": 60,
   "metadata": {},
   "outputs": [],
   "source": [
    "# from sklearn.model_selection import GridSearchCV\n",
    "\n",
    "# parameters = {'class_weight':({0:1, 1:2},{0:1, 1:3},{0:1, 1:10}),\n",
    "#              'min_samples_leaf': (5,10,15)}\n",
    "# rfc = RandomForestClassifier(n_estimators=100, random_state=101)\n",
    "# dt = GridSearchCV(rfc, parameters, \n",
    "#                   scoring = ['roc_auc','recall'],\n",
    "#                   refit='recall',cv=5)\n",
    "# dt.fit(X_train, y_train)\n",
    "# dt.best_estimator_"
   ]
  },
  {
   "cell_type": "code",
   "execution_count": 61,
   "metadata": {},
   "outputs": [],
   "source": [
    "rfc = RandomForestClassifier(n_estimators=100, random_state=101, \n",
    "                             class_weight={0:1, 1:10}, min_samples_leaf=15)"
   ]
  },
  {
   "cell_type": "code",
   "execution_count": 62,
   "metadata": {},
   "outputs": [
    {
     "data": {
      "text/plain": [
       "RandomForestClassifier(bootstrap=True, class_weight={0: 1, 1: 10},\n",
       "            criterion='gini', max_depth=None, max_features='auto',\n",
       "            max_leaf_nodes=None, min_impurity_decrease=0.0,\n",
       "            min_impurity_split=None, min_samples_leaf=15,\n",
       "            min_samples_split=2, min_weight_fraction_leaf=0.0,\n",
       "            n_estimators=100, n_jobs=None, oob_score=False,\n",
       "            random_state=101, verbose=0, warm_start=False)"
      ]
     },
     "execution_count": 62,
     "metadata": {},
     "output_type": "execute_result"
    }
   ],
   "source": [
    "rfc.fit(X_train, y_train)"
   ]
  },
  {
   "cell_type": "code",
   "execution_count": 63,
   "metadata": {},
   "outputs": [],
   "source": [
    "predict = rfc.predict(X_test)\n",
    "predictProb = rfc.predict_proba(X_test)"
   ]
  },
  {
   "cell_type": "code",
   "execution_count": 64,
   "metadata": {},
   "outputs": [
    {
     "name": "stdout",
     "output_type": "stream",
     "text": [
      "[[3062  591]\n",
      " [ 113  272]]\n",
      "              precision    recall  f1-score   support\n",
      "\n",
      "           0       0.96      0.84      0.90      3653\n",
      "           1       0.32      0.71      0.44       385\n",
      "\n",
      "   micro avg       0.83      0.83      0.83      4038\n",
      "   macro avg       0.64      0.77      0.67      4038\n",
      "weighted avg       0.90      0.83      0.85      4038\n",
      "\n",
      "ROC AUC Score = 0.8741265851586136\n"
     ]
    }
   ],
   "source": [
    "print(confusion_matrix(y_test, predict))\n",
    "print(classification_report(y_test, predict))\n",
    "print('ROC AUC Score = ' + str(roc_auc_score(y_test, predictProb[:,1])))"
   ]
  },
  {
   "cell_type": "markdown",
   "metadata": {},
   "source": [
    "# Oversampling"
   ]
  },
  {
   "cell_type": "code",
   "execution_count": 65,
   "metadata": {},
   "outputs": [],
   "source": [
    "from imblearn.over_sampling import RandomOverSampler,SMOTE"
   ]
  },
  {
   "cell_type": "code",
   "execution_count": 66,
   "metadata": {},
   "outputs": [
    {
     "data": {
      "text/plain": [
       "0    8447\n",
       "1     974\n",
       "Name: flag_kredit_macet, dtype: int64"
      ]
     },
     "execution_count": 66,
     "metadata": {},
     "output_type": "execute_result"
    }
   ],
   "source": [
    "y_train.value_counts()"
   ]
  },
  {
   "cell_type": "code",
   "execution_count": 67,
   "metadata": {},
   "outputs": [],
   "source": [
    "ros = RandomOverSampler(random_state=101)\n",
    "# smot = SMOTE(random_state=101)\n",
    "\n",
    "X_ros, y_ros = ros.fit_sample(X_train, y_train)\n",
    "# X_smot, y_smot = smot.fit_sample(X_train, y_train)"
   ]
  },
  {
   "cell_type": "code",
   "execution_count": 68,
   "metadata": {},
   "outputs": [
    {
     "data": {
      "text/plain": [
       "1    8447\n",
       "0    8447\n",
       "dtype: int64"
      ]
     },
     "execution_count": 68,
     "metadata": {},
     "output_type": "execute_result"
    }
   ],
   "source": [
    "pd.Series(y_ros).value_counts()\n",
    "# pd.Series(y_smot).value_counts()"
   ]
  },
  {
   "cell_type": "code",
   "execution_count": 69,
   "metadata": {},
   "outputs": [],
   "source": [
    "rfc = RandomForestClassifier(n_estimators=100, random_state=101, min_samples_leaf=25)"
   ]
  },
  {
   "cell_type": "code",
   "execution_count": 70,
   "metadata": {},
   "outputs": [
    {
     "data": {
      "text/plain": [
       "RandomForestClassifier(bootstrap=True, class_weight=None, criterion='gini',\n",
       "            max_depth=None, max_features='auto', max_leaf_nodes=None,\n",
       "            min_impurity_decrease=0.0, min_impurity_split=None,\n",
       "            min_samples_leaf=25, min_samples_split=2,\n",
       "            min_weight_fraction_leaf=0.0, n_estimators=100, n_jobs=None,\n",
       "            oob_score=False, random_state=101, verbose=0, warm_start=False)"
      ]
     },
     "execution_count": 70,
     "metadata": {},
     "output_type": "execute_result"
    }
   ],
   "source": [
    "rfc.fit(X_ros, y_ros)\n",
    "# rfc.fit(X_smot, y_smot)\n",
    "# rfc.fit(X_train,y_train)"
   ]
  },
  {
   "cell_type": "code",
   "execution_count": 71,
   "metadata": {},
   "outputs": [],
   "source": [
    "predict = rfc.predict(X_test)\n",
    "predictProb = rfc.predict_proba(X_test)"
   ]
  },
  {
   "cell_type": "code",
   "execution_count": 72,
   "metadata": {},
   "outputs": [
    {
     "name": "stdout",
     "output_type": "stream",
     "text": [
      "[[3044  609]\n",
      " [ 111  274]]\n",
      "              precision    recall  f1-score   support\n",
      "\n",
      "           0       0.96      0.83      0.89      3653\n",
      "           1       0.31      0.71      0.43       385\n",
      "\n",
      "   micro avg       0.82      0.82      0.82      4038\n",
      "   macro avg       0.64      0.77      0.66      4038\n",
      "weighted avg       0.90      0.82      0.85      4038\n",
      "\n",
      "ROC AUC Score = 0.87578969073631\n"
     ]
    }
   ],
   "source": [
    "print(confusion_matrix(y_test, predict))\n",
    "print(classification_report(y_test, predict))\n",
    "print('ROC AUC Score = ' + str(roc_auc_score(y_test, predictProb[:,1])))"
   ]
  },
  {
   "cell_type": "code",
   "execution_count": 73,
   "metadata": {},
   "outputs": [
    {
     "data": {
      "text/plain": [
       "<matplotlib.axes._subplots.AxesSubplot at 0x283967a7710>"
      ]
     },
     "execution_count": 73,
     "metadata": {},
     "output_type": "execute_result"
    },
    {
     "data": {
      "image/png": "[encoded data removed]",
      "text/plain": [
       "<Figure size 432x288 with 1 Axes>"
      ]
     },
     "metadata": {},
     "output_type": "display_data"
    }
   ],
   "source": [
    "coef1 = pd.Series(rfc.feature_importances_, X_train.columns).sort_values(ascending = False).head(10)\n",
    "coef1.plot(kind='bar', title='Feature Importances')"
   ]
  },
  {
   "cell_type": "markdown",
   "metadata": {},
   "source": [
    "# Gradient Boosting Testing"
   ]
  },
  {
   "cell_type": "code",
   "execution_count": 74,
   "metadata": {},
   "outputs": [],
   "source": [
    "from sklearn.ensemble import GradientBoostingClassifier\n",
    "\n",
    "gbc = GradientBoostingClassifier(n_estimators=100, learning_rate=0.1)"
   ]
  },
  {
   "cell_type": "code",
   "execution_count": 75,
   "metadata": {},
   "outputs": [
    {
     "data": {
      "text/plain": [
       "GradientBoostingClassifier(criterion='friedman_mse', init=None,\n",
       "              learning_rate=0.1, loss='deviance', max_depth=3,\n",
       "              max_features=None, max_leaf_nodes=None,\n",
       "              min_impurity_decrease=0.0, min_impurity_split=None,\n",
       "              min_samples_leaf=1, min_samples_split=2,\n",
       "              min_weight_fraction_leaf=0.0, n_estimators=100,\n",
       "              n_iter_no_change=None, presort='auto', random_state=None,\n",
       "              subsample=1.0, tol=0.0001, validation_fraction=0.1,\n",
       "              verbose=0, warm_start=False)"
      ]
     },
     "execution_count": 75,
     "metadata": {},
     "output_type": "execute_result"
    }
   ],
   "source": [
    "gbc.fit(X_train, y_train)"
   ]
  },
  {
   "cell_type": "code",
   "execution_count": 76,
   "metadata": {},
   "outputs": [],
   "source": [
    "trainpredict = gbc.predict(X_train)\n",
    "trainpredictProb = gbc.predict_proba(X_train)"
   ]
  },
  {
   "cell_type": "code",
   "execution_count": 77,
   "metadata": {},
   "outputs": [
    {
     "name": "stdout",
     "output_type": "stream",
     "text": [
      "[[8413   34]\n",
      " [ 601  373]]\n",
      "              precision    recall  f1-score   support\n",
      "\n",
      "           0       0.93      1.00      0.96      8447\n",
      "           1       0.92      0.38      0.54       974\n",
      "\n",
      "   micro avg       0.93      0.93      0.93      9421\n",
      "   macro avg       0.92      0.69      0.75      9421\n",
      "weighted avg       0.93      0.93      0.92      9421\n",
      "\n",
      "ROC AUC Score = 0.9256007807104523\n"
     ]
    }
   ],
   "source": [
    "print(confusion_matrix(y_train, trainpredict))\n",
    "print(classification_report(y_train, trainpredict))\n",
    "print('ROC AUC Score = ' + str(roc_auc_score(y_train, trainpredictProb[:,1])))"
   ]
  },
  {
   "cell_type": "code",
   "execution_count": 78,
   "metadata": {},
   "outputs": [],
   "source": [
    "testpredict = gbc.predict(X_test)\n",
    "testpredictProb = gbc.predict_proba(X_test)"
   ]
  },
  {
   "cell_type": "code",
   "execution_count": 79,
   "metadata": {},
   "outputs": [
    {
     "name": "stdout",
     "output_type": "stream",
     "text": [
      "[[3601   52]\n",
      " [ 276  109]]\n",
      "              precision    recall  f1-score   support\n",
      "\n",
      "           0       0.93      0.99      0.96      3653\n",
      "           1       0.68      0.28      0.40       385\n",
      "\n",
      "   micro avg       0.92      0.92      0.92      4038\n",
      "   macro avg       0.80      0.63      0.68      4038\n",
      "weighted avg       0.90      0.92      0.90      4038\n",
      "\n",
      "ROC AUC Score = 0.8714865205968408\n"
     ]
    }
   ],
   "source": [
    "print(confusion_matrix(y_test, testpredict))\n",
    "print(classification_report(y_test, testpredict))\n",
    "print('ROC AUC Score = ' + str(roc_auc_score(y_test, testpredictProb[:,1])))"
   ]
  },
  {
   "cell_type": "markdown",
   "metadata": {},
   "source": [
    "# XGBoost Testing"
   ]
  },
  {
   "cell_type": "code",
   "execution_count": 80,
   "metadata": {},
   "outputs": [],
   "source": [
    "from xgboost import XGBClassifier"
   ]
  },
  {
   "cell_type": "code",
   "execution_count": 81,
   "metadata": {},
   "outputs": [],
   "source": [
    "xgb = XGBClassifier(n_estimators=100, learning_rate=0.1)"
   ]
  },
  {
   "cell_type": "code",
   "execution_count": 82,
   "metadata": {},
   "outputs": [
    {
     "data": {
      "text/plain": [
       "XGBClassifier(base_score=0.5, booster='gbtree', colsample_bylevel=1,\n",
       "       colsample_bytree=1, gamma=0, learning_rate=0.1, max_delta_step=0,\n",
       "       max_depth=3, min_child_weight=1, missing=None, n_estimators=100,\n",
       "       n_jobs=1, nthread=None, objective='binary:logistic', random_state=0,\n",
       "       reg_alpha=0, reg_lambda=1, scale_pos_weight=1, seed=None,\n",
       "       silent=True, subsample=1)"
      ]
     },
     "execution_count": 82,
     "metadata": {},
     "output_type": "execute_result"
    }
   ],
   "source": [
    "xgb.fit(X_train, y_train)"
   ]
  },
  {
   "cell_type": "code",
   "execution_count": 83,
   "metadata": {},
   "outputs": [],
   "source": [
    "trainpredict = xgb.predict(X_train)\n",
    "trainpredictProb = xgb.predict_proba(X_train)"
   ]
  },
  {
   "cell_type": "code",
   "execution_count": 84,
   "metadata": {},
   "outputs": [
    {
     "name": "stdout",
     "output_type": "stream",
     "text": [
      "[[8413   34]\n",
      " [ 636  338]]\n",
      "              precision    recall  f1-score   support\n",
      "\n",
      "           0       0.93      1.00      0.96      8447\n",
      "           1       0.91      0.35      0.50       974\n",
      "\n",
      "   micro avg       0.93      0.93      0.93      9421\n",
      "   macro avg       0.92      0.67      0.73      9421\n",
      "weighted avg       0.93      0.93      0.91      9421\n",
      "\n",
      "ROC AUC Score = 0.9198515006846653\n"
     ]
    }
   ],
   "source": [
    "print(confusion_matrix(y_train, trainpredict))\n",
    "print(classification_report(y_train, trainpredict))\n",
    "print('ROC AUC Score = ' + str(roc_auc_score(y_train, trainpredictProb[:,1])))"
   ]
  },
  {
   "cell_type": "code",
   "execution_count": 85,
   "metadata": {},
   "outputs": [],
   "source": [
    "testpredict = xgb.predict(X_test)\n",
    "testpredictProb = xgb.predict_proba(X_test)"
   ]
  },
  {
   "cell_type": "code",
   "execution_count": 86,
   "metadata": {},
   "outputs": [
    {
     "name": "stdout",
     "output_type": "stream",
     "text": [
      "[[3617   36]\n",
      " [ 276  109]]\n",
      "              precision    recall  f1-score   support\n",
      "\n",
      "           0       0.93      0.99      0.96      3653\n",
      "           1       0.75      0.28      0.41       385\n",
      "\n",
      "   micro avg       0.92      0.92      0.92      4038\n",
      "   macro avg       0.84      0.64      0.68      4038\n",
      "weighted avg       0.91      0.92      0.91      4038\n",
      "\n",
      "ROC AUC Score = 0.8740437498444615\n"
     ]
    }
   ],
   "source": [
    "print(confusion_matrix(y_test, testpredict))\n",
    "print(classification_report(y_test, testpredict))\n",
    "print('ROC AUC Score = ' + str(roc_auc_score(y_test, testpredictProb[:,1])))"
   ]
  },
  {
   "cell_type": "code",
   "execution_count": null,
   "metadata": {},
   "outputs": [],
   "source": []
  }
 ],
 "metadata": {
  "kernelspec": {
   "display_name": "Python 3",
   "language": "python",
   "name": "python3"
  },
  "language_info": {
   "codemirror_mode": {
    "name": "ipython",
    "version": 3
   },
   "file_extension": ".py",
   "mimetype": "text/x-python",
   "name": "python",
   "nbconvert_exporter": "python",
   "pygments_lexer": "ipython3",
   "version": "3.7.4"
  }
 },
 "nbformat": 4,
 "nbformat_minor": 2
}
