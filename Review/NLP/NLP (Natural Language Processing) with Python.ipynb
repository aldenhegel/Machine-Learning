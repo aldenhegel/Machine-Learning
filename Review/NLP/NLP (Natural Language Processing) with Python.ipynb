{
 "cells": [
  {
   "cell_type": "markdown",
   "metadata": {},
   "source": [
    "# NLP (Natural Language Processing) with Python\n",
    "    \n",
    "**Requirements: You will need to have NLTK installed, along with downloading the corpus for stopwords. To download everything with a conda installation, run the cell below.**"
   ]
  },
  {
   "cell_type": "code",
   "execution_count": 1,
   "metadata": {},
   "outputs": [],
   "source": [
    "# import nltk # Imports the library\n",
    "# nltk.download_shell() #Download the necessary datasets"
   ]
  },
  {
   "cell_type": "markdown",
   "metadata": {},
   "source": [
    "## Get the Data"
   ]
  },
  {
   "cell_type": "markdown",
   "metadata": {},
   "source": [
    "We'll be using a dataset from the [UCI datasets](https://archive.ics.uci.edu/ml/datasets/SMS+Spam+Collection)! This dataset is already located in the folder for this section."
   ]
  },
  {
   "cell_type": "markdown",
   "metadata": {},
   "source": [
    "The file we are using contains a collection of more than 5 thousand SMS phone messages. You can check out the **readme** file for more info.\n",
    "\n",
    "Let's go ahead and use rstrip() plus a list comprehension to get a list of all the lines of text messages:"
   ]
  },
  {
   "cell_type": "code",
   "execution_count": 2,
   "metadata": {},
   "outputs": [
    {
     "name": "stdout",
     "output_type": "stream",
     "text": [
      "5574\n"
     ]
    }
   ],
   "source": [
    "messages = [line.rstrip() for line in open('smsspamcollection/SMSSpamCollection')]\n",
    "print(len(messages))"
   ]
  },
  {
   "cell_type": "code",
   "execution_count": 3,
   "metadata": {},
   "outputs": [
    {
     "data": {
      "text/plain": [
       "[\"spam\\tFree entry in 2 a wkly comp to win FA Cup final tkts 21st May 2005. Text FA to 87121 to receive entry question(std txt rate)T&C's apply 08452810075over18's\",\n",
       " 'ham\\tU dun say so early hor... U c already then say...',\n",
       " \"ham\\tNah I don't think he goes to usf, he lives around here though\"]"
      ]
     },
     "execution_count": 3,
     "metadata": {},
     "output_type": "execute_result"
    }
   ],
   "source": [
    "messages[2:5]"
   ]
  },
  {
   "cell_type": "markdown",
   "metadata": {},
   "source": [
    "A collection of texts is also sometimes called \"corpus\". Let's print the first ten messages and number them using **enumerate**:"
   ]
  },
  {
   "cell_type": "code",
   "execution_count": 4,
   "metadata": {},
   "outputs": [
    {
     "data": {
      "text/plain": [
       "[(0, 'pajamas'), (1, 'ninja'), (2, 'hello')]"
      ]
     },
     "execution_count": 4,
     "metadata": {},
     "output_type": "execute_result"
    }
   ],
   "source": [
    "listContoh = {'hello','pajamas','ninja'}\n",
    "test = enumerate(listContoh)\n",
    "list(test)"
   ]
  },
  {
   "cell_type": "code",
   "execution_count": 5,
   "metadata": {},
   "outputs": [
    {
     "name": "stdout",
     "output_type": "stream",
     "text": [
      "0 ham\tGo until jurong point, crazy.. Available only in bugis n great world la e buffet... Cine there got amore wat...\n",
      "\n",
      "\n",
      "1 ham\tOk lar... Joking wif u oni...\n",
      "\n",
      "\n",
      "2 spam\tFree entry in 2 a wkly comp to win FA Cup final tkts 21st May 2005. Text FA to 87121 to receive entry question(std txt rate)T&C's apply 08452810075over18's\n",
      "\n",
      "\n",
      "3 ham\tU dun say so early hor... U c already then say...\n",
      "\n",
      "\n",
      "4 ham\tNah I don't think he goes to usf, he lives around here though\n",
      "\n",
      "\n",
      "5 spam\tFreeMsg Hey there darling it's been 3 week's now and no word back! I'd like some fun you up for it still? Tb ok! XxX std chgs to send, Â£1.50 to rcv\n",
      "\n",
      "\n",
      "6 ham\tEven my brother is not like to speak with me. They treat me like aids patent.\n",
      "\n",
      "\n",
      "7 ham\tAs per your request 'Melle Melle (Oru Minnaminunginte Nurungu Vettam)' has been set as your callertune for all Callers. Press *9 to copy your friends Callertune\n",
      "\n",
      "\n",
      "8 spam\tWINNER!! As a valued network customer you have been selected to receivea Â£900 prize reward! To claim call 09061701461. Claim code KL341. Valid 12 hours only.\n",
      "\n",
      "\n",
      "9 spam\tHad your mobile 11 months or more? U R entitled to Update to the latest colour mobiles with camera for Free! Call The Mobile Update Co FREE on 08002986030\n",
      "\n",
      "\n"
     ]
    }
   ],
   "source": [
    "for message_no, message in enumerate(messages[:10]):\n",
    "    print(message_no, message)\n",
    "    print('\\n')"
   ]
  },
  {
   "cell_type": "markdown",
   "metadata": {},
   "source": [
    "Due to the spacing we can tell that this is a [TSV](http://en.wikipedia.org/wiki/Tab-separated_values) (\"tab separated values\") file, where the first column is a label saying whether the given message is a normal message (commonly known as \"ham\") or \"spam\". The second column is the message itself. (Note our numbers aren't part of the file, they are just from the **enumerate** call).\n",
    "\n",
    "Using these labeled ham and spam examples, we'll **train a machine learning model to learn to discriminate between ham/spam automatically**. Then, with a trained model, we'll be able to **classify arbitrary unlabeled messages** as ham or spam.\n",
    "\n",
    "From the official SciKit Learn documentation, we can visualize our process:"
   ]
  },
  {
   "cell_type": "markdown",
   "metadata": {},
   "source": [
    "<img src='http://www.astroml.org/sklearn_tutorial/_images/plot_ML_flow_chart_3.png' width=600/>"
   ]
  },
  {
   "cell_type": "markdown",
   "metadata": {},
   "source": [
    "Instead of parsing TSV manually using Python, we can just take advantage of pandas! Let's go ahead and import it!"
   ]
  },
  {
   "cell_type": "code",
   "execution_count": 6,
   "metadata": {},
   "outputs": [],
   "source": [
    "import pandas as pd"
   ]
  },
  {
   "cell_type": "markdown",
   "metadata": {},
   "source": [
    "We'll use **read_csv** and make note of the **sep** argument, we can also specify the desired column names by passing in a list of *names*."
   ]
  },
  {
   "cell_type": "code",
   "execution_count": 7,
   "metadata": {},
   "outputs": [
    {
     "data": {
      "text/html": [
       "<div>\n",
       "<style scoped>\n",
       "    .dataframe tbody tr th:only-of-type {\n",
       "        vertical-align: middle;\n",
       "    }\n",
       "\n",
       "    .dataframe tbody tr th {\n",
       "        vertical-align: top;\n",
       "    }\n",
       "\n",
       "    .dataframe thead th {\n",
       "        text-align: right;\n",
       "    }\n",
       "</style>\n",
       "<table border=\"1\" class=\"dataframe\">\n",
       "  <thead>\n",
       "    <tr style=\"text-align: right;\">\n",
       "      <th></th>\n",
       "      <th>label</th>\n",
       "      <th>message</th>\n",
       "    </tr>\n",
       "  </thead>\n",
       "  <tbody>\n",
       "    <tr>\n",
       "      <th>0</th>\n",
       "      <td>ham</td>\n",
       "      <td>Go until jurong point, crazy.. Available only ...</td>\n",
       "    </tr>\n",
       "    <tr>\n",
       "      <th>1</th>\n",
       "      <td>ham</td>\n",
       "      <td>Ok lar... Joking wif u oni...</td>\n",
       "    </tr>\n",
       "    <tr>\n",
       "      <th>2</th>\n",
       "      <td>spam</td>\n",
       "      <td>Free entry in 2 a wkly comp to win FA Cup fina...</td>\n",
       "    </tr>\n",
       "    <tr>\n",
       "      <th>3</th>\n",
       "      <td>ham</td>\n",
       "      <td>U dun say so early hor... U c already then say...</td>\n",
       "    </tr>\n",
       "    <tr>\n",
       "      <th>4</th>\n",
       "      <td>ham</td>\n",
       "      <td>Nah I don't think he goes to usf, he lives aro...</td>\n",
       "    </tr>\n",
       "  </tbody>\n",
       "</table>\n",
       "</div>"
      ],
      "text/plain": [
       "  label                                            message\n",
       "0   ham  Go until jurong point, crazy.. Available only ...\n",
       "1   ham                      Ok lar... Joking wif u oni...\n",
       "2  spam  Free entry in 2 a wkly comp to win FA Cup fina...\n",
       "3   ham  U dun say so early hor... U c already then say...\n",
       "4   ham  Nah I don't think he goes to usf, he lives aro..."
      ]
     },
     "execution_count": 7,
     "metadata": {},
     "output_type": "execute_result"
    }
   ],
   "source": [
    "messages = pd.read_csv('smsspamcollection/SMSSpamCollection', sep='\\t',\n",
    "                           names=[\"label\", \"message\"])\n",
    "messages.head()"
   ]
  },
  {
   "cell_type": "markdown",
   "metadata": {},
   "source": [
    "## Exploratory Data Analysis\n",
    "\n",
    "Let's check out some of the stats with some plots and the built-in methods in pandas!"
   ]
  },
  {
   "cell_type": "code",
   "execution_count": 8,
   "metadata": {},
   "outputs": [
    {
     "data": {
      "text/html": [
       "<div>\n",
       "<style scoped>\n",
       "    .dataframe tbody tr th:only-of-type {\n",
       "        vertical-align: middle;\n",
       "    }\n",
       "\n",
       "    .dataframe tbody tr th {\n",
       "        vertical-align: top;\n",
       "    }\n",
       "\n",
       "    .dataframe thead th {\n",
       "        text-align: right;\n",
       "    }\n",
       "</style>\n",
       "<table border=\"1\" class=\"dataframe\">\n",
       "  <thead>\n",
       "    <tr style=\"text-align: right;\">\n",
       "      <th></th>\n",
       "      <th>label</th>\n",
       "      <th>message</th>\n",
       "    </tr>\n",
       "  </thead>\n",
       "  <tbody>\n",
       "    <tr>\n",
       "      <th>count</th>\n",
       "      <td>5572</td>\n",
       "      <td>5572</td>\n",
       "    </tr>\n",
       "    <tr>\n",
       "      <th>unique</th>\n",
       "      <td>2</td>\n",
       "      <td>5169</td>\n",
       "    </tr>\n",
       "    <tr>\n",
       "      <th>top</th>\n",
       "      <td>ham</td>\n",
       "      <td>Sorry, I'll call later</td>\n",
       "    </tr>\n",
       "    <tr>\n",
       "      <th>freq</th>\n",
       "      <td>4825</td>\n",
       "      <td>30</td>\n",
       "    </tr>\n",
       "  </tbody>\n",
       "</table>\n",
       "</div>"
      ],
      "text/plain": [
       "       label                 message\n",
       "count   5572                    5572\n",
       "unique     2                    5169\n",
       "top      ham  Sorry, I'll call later\n",
       "freq    4825                      30"
      ]
     },
     "execution_count": 8,
     "metadata": {},
     "output_type": "execute_result"
    }
   ],
   "source": [
    "messages.describe()"
   ]
  },
  {
   "cell_type": "markdown",
   "metadata": {},
   "source": [
    "Let's use **groupby** to use describe by label, this way we can begin to think about the features that separate ham and spam!"
   ]
  },
  {
   "cell_type": "code",
   "execution_count": 9,
   "metadata": {},
   "outputs": [
    {
     "data": {
      "text/html": [
       "<div>\n",
       "<style scoped>\n",
       "    .dataframe tbody tr th:only-of-type {\n",
       "        vertical-align: middle;\n",
       "    }\n",
       "\n",
       "    .dataframe tbody tr th {\n",
       "        vertical-align: top;\n",
       "    }\n",
       "\n",
       "    .dataframe thead tr th {\n",
       "        text-align: left;\n",
       "    }\n",
       "\n",
       "    .dataframe thead tr:last-of-type th {\n",
       "        text-align: right;\n",
       "    }\n",
       "</style>\n",
       "<table border=\"1\" class=\"dataframe\">\n",
       "  <thead>\n",
       "    <tr>\n",
       "      <th></th>\n",
       "      <th colspan=\"4\" halign=\"left\">message</th>\n",
       "    </tr>\n",
       "    <tr>\n",
       "      <th></th>\n",
       "      <th>count</th>\n",
       "      <th>unique</th>\n",
       "      <th>top</th>\n",
       "      <th>freq</th>\n",
       "    </tr>\n",
       "    <tr>\n",
       "      <th>label</th>\n",
       "      <th></th>\n",
       "      <th></th>\n",
       "      <th></th>\n",
       "      <th></th>\n",
       "    </tr>\n",
       "  </thead>\n",
       "  <tbody>\n",
       "    <tr>\n",
       "      <th>ham</th>\n",
       "      <td>4825</td>\n",
       "      <td>4516</td>\n",
       "      <td>Sorry, I'll call later</td>\n",
       "      <td>30</td>\n",
       "    </tr>\n",
       "    <tr>\n",
       "      <th>spam</th>\n",
       "      <td>747</td>\n",
       "      <td>653</td>\n",
       "      <td>Please call our customer service representativ...</td>\n",
       "      <td>4</td>\n",
       "    </tr>\n",
       "  </tbody>\n",
       "</table>\n",
       "</div>"
      ],
      "text/plain": [
       "      message                                                               \n",
       "        count unique                                                top freq\n",
       "label                                                                       \n",
       "ham      4825   4516                             Sorry, I'll call later   30\n",
       "spam      747    653  Please call our customer service representativ...    4"
      ]
     },
     "execution_count": 9,
     "metadata": {},
     "output_type": "execute_result"
    }
   ],
   "source": [
    "messages.groupby('label').describe()"
   ]
  },
  {
   "cell_type": "markdown",
   "metadata": {},
   "source": [
    "As we continue our analysis we want to start thinking about the features we are going to be using. This goes along with the general idea of [feature engineering](https://en.wikipedia.org/wiki/Feature_engineering). The better your domain knowledge on the data, the better your ability to engineer more features from it. Feature engineering is a very large part of spam detection in general. I encourage you to read up on the topic!\n",
    "\n",
    "Let's make a new column to detect how long the text messages are:"
   ]
  },
  {
   "cell_type": "code",
   "execution_count": 10,
   "metadata": {},
   "outputs": [
    {
     "data": {
      "text/html": [
       "<div>\n",
       "<style scoped>\n",
       "    .dataframe tbody tr th:only-of-type {\n",
       "        vertical-align: middle;\n",
       "    }\n",
       "\n",
       "    .dataframe tbody tr th {\n",
       "        vertical-align: top;\n",
       "    }\n",
       "\n",
       "    .dataframe thead th {\n",
       "        text-align: right;\n",
       "    }\n",
       "</style>\n",
       "<table border=\"1\" class=\"dataframe\">\n",
       "  <thead>\n",
       "    <tr style=\"text-align: right;\">\n",
       "      <th></th>\n",
       "      <th>label</th>\n",
       "      <th>message</th>\n",
       "      <th>length</th>\n",
       "    </tr>\n",
       "  </thead>\n",
       "  <tbody>\n",
       "    <tr>\n",
       "      <th>0</th>\n",
       "      <td>ham</td>\n",
       "      <td>Go until jurong point, crazy.. Available only ...</td>\n",
       "      <td>111</td>\n",
       "    </tr>\n",
       "    <tr>\n",
       "      <th>1</th>\n",
       "      <td>ham</td>\n",
       "      <td>Ok lar... Joking wif u oni...</td>\n",
       "      <td>29</td>\n",
       "    </tr>\n",
       "    <tr>\n",
       "      <th>2</th>\n",
       "      <td>spam</td>\n",
       "      <td>Free entry in 2 a wkly comp to win FA Cup fina...</td>\n",
       "      <td>155</td>\n",
       "    </tr>\n",
       "    <tr>\n",
       "      <th>3</th>\n",
       "      <td>ham</td>\n",
       "      <td>U dun say so early hor... U c already then say...</td>\n",
       "      <td>49</td>\n",
       "    </tr>\n",
       "    <tr>\n",
       "      <th>4</th>\n",
       "      <td>ham</td>\n",
       "      <td>Nah I don't think he goes to usf, he lives aro...</td>\n",
       "      <td>61</td>\n",
       "    </tr>\n",
       "  </tbody>\n",
       "</table>\n",
       "</div>"
      ],
      "text/plain": [
       "  label                                            message  length\n",
       "0   ham  Go until jurong point, crazy.. Available only ...     111\n",
       "1   ham                      Ok lar... Joking wif u oni...      29\n",
       "2  spam  Free entry in 2 a wkly comp to win FA Cup fina...     155\n",
       "3   ham  U dun say so early hor... U c already then say...      49\n",
       "4   ham  Nah I don't think he goes to usf, he lives aro...      61"
      ]
     },
     "execution_count": 10,
     "metadata": {},
     "output_type": "execute_result"
    }
   ],
   "source": [
    "messages['length'] = messages['message'].apply(len)\n",
    "messages.head()"
   ]
  },
  {
   "cell_type": "markdown",
   "metadata": {},
   "source": [
    "### Data Visualization\n",
    "Let's visualize this! Let's do the imports:"
   ]
  },
  {
   "cell_type": "code",
   "execution_count": 11,
   "metadata": {},
   "outputs": [],
   "source": [
    "import matplotlib.pyplot as plt\n",
    "import seaborn as sns\n",
    "\n",
    "%matplotlib inline"
   ]
  },
  {
   "cell_type": "code",
   "execution_count": 12,
   "metadata": {},
   "outputs": [
    {
     "data": {
      "text/plain": [
       "<matplotlib.axes._subplots.AxesSubplot at 0x2101a495ac8>"
      ]
     },
     "execution_count": 12,
     "metadata": {},
     "output_type": "execute_result"
    },
    {
     "data": {
      "image/png": "[encoded data removed]",
      "text/plain": [
       "<Figure size 432x288 with 1 Axes>"
      ]
     },
     "metadata": {},
     "output_type": "display_data"
    }
   ],
   "source": [
    "messages['length'].plot(bins=50, kind='hist') "
   ]
  },
  {
   "cell_type": "markdown",
   "metadata": {},
   "source": [
    "Play around with the bin size! Looks like text length may be a good feature to think about! Let's try to explain why the x-axis goes all the way to 1000ish, this must mean that there is some really long message!"
   ]
  },
  {
   "cell_type": "code",
   "execution_count": 13,
   "metadata": {},
   "outputs": [
    {
     "data": {
      "text/plain": [
       "count    5572.000000\n",
       "mean       80.489950\n",
       "std        59.942907\n",
       "min         2.000000\n",
       "25%        36.000000\n",
       "50%        62.000000\n",
       "75%       122.000000\n",
       "max       910.000000\n",
       "Name: length, dtype: float64"
      ]
     },
     "execution_count": 13,
     "metadata": {},
     "output_type": "execute_result"
    }
   ],
   "source": [
    "messages['length'].describe()"
   ]
  },
  {
   "cell_type": "code",
   "execution_count": 14,
   "metadata": {},
   "outputs": [
    {
     "data": {
      "text/plain": [
       "'Ok'"
      ]
     },
     "execution_count": 14,
     "metadata": {},
     "output_type": "execute_result"
    }
   ],
   "source": [
    "messages[messages['length'] == 2]['message'].iloc[0]"
   ]
  },
  {
   "cell_type": "markdown",
   "metadata": {},
   "source": [
    "Woah! 910 characters, let's use masking to find this message:"
   ]
  },
  {
   "cell_type": "code",
   "execution_count": 15,
   "metadata": {},
   "outputs": [
    {
     "data": {
      "text/plain": [
       "\"For me the love should start with attraction.i should feel that I need her every time around me.she should be the first thing which comes in my thoughts.I would start the day and end it with her.she should be there every time I dream.love will be then when my every breath has her name.my life should happen around her.my life will be named to her.I would cry for her.will give all my happiness and take all her sorrows.I will be ready to fight with anyone for her.I will be in love when I will be doing the craziest things for her.love will be when I don't have to proove anyone that my girl is the most beautiful lady on the whole planet.I will always be singing praises for her.love will be when I start up making chicken curry and end up makiing sambar.life will be the most beautiful then.will get every morning and thank god for the day because she is with me.I would like to say a lot..will tell later..\""
      ]
     },
     "execution_count": 15,
     "metadata": {},
     "output_type": "execute_result"
    }
   ],
   "source": [
    "messages[messages['length'] == 910]['message'].iloc[0]"
   ]
  },
  {
   "cell_type": "markdown",
   "metadata": {},
   "source": [
    "Looks like we have some sort of Romeo sending texts! But let's focus back on the idea of trying to see if message length is a distinguishing feature between ham and spam:"
   ]
  },
  {
   "cell_type": "code",
   "execution_count": 16,
   "metadata": {},
   "outputs": [
    {
     "data": {
      "text/plain": [
       "array([<matplotlib.axes._subplots.AxesSubplot object at 0x000002101A66F6A0>,\n",
       "       <matplotlib.axes._subplots.AxesSubplot object at 0x000002101B8957F0>],\n",
       "      dtype=object)"
      ]
     },
     "execution_count": 16,
     "metadata": {},
     "output_type": "execute_result"
    },
    {
     "data": {
      "image/png": "[encoded data removed]",
      "text/plain": [
       "<Figure size 864x288 with 2 Axes>"
      ]
     },
     "metadata": {},
     "output_type": "display_data"
    }
   ],
   "source": [
    "messages[messages['length'] < 400].hist(column='length', by='label', bins=50,figsize=(12,4))"
   ]
  },
  {
   "cell_type": "markdown",
   "metadata": {},
   "source": [
    "Very interesting! Through just basic EDA we've been able to discover a trend that spam messages tend to have more characters. (Sorry Romeo!)\n",
    "\n",
    "Now let's begin to process the data so we can eventually use it with SciKit Learn!"
   ]
  },
  {
   "cell_type": "markdown",
   "metadata": {},
   "source": [
    "## Text Pre-processing"
   ]
  },
  {
   "cell_type": "markdown",
   "metadata": {},
   "source": [
    "Our main issue with our data is that it is all in text format (strings). The classification algorithms that we've learned about so far will need some sort of numerical feature vector in order to perform the classification task. There are actually many methods to convert a corpus to a vector format. The simplest is the the [bag-of-words](http://en.wikipedia.org/wiki/Bag-of-words_model) approach, where each unique word in a text will be represented by one number.\n",
    "\n",
    "\n",
    "In this section we'll convert the raw messages (sequence of characters) into vectors (sequences of numbers).\n",
    "\n",
    "As a first step, let's write a function that will split a message into its individual words and return a list. We'll also remove very common words, ('the', 'a', etc..). To do this we will take advantage of the NLTK library. It's pretty much the standard library in Python for processing text and has a lot of useful features. We'll only use some of the basic ones here.\n",
    "\n",
    "Let's create a function that will process the string in the message column, then we can just use **apply()** in pandas do process all the text in the DataFrame.\n",
    "\n",
    "First removing punctuation. We can just take advantage of Python's built-in **string** library to get a quick list of all the possible punctuation:"
   ]
  },
  {
   "cell_type": "code",
   "execution_count": 17,
   "metadata": {},
   "outputs": [
    {
     "name": "stdout",
     "output_type": "stream",
     "text": [
      "!\"#$%&'()*+,-./:;<=>?@[\\]^_`{|}~\n",
      "['S', 'a', 'm', 'p', 'l', 'e', ' ', 'm', 'e', 's', 's', 'a', 'g', 'e', ' ', 'N', 'o', 't', 'i', 'c', 'e', ' ', 'i', 't', ' ', 'h', 'a', 's', ' ', 'p', 'u', 'n', 'c', 't', 'u', 'a', 't', 'i', 'o', 'n']\n",
      "Sample message Notice it has punctuation\n"
     ]
    }
   ],
   "source": [
    "import string\n",
    "\n",
    "mess = 'Sample message! Notice: it has punctuation.'\n",
    "\n",
    "print(string.punctuation)\n",
    "# Check characters to see if they are in punctuation\n",
    "nopunc = [char for char in mess if char not in string.punctuation]\n",
    "print(nopunc)\n",
    "\n",
    "# Join the characters again to form the string.\n",
    "nopunc = ''.join(nopunc)\n",
    "print(nopunc)"
   ]
  },
  {
   "cell_type": "markdown",
   "metadata": {},
   "source": [
    "Now let's see how to remove stopwords. We can impot a list of english stopwords from NLTK (check the documentation for more languages and info)."
   ]
  },
  {
   "cell_type": "code",
   "execution_count": 18,
   "metadata": {},
   "outputs": [
    {
     "data": {
      "text/plain": [
       "['i', 'me', 'my', 'myself', 'we', 'our', 'ours', 'ourselves', 'you', \"you're\"]"
      ]
     },
     "execution_count": 18,
     "metadata": {},
     "output_type": "execute_result"
    }
   ],
   "source": [
    "from nltk.corpus import stopwords\n",
    "stopwords.words('english')[0:10] # Show some stop words"
   ]
  },
  {
   "cell_type": "code",
   "execution_count": 19,
   "metadata": {},
   "outputs": [
    {
     "data": {
      "text/plain": [
       "['Sample', 'message', 'Notice', 'it', 'has', 'punctuation']"
      ]
     },
     "execution_count": 19,
     "metadata": {},
     "output_type": "execute_result"
    }
   ],
   "source": [
    "nopunc.split()"
   ]
  },
  {
   "cell_type": "code",
   "execution_count": 20,
   "metadata": {},
   "outputs": [],
   "source": [
    "# Now just remove any stopwords\n",
    "clean_mess = [word for word in nopunc.split() if word.lower() not in stopwords.words('english')]"
   ]
  },
  {
   "cell_type": "code",
   "execution_count": 21,
   "metadata": {},
   "outputs": [
    {
     "data": {
      "text/plain": [
       "['Sample', 'message', 'Notice', 'punctuation']"
      ]
     },
     "execution_count": 21,
     "metadata": {},
     "output_type": "execute_result"
    }
   ],
   "source": [
    "clean_mess"
   ]
  },
  {
   "cell_type": "code",
   "execution_count": 22,
   "metadata": {},
   "outputs": [
    {
     "name": "stdout",
     "output_type": "stream",
     "text": [
      "['i', 'me', 'my', 'myself', 'we', 'our', 'ours', 'ourselves', 'you', 'youre']\n"
     ]
    }
   ],
   "source": [
    "stop = []\n",
    "for word in stopwords.words('english') :\n",
    "    s = [char for char in word if char not in string.punctuation]\n",
    "    stop.append(''.join(s))\n",
    "stop.extend(['dun','u','n','wif','oni'])\n",
    "print(stop[0:10])"
   ]
  },
  {
   "cell_type": "markdown",
   "metadata": {},
   "source": [
    "Now let's put both of these together in a function to apply it to our DataFrame later on:"
   ]
  },
  {
   "cell_type": "code",
   "execution_count": 23,
   "metadata": {},
   "outputs": [],
   "source": [
    "def text_process(mess):\n",
    "    \"\"\"\n",
    "    Takes in a string of text, then performs the following:\n",
    "    1. Remove all punctuation\n",
    "    2. Remove all stopwords\n",
    "    3. Returns a list of the cleaned text\n",
    "    \"\"\"\n",
    "    # Check characters to see if they are in punctuation\n",
    "    nopunc = [char for char in mess if char not in string.punctuation]\n",
    "\n",
    "    # Join the characters again to form the string.\n",
    "    nopunc = ''.join(nopunc)\n",
    "    \n",
    "    # Now just remove any stopwords\n",
    "    return [word for word in nopunc.split() if word.lower() not in stop]"
   ]
  },
  {
   "cell_type": "markdown",
   "metadata": {},
   "source": [
    "Here is the original DataFrame again:"
   ]
  },
  {
   "cell_type": "code",
   "execution_count": 24,
   "metadata": {},
   "outputs": [
    {
     "data": {
      "text/html": [
       "<div>\n",
       "<style scoped>\n",
       "    .dataframe tbody tr th:only-of-type {\n",
       "        vertical-align: middle;\n",
       "    }\n",
       "\n",
       "    .dataframe tbody tr th {\n",
       "        vertical-align: top;\n",
       "    }\n",
       "\n",
       "    .dataframe thead th {\n",
       "        text-align: right;\n",
       "    }\n",
       "</style>\n",
       "<table border=\"1\" class=\"dataframe\">\n",
       "  <thead>\n",
       "    <tr style=\"text-align: right;\">\n",
       "      <th></th>\n",
       "      <th>label</th>\n",
       "      <th>message</th>\n",
       "      <th>length</th>\n",
       "    </tr>\n",
       "  </thead>\n",
       "  <tbody>\n",
       "    <tr>\n",
       "      <th>0</th>\n",
       "      <td>ham</td>\n",
       "      <td>Go until jurong point, crazy.. Available only ...</td>\n",
       "      <td>111</td>\n",
       "    </tr>\n",
       "    <tr>\n",
       "      <th>1</th>\n",
       "      <td>ham</td>\n",
       "      <td>Ok lar... Joking wif u oni...</td>\n",
       "      <td>29</td>\n",
       "    </tr>\n",
       "    <tr>\n",
       "      <th>2</th>\n",
       "      <td>spam</td>\n",
       "      <td>Free entry in 2 a wkly comp to win FA Cup fina...</td>\n",
       "      <td>155</td>\n",
       "    </tr>\n",
       "    <tr>\n",
       "      <th>3</th>\n",
       "      <td>ham</td>\n",
       "      <td>U dun say so early hor... U c already then say...</td>\n",
       "      <td>49</td>\n",
       "    </tr>\n",
       "    <tr>\n",
       "      <th>4</th>\n",
       "      <td>ham</td>\n",
       "      <td>Nah I don't think he goes to usf, he lives aro...</td>\n",
       "      <td>61</td>\n",
       "    </tr>\n",
       "  </tbody>\n",
       "</table>\n",
       "</div>"
      ],
      "text/plain": [
       "  label                                            message  length\n",
       "0   ham  Go until jurong point, crazy.. Available only ...     111\n",
       "1   ham                      Ok lar... Joking wif u oni...      29\n",
       "2  spam  Free entry in 2 a wkly comp to win FA Cup fina...     155\n",
       "3   ham  U dun say so early hor... U c already then say...      49\n",
       "4   ham  Nah I don't think he goes to usf, he lives aro...      61"
      ]
     },
     "execution_count": 24,
     "metadata": {},
     "output_type": "execute_result"
    }
   ],
   "source": [
    "messages.head()"
   ]
  },
  {
   "cell_type": "markdown",
   "metadata": {},
   "source": [
    "Now let's \"tokenize\" these messages. Tokenization is just the term used to describe the process of converting the normal text strings in to a list of tokens (words that we actually want).\n",
    "\n",
    "Let's see an example output on on column:\n",
    "\n",
    "**Note:**\n",
    "We may get some warnings or errors for symbols we didn't account for or that weren't in Unicode (like a British pound symbol)"
   ]
  },
  {
   "cell_type": "code",
   "execution_count": 25,
   "metadata": {},
   "outputs": [
    {
     "data": {
      "text/plain": [
       "0    [Go, jurong, point, crazy, Available, bugis, g...\n",
       "1                                    [Ok, lar, Joking]\n",
       "2    [Free, entry, 2, wkly, comp, win, FA, Cup, fin...\n",
       "3                   [say, early, hor, c, already, say]\n",
       "4       [Nah, think, goes, usf, lives, around, though]\n",
       "Name: message, dtype: object"
      ]
     },
     "execution_count": 25,
     "metadata": {},
     "output_type": "execute_result"
    }
   ],
   "source": [
    "# Check to make sure its working\n",
    "messages['message'].head(5).apply(text_process)"
   ]
  },
  {
   "cell_type": "code",
   "execution_count": 26,
   "metadata": {},
   "outputs": [
    {
     "data": {
      "text/html": [
       "<div>\n",
       "<style scoped>\n",
       "    .dataframe tbody tr th:only-of-type {\n",
       "        vertical-align: middle;\n",
       "    }\n",
       "\n",
       "    .dataframe tbody tr th {\n",
       "        vertical-align: top;\n",
       "    }\n",
       "\n",
       "    .dataframe thead th {\n",
       "        text-align: right;\n",
       "    }\n",
       "</style>\n",
       "<table border=\"1\" class=\"dataframe\">\n",
       "  <thead>\n",
       "    <tr style=\"text-align: right;\">\n",
       "      <th></th>\n",
       "      <th>label</th>\n",
       "      <th>message</th>\n",
       "      <th>length</th>\n",
       "    </tr>\n",
       "  </thead>\n",
       "  <tbody>\n",
       "    <tr>\n",
       "      <th>0</th>\n",
       "      <td>ham</td>\n",
       "      <td>Go until jurong point, crazy.. Available only ...</td>\n",
       "      <td>111</td>\n",
       "    </tr>\n",
       "    <tr>\n",
       "      <th>1</th>\n",
       "      <td>ham</td>\n",
       "      <td>Ok lar... Joking wif u oni...</td>\n",
       "      <td>29</td>\n",
       "    </tr>\n",
       "    <tr>\n",
       "      <th>2</th>\n",
       "      <td>spam</td>\n",
       "      <td>Free entry in 2 a wkly comp to win FA Cup fina...</td>\n",
       "      <td>155</td>\n",
       "    </tr>\n",
       "    <tr>\n",
       "      <th>3</th>\n",
       "      <td>ham</td>\n",
       "      <td>U dun say so early hor... U c already then say...</td>\n",
       "      <td>49</td>\n",
       "    </tr>\n",
       "    <tr>\n",
       "      <th>4</th>\n",
       "      <td>ham</td>\n",
       "      <td>Nah I don't think he goes to usf, he lives aro...</td>\n",
       "      <td>61</td>\n",
       "    </tr>\n",
       "  </tbody>\n",
       "</table>\n",
       "</div>"
      ],
      "text/plain": [
       "  label                                            message  length\n",
       "0   ham  Go until jurong point, crazy.. Available only ...     111\n",
       "1   ham                      Ok lar... Joking wif u oni...      29\n",
       "2  spam  Free entry in 2 a wkly comp to win FA Cup fina...     155\n",
       "3   ham  U dun say so early hor... U c already then say...      49\n",
       "4   ham  Nah I don't think he goes to usf, he lives aro...      61"
      ]
     },
     "execution_count": 26,
     "metadata": {},
     "output_type": "execute_result"
    }
   ],
   "source": [
    "# Show original dataframe\n",
    "messages.head()"
   ]
  },
  {
   "cell_type": "markdown",
   "metadata": {},
   "source": [
    "### Continuing Normalization\n",
    "\n",
    "There are a lot of ways to continue normalizing this text. Such as [Stemming](https://en.wikipedia.org/wiki/Stemming) or distinguishing by [part of speech](http://www.nltk.org/book/ch05.html).\n",
    "\n",
    "NLTK has lots of built-in tools and great documentation on a lot of these methods. Sometimes they don't work well for text-messages due to the way a lot of people tend to use abbreviations or shorthand, For example:\n",
    "    \n",
    "    'Nah dawg, IDK! Wut time u headin to da club?'\n",
    "    \n",
    "versus\n",
    "\n",
    "    'No dog, I don't know! What time are you heading to the club?'\n",
    "    \n",
    "Some text normalization methods will have trouble with this type of shorthand and so I'll leave you to explore those more advanced methods through the [NLTK book online](http://www.nltk.org/book/).\n",
    "\n",
    "For now we will just focus on using what we have to convert our list of words to an actual vector that SciKit-Learn can use."
   ]
  },
  {
   "cell_type": "markdown",
   "metadata": {},
   "source": [
    "## Vectorization"
   ]
  },
  {
   "cell_type": "markdown",
   "metadata": {},
   "source": [
    "Currently, we have the messages as lists of tokens (also known as [lemmas](http://nlp.stanford.edu/IR-book/html/htmledition/stemming-and-lemmatization-1.html)) and now we need to convert each of those messages into a vector the SciKit Learn's algorithm models can work with.\n",
    "\n",
    "Now we'll convert each message, represented as a list of tokens (lemmas) above, into a vector that machine learning models can understand.\n",
    "\n",
    "We'll do that in three steps using the bag-of-words model:\n",
    "\n",
    "1. Count how many times does a word occur in each message (Known as term frequency)\n",
    "\n",
    "2. Weigh the counts, so that frequent tokens get lower weight (inverse document frequency)\n",
    "\n",
    "3. Normalize the vectors to unit length, to abstract from the original text length (L2 norm)\n",
    "\n",
    "Let's begin the first step:"
   ]
  },
  {
   "cell_type": "markdown",
   "metadata": {},
   "source": [
    "Each vector will have as many dimensions as there are unique words in the SMS corpus.  We will first use SciKit Learn's **CountVectorizer**. This model will convert a collection of text documents to a matrix of token counts.\n",
    "\n",
    "We can imagine this as a 2-Dimensional matrix. Where the 1-dimension is the entire vocabulary (1 row per word) and the other dimension are the actual documents, in this case a column per text message. \n",
    "\n",
    "For example:\n",
    "\n",
    "<table border = “1“>\n",
    "<tr>\n",
    "<th></th> <th>Message 1</th> <th>Message 2</th> <th>...</th> <th>Message N</th> \n",
    "</tr>\n",
    "<tr>\n",
    "<td><b>Word 1 Count</b></td><td>0</td><td>1</td><td>...</td><td>0</td>\n",
    "</tr>\n",
    "<tr>\n",
    "<td><b>Word 2 Count</b></td><td>0</td><td>0</td><td>...</td><td>0</td>\n",
    "</tr>\n",
    "<tr>\n",
    "<td><b>...</b></td> <td>1</td><td>2</td><td>...</td><td>0</td>\n",
    "</tr>\n",
    "<tr>\n",
    "<td><b>Word N Count</b></td> <td>0</td><td>1</td><td>...</td><td>1</td>\n",
    "</tr>\n",
    "</table>\n",
    "\n",
    "\n",
    "Since there are so many messages, we can expect a lot of zero counts for the presence of that word in that document. Because of this, SciKit Learn will output a [Sparse Matrix](https://en.wikipedia.org/wiki/Sparse_matrix)."
   ]
  },
  {
   "cell_type": "code",
   "execution_count": 27,
   "metadata": {},
   "outputs": [],
   "source": [
    "from sklearn.feature_extraction.text import CountVectorizer"
   ]
  },
  {
   "cell_type": "markdown",
   "metadata": {},
   "source": [
    "There are a lot of arguments and parameters that can be passed to the CountVectorizer. In this case we will just specify the **analyzer** to be our own previously defined function:"
   ]
  },
  {
   "cell_type": "code",
   "execution_count": 28,
   "metadata": {},
   "outputs": [
    {
     "name": "stdout",
     "output_type": "stream",
     "text": [
      "11372\n"
     ]
    }
   ],
   "source": [
    "# Might take awhile...\n",
    "# countVec = CountVectorizer(analyzer=text_process)\n",
    "# bow_transformer = countVec.fit(messages['message'])\n",
    "bow_transformer = CountVectorizer(analyzer=text_process).fit(messages['message'])\n",
    "\n",
    "# Print total number of vocab words\n",
    "print(len(bow_transformer.vocabulary_))"
   ]
  },
  {
   "cell_type": "code",
   "execution_count": 29,
   "metadata": {},
   "outputs": [
    {
     "data": {
      "text/plain": [
       "{'Go': 2053,\n",
       " 'jurong': 7517,\n",
       " 'point': 8877,\n",
       " 'crazy': 5739,\n",
       " 'Available': 1110,\n",
       " 'bugis': 5189,\n",
       " 'great': 6903,\n",
       " 'world': 11115,\n",
       " 'la': 7630,\n",
       " 'e': 6183,\n",
       " 'buffet': 5188,\n",
       " 'Cine': 1483,\n",
       " 'got': 6872,\n",
       " 'amore': 4625,\n",
       " 'wat': 10920,\n",
       " 'Ok': 3051,\n",
       " 'lar': 7663,\n",
       " 'Joking': 2439,\n",
       " 'Free': 1934,\n",
       " 'entry': 6297,\n",
       " '2': 423,\n",
       " 'wkly': 11076,\n",
       " 'comp': 5590,\n",
       " 'win': 11037,\n",
       " 'FA': 1826,\n",
       " 'Cup': 1551,\n",
       " 'final': 6523,\n",
       " 'tkts': 10469,\n",
       " '21st': 443,\n",
       " 'May': 2792,\n",
       " '2005': 430,\n",
       " 'Text': 3938,\n",
       " '87121': 871,\n",
       " 'receive': 9212,\n",
       " 'questionstd': 9119,\n",
       " 'txt': 10643,\n",
       " 'rateTCs': 9160,\n",
       " 'apply': 4703,\n",
       " '08452810075over18s': 73,\n",
       " 'say': 9514,\n",
       " 'early': 6188,\n",
       " 'hor': 7149,\n",
       " 'c': 5232,\n",
       " 'already': 4601,\n",
       " 'Nah': 2935,\n",
       " 'think': 10390,\n",
       " 'goes': 6843,\n",
       " 'usf': 10755,\n",
       " 'lives': 7804,\n",
       " 'around': 4748,\n",
       " 'though': 10407,\n",
       " 'FreeMsg': 1936,\n",
       " 'Hey': 2212,\n",
       " 'darling': 5834,\n",
       " '3': 543,\n",
       " 'weeks': 10966,\n",
       " 'word': 11102,\n",
       " 'back': 4864,\n",
       " 'Id': 2335,\n",
       " 'like': 7762,\n",
       " 'fun': 6721,\n",
       " 'still': 10051,\n",
       " 'Tb': 3915,\n",
       " 'ok': 8528,\n",
       " 'XxX': 4357,\n",
       " 'std': 10031,\n",
       " 'chgs': 5438,\n",
       " 'send': 9601,\n",
       " '£150': 11318,\n",
       " 'rcv': 9169,\n",
       " 'Even': 1795,\n",
       " 'brother': 5164,\n",
       " 'speak': 9929,\n",
       " 'treat': 10586,\n",
       " 'aids': 4562,\n",
       " 'patent': 8721,\n",
       " 'per': 8756,\n",
       " 'request': 9316,\n",
       " 'Melle': 2802,\n",
       " 'Oru': 3085,\n",
       " 'Minnaminunginte': 2821,\n",
       " 'Nurungu': 3010,\n",
       " 'Vettam': 4153,\n",
       " 'set': 9624,\n",
       " 'callertune': 5263,\n",
       " 'Callers': 1421,\n",
       " 'Press': 3265,\n",
       " '9': 909,\n",
       " 'copy': 5687,\n",
       " 'friends': 6685,\n",
       " 'Callertune': 1422,\n",
       " 'WINNER': 4204,\n",
       " 'valued': 10784,\n",
       " 'network': 8367,\n",
       " 'customer': 5790,\n",
       " 'selected': 9588,\n",
       " 'receivea': 9213,\n",
       " '£900': 11359,\n",
       " 'prize': 9018,\n",
       " 'reward': 9373,\n",
       " 'claim': 5490,\n",
       " 'call': 5246,\n",
       " '09061701461': 219,\n",
       " 'Claim': 1485,\n",
       " 'code': 5545,\n",
       " 'KL341': 2465,\n",
       " 'Valid': 4144,\n",
       " '12': 326,\n",
       " 'hours': 7164,\n",
       " 'mobile': 8178,\n",
       " '11': 315,\n",
       " 'months': 8213,\n",
       " 'R': 3308,\n",
       " 'entitled': 6294,\n",
       " 'Update': 4111,\n",
       " 'latest': 7678,\n",
       " 'colour': 5565,\n",
       " 'mobiles': 8179,\n",
       " 'camera': 5275,\n",
       " 'Call': 1417,\n",
       " 'Mobile': 2840,\n",
       " 'Co': 1492,\n",
       " 'FREE': 1858,\n",
       " '08002986030': 58,\n",
       " 'Im': 2341,\n",
       " 'gonna': 6856,\n",
       " 'home': 7122,\n",
       " 'soon': 9889,\n",
       " 'want': 10901,\n",
       " 'talk': 10261,\n",
       " 'stuff': 10111,\n",
       " 'anymore': 4673,\n",
       " 'tonight': 10514,\n",
       " 'k': 7523,\n",
       " 'Ive': 2382,\n",
       " 'cried': 5753,\n",
       " 'enough': 6285,\n",
       " 'today': 10481,\n",
       " 'SIX': 3482,\n",
       " 'chances': 5382,\n",
       " 'CASH': 1353,\n",
       " '100': 294,\n",
       " '20000': 427,\n",
       " 'pounds': 8935,\n",
       " 'CSH11': 1405,\n",
       " '87575': 875,\n",
       " 'Cost': 1524,\n",
       " '150pday': 364,\n",
       " '6days': 763,\n",
       " '16': 382,\n",
       " 'TsandCs': 4032,\n",
       " 'Reply': 3401,\n",
       " 'HL': 2131,\n",
       " '4': 605,\n",
       " 'info': 7317,\n",
       " 'URGENT': 4073,\n",
       " '1': 292,\n",
       " 'week': 10961,\n",
       " 'membership': 8072,\n",
       " '£100000': 11312,\n",
       " 'Prize': 3270,\n",
       " 'Jackpot': 2409,\n",
       " 'Txt': 4046,\n",
       " 'CLAIM': 1378,\n",
       " '81010': 821,\n",
       " 'TC': 3832,\n",
       " 'wwwdbuknet': 11182,\n",
       " 'LCCLTD': 2539,\n",
       " 'POBOX': 3125,\n",
       " '4403LDNW1A7RW18': 626,\n",
       " 'searching': 9557,\n",
       " 'right': 9382,\n",
       " 'words': 11106,\n",
       " 'thank': 10350,\n",
       " 'breather': 5137,\n",
       " 'promise': 9052,\n",
       " 'take': 10253,\n",
       " 'help': 7052,\n",
       " 'granted': 6895,\n",
       " 'fulfil': 6717,\n",
       " 'wonderful': 11095,\n",
       " 'blessing': 5046,\n",
       " 'times': 10448,\n",
       " 'DATE': 1568,\n",
       " 'SUNDAY': 3554,\n",
       " 'XXXMobileMovieClub': 4348,\n",
       " 'use': 10749,\n",
       " 'credit': 5744,\n",
       " 'click': 5511,\n",
       " 'WAP': 4183,\n",
       " 'link': 7780,\n",
       " 'next': 8381,\n",
       " 'message': 8095,\n",
       " 'httpwap': 7187,\n",
       " 'xxxmobilemovieclubcomnQJKGIGHJJGCBL': 11224,\n",
       " 'Oh': 3046,\n",
       " 'kim': 7580,\n",
       " 'watching': 10925,\n",
       " 'Eh': 1762,\n",
       " 'remember': 9279,\n",
       " 'spell': 9943,\n",
       " 'name': 8309,\n",
       " 'Yes': 4401,\n",
       " 'v': 10772,\n",
       " 'naughty': 8329,\n",
       " 'make': 7962,\n",
       " 'wet': 10994,\n",
       " 'Fine': 1907,\n",
       " 'that\\x92s': 10362,\n",
       " 'way': 10934,\n",
       " 'feel': 6483,\n",
       " 'That\\x92s': 3948,\n",
       " 'gota': 6873,\n",
       " 'b': 4851,\n",
       " 'England': 1777,\n",
       " 'Macedonia': 2760,\n",
       " 'miss': 8153,\n",
       " 'goalsteam': 6836,\n",
       " 'news': 8376,\n",
       " 'ur': 10733,\n",
       " 'national': 8323,\n",
       " 'team': 10296,\n",
       " '87077': 870,\n",
       " 'eg': 6224,\n",
       " 'ENGLAND': 1721,\n",
       " 'TryWALES': 4026,\n",
       " 'SCOTLAND': 3447,\n",
       " '4txtú120': 677,\n",
       " 'POBOXox36504W45WQ': 3128,\n",
       " 'seriously': 9618,\n",
       " 'I‘m': 2389,\n",
       " 'going': 6848,\n",
       " 'try': 10612,\n",
       " 'ha': 6958,\n",
       " 'joking': 7496,\n",
       " 'ü': 11365,\n",
       " 'pay': 8729,\n",
       " 'first': 6550,\n",
       " 'da': 5802,\n",
       " 'stock': 10055,\n",
       " 'comin': 5580,\n",
       " 'Aft': 1019,\n",
       " 'finish': 6536,\n",
       " 'lunch': 7909,\n",
       " 'go': 6830,\n",
       " 'str': 10075,\n",
       " 'lor': 7850,\n",
       " 'Ard': 1084,\n",
       " 'smth': 9839,\n",
       " 'Ffffffffff': 1898,\n",
       " 'Alright': 1053,\n",
       " 'meet': 8054,\n",
       " 'sooner': 9890,\n",
       " 'forced': 6621,\n",
       " 'eat': 6200,\n",
       " 'slice': 9794,\n",
       " 'really': 9194,\n",
       " 'hungry': 7212,\n",
       " 'tho': 10403,\n",
       " 'sucks': 10144,\n",
       " 'Mark': 2782,\n",
       " 'getting': 6798,\n",
       " 'worried': 11121,\n",
       " 'knows': 7605,\n",
       " 'sick': 9722,\n",
       " 'turn': 10629,\n",
       " 'pizza': 8829,\n",
       " 'Lol': 2636,\n",
       " 'always': 4613,\n",
       " 'convincing': 5674,\n",
       " 'catch': 5345,\n",
       " 'bus': 5208,\n",
       " 'frying': 6707,\n",
       " 'egg': 6226,\n",
       " 'tea': 10290,\n",
       " 'eating': 6203,\n",
       " 'moms': 8197,\n",
       " 'left': 7710,\n",
       " 'dinner': 6014,\n",
       " 'Love': 2649,\n",
       " 'amp': 4627,\n",
       " 'packing': 8653,\n",
       " 'car': 5302,\n",
       " 'Ill': 2339,\n",
       " 'let': 7731,\n",
       " 'know': 7601,\n",
       " 'theres': 10378,\n",
       " 'room': 9420,\n",
       " 'Ahhh': 1028,\n",
       " 'Work': 4323,\n",
       " 'vaguely': 10775,\n",
       " 'Wait': 4237,\n",
       " 'thats': 10361,\n",
       " 'clear': 5505,\n",
       " 'sure': 10195,\n",
       " 'sarcastic': 9496,\n",
       " 'x': 11211,\n",
       " 'live': 7801,\n",
       " 'us': 10743,\n",
       " 'Yeah': 4392,\n",
       " 'apologetic': 4691,\n",
       " 'fallen': 6434,\n",
       " 'actin': 4481,\n",
       " 'spoilt': 9963,\n",
       " 'child': 5454,\n",
       " 'caught': 5349,\n",
       " 'Till': 3981,\n",
       " 'badly': 4869,\n",
       " 'cheers': 5421,\n",
       " 'K': 2456,\n",
       " 'tell': 10312,\n",
       " 'anything': 4679,\n",
       " 'fear': 6475,\n",
       " 'fainting': 6425,\n",
       " 'housework': 7168,\n",
       " 'Quick': 3303,\n",
       " 'cuppa': 5780,\n",
       " 'Thanks': 3943,\n",
       " 'subscription': 10134,\n",
       " 'Ringtone': 3411,\n",
       " 'UK': 4057,\n",
       " 'charged': 5394,\n",
       " '£5month': 11351,\n",
       " 'Please': 3222,\n",
       " 'confirm': 5632,\n",
       " 'replying': 9311,\n",
       " 'YES': 4366,\n",
       " 'reply': 9309,\n",
       " 'Yup': 4422,\n",
       " 'look': 7842,\n",
       " 'timings': 10454,\n",
       " 'msg': 8245,\n",
       " 'Xuhui': 4355,\n",
       " 'learn': 7699,\n",
       " '2nd': 526,\n",
       " 'may': 8027,\n",
       " 'lesson': 7729,\n",
       " '8am': 903,\n",
       " 'Oops': 3072,\n",
       " 'roommates': 9423,\n",
       " 'done': 6088,\n",
       " 'see': 9573,\n",
       " 'letter': 7733,\n",
       " 'B': 1120,\n",
       " 'Anything': 1070,\n",
       " 'decide': 5885,\n",
       " 'Hello': 2199,\n",
       " 'Hows': 2269,\n",
       " 'saturday': 9506,\n",
       " 'texting': 10341,\n",
       " 'decided': 5886,\n",
       " 'tomo': 10503,\n",
       " 'im': 7270,\n",
       " 'trying': 10614,\n",
       " 'invite': 7373,\n",
       " 'Pls': 3224,\n",
       " 'ahead': 4554,\n",
       " 'watts': 10932,\n",
       " 'wanted': 10903,\n",
       " 'weekend': 10963,\n",
       " 'Abiola': 999,\n",
       " 'forget': 6627,\n",
       " 'need': 8347,\n",
       " 'crave': 5736,\n",
       " 'love': 7875,\n",
       " 'sweet': 10219,\n",
       " 'Arabian': 1082,\n",
       " 'steed': 10037,\n",
       " 'Mmmmmm': 2834,\n",
       " 'Yummy': 4419,\n",
       " '07732584351': 29,\n",
       " 'Rodger': 3417,\n",
       " 'Burns': 1329,\n",
       " 'MSG': 2745,\n",
       " 'tried': 10595,\n",
       " 'sms': 9834,\n",
       " 'free': 6665,\n",
       " 'nokia': 8416,\n",
       " 'camcorder': 5273,\n",
       " '08000930705': 54,\n",
       " 'delivery': 5920,\n",
       " 'tomorrow': 10506,\n",
       " 'SEEING': 3451,\n",
       " 'Great': 2081,\n",
       " 'hope': 7140,\n",
       " 'man': 7971,\n",
       " 'well': 10978,\n",
       " 'endowed': 6269,\n",
       " 'ltgt': 7901,\n",
       " 'inches': 7296,\n",
       " 'callsmessagesmissed': 5269,\n",
       " 'calls': 5268,\n",
       " 'get': 6790,\n",
       " 'hep': 7061,\n",
       " 'immunisation': 7278,\n",
       " 'nigeria': 8388,\n",
       " 'Fair': 1886,\n",
       " 'hopefully': 7145,\n",
       " 'tyler': 10649,\n",
       " 'cant': 5291,\n",
       " 'could': 5709,\n",
       " 'maybe': 8029,\n",
       " 'ask': 4770,\n",
       " 'bit': 5024,\n",
       " 'stubborn': 10101,\n",
       " 'even': 6335,\n",
       " 'hospital': 7155,\n",
       " 'kept': 7556,\n",
       " 'telling': 10313,\n",
       " 'weak': 10938,\n",
       " 'sucker': 10142,\n",
       " 'Hospitals': 2261,\n",
       " 'suckers': 10143,\n",
       " 'thinked': 10392,\n",
       " 'First': 1911,\n",
       " 'time': 10444,\n",
       " 'saw': 9513,\n",
       " 'class': 5498,\n",
       " 'gram': 6889,\n",
       " 'usually': 10761,\n",
       " 'runs': 9455,\n",
       " 'half': 6969,\n",
       " 'eighth': 6233,\n",
       " 'smarter': 9816,\n",
       " 'gets': 6794,\n",
       " 'almost': 4597,\n",
       " 'whole': 11017,\n",
       " 'second': 9561,\n",
       " 'fyi': 6734,\n",
       " 'ride': 9381,\n",
       " 'morning': 8218,\n",
       " 'hes': 7072,\n",
       " 'crashing': 5735,\n",
       " 'place': 8830,\n",
       " 'Wow': 4330,\n",
       " 'never': 8371,\n",
       " 'realized': 9192,\n",
       " 'embarassed': 6253,\n",
       " 'accomodations': 4464,\n",
       " 'thought': 10408,\n",
       " 'liked': 7763,\n",
       " 'since': 9746,\n",
       " 'best': 4985,\n",
       " 'seemed': 9579,\n",
       " 'happy': 7000,\n",
       " 'cave': 5353,\n",
       " 'sorry': 9899,\n",
       " 'give': 6816,\n",
       " 'offered': 8508,\n",
       " 'embarassing': 6254,\n",
       " 'SMS': 3493,\n",
       " 'ac': 4450,\n",
       " 'Sptv': 3747,\n",
       " 'New': 2955,\n",
       " 'Jersey': 2429,\n",
       " 'Devils': 1654,\n",
       " 'Detroit': 1653,\n",
       " 'Red': 3381,\n",
       " 'Wings': 4301,\n",
       " 'play': 8844,\n",
       " 'Ice': 2333,\n",
       " 'Hockey': 2239,\n",
       " 'Correct': 1522,\n",
       " 'Incorrect': 2349,\n",
       " 'End': 1775,\n",
       " 'END': 1719,\n",
       " 'SPTV': 3525,\n",
       " 'Mallika': 2772,\n",
       " 'Sherawat': 3639,\n",
       " 'yesterday': 11250,\n",
       " 'Find': 1906,\n",
       " 'ltURLgt': 7900,\n",
       " 'Congrats': 1513,\n",
       " 'year': 11241,\n",
       " 'special': 9931,\n",
       " 'cinema': 5486,\n",
       " 'pass': 8710,\n",
       " '09061209465': 214,\n",
       " 'C': 1337,\n",
       " 'Suprman': 3806,\n",
       " 'V': 4128,\n",
       " 'Matrix3': 2789,\n",
       " 'StarWars3': 3756,\n",
       " 'etc': 6325,\n",
       " 'bx420ip45we': 5227,\n",
       " '150pm': 365,\n",
       " 'Sorry': 3720,\n",
       " 'later': 7676,\n",
       " 'meeting': 8056,\n",
       " 'Tell': 3927,\n",
       " 'reached': 9176,\n",
       " 'Yesgauti': 4404,\n",
       " 'sehwag': 9585,\n",
       " 'odi': 8502,\n",
       " 'series': 9616,\n",
       " 'pick': 8804,\n",
       " 'burger': 5200,\n",
       " 'move': 8232,\n",
       " 'Pain': 3167,\n",
       " 'killing': 7577,\n",
       " 'Ha': 2160,\n",
       " 'good': 6858,\n",
       " 'joke': 7491,\n",
       " 'Girls': 2048,\n",
       " 'situation': 9766,\n",
       " 'seekers': 9576,\n",
       " 'part': 8699,\n",
       " 'checking': 5418,\n",
       " 'IQ': 2319,\n",
       " 'took': 10523,\n",
       " 'forever': 6624,\n",
       " 'come': 5572,\n",
       " 'double': 6101,\n",
       " 'check': 5415,\n",
       " 'hair': 6966,\n",
       " 'dresser': 6129,\n",
       " 'said': 9472,\n",
       " 'wun': 11159,\n",
       " 'cut': 5793,\n",
       " 'short': 9689,\n",
       " 'nice': 8384,\n",
       " 'pleased': 8855,\n",
       " 'advise': 4519,\n",
       " 'following': 6605,\n",
       " 'recent': 9216,\n",
       " 'review': 9371,\n",
       " 'Mob': 2837,\n",
       " 'awarded': 4844,\n",
       " '£1500': 11319,\n",
       " 'Bonus': 1282,\n",
       " '09066364589': 263,\n",
       " 'Today': 3995,\n",
       " 'song': 9885,\n",
       " 'dedicated': 5895,\n",
       " 'day': 5851,\n",
       " 'dedicate': 5894,\n",
       " 'Send': 3610,\n",
       " 'valuable': 10781,\n",
       " 'frnds': 6694,\n",
       " 'rply': 9436,\n",
       " 'Urgent': 4118,\n",
       " 'UR': 4070,\n",
       " 'complimentary': 5607,\n",
       " 'trip': 10596,\n",
       " 'EuroDisinc': 1792,\n",
       " 'Trav': 4016,\n",
       " 'AcoEntry41': 1008,\n",
       " '£1000': 11310,\n",
       " 'DIS': 1586,\n",
       " '186£150moreFrmMob': 391,\n",
       " 'ShrAcomOrSglSuplt10': 3658,\n",
       " 'LS1': 2577,\n",
       " '3AJ': 576,\n",
       " 'hear': 7029,\n",
       " 'new': 8374,\n",
       " 'Divorce': 1675,\n",
       " 'Barbie': 1225,\n",
       " 'comes': 5576,\n",
       " 'Kens': 2485,\n",
       " 'plane': 8837,\n",
       " 'month': 8210,\n",
       " 'end': 6264,\n",
       " 'Wah': 4235,\n",
       " 'lucky': 7906,\n",
       " 'save': 9509,\n",
       " 'money': 8203,\n",
       " 'Hee': 2193,\n",
       " 'Finished': 1910,\n",
       " 'HI': 2127,\n",
       " 'BABE': 1124,\n",
       " 'IM': 2298,\n",
       " 'HOME': 2137,\n",
       " 'WANNA': 4180,\n",
       " 'SOMETHING': 3502,\n",
       " 'XX': 4345,\n",
       " 'Kkwhere': 2515,\n",
       " 'youhow': 11271,\n",
       " 'performed': 8763,\n",
       " 'waiting': 10880,\n",
       " 'machan': 7931,\n",
       " 'Thats': 3947,\n",
       " 'cool': 5680,\n",
       " 'gentleman': 6784,\n",
       " 'dignity': 6005,\n",
       " 'respect': 9337,\n",
       " 'peoples': 8755,\n",
       " 'much': 8261,\n",
       " 'shy': 9718,\n",
       " 'pa': 8648,\n",
       " 'operate': 8566,\n",
       " 'Still': 3768,\n",
       " 'looking': 7845,\n",
       " 'job': 7478,\n",
       " 'Tas': 3912,\n",
       " 'earn': 6189,\n",
       " 'ah': 4552,\n",
       " 'hi': 7079,\n",
       " 'stop': 10064,\n",
       " 'urgnt': 10738,\n",
       " 'real': 9186,\n",
       " 'yo': 11259,\n",
       " 'tickets': 10435,\n",
       " 'one': 8547,\n",
       " 'jacket': 7439,\n",
       " 'used': 10750,\n",
       " 'multis': 8269,\n",
       " 'started': 10012,\n",
       " 'requests': 9317,\n",
       " 'pain': 8660,\n",
       " 'came': 5274,\n",
       " 'bed': 4944,\n",
       " 'Double': 1694,\n",
       " 'coins': 5551,\n",
       " 'factory': 6417,\n",
       " 'gotta': 6876,\n",
       " 'cash': 5334,\n",
       " 'nitros': 8406,\n",
       " 'babe': 4856,\n",
       " 'Ela': 1765,\n",
       " 'kanoil': 7539,\n",
       " 'download': 6107,\n",
       " 'wen': 10983,\n",
       " 'Don‘t': 1691,\n",
       " 'stand': 10001,\n",
       " 'close': 5517,\n",
       " 'you‘ll': 11285,\n",
       " 'something': 9873,\n",
       " 'another': 4658,\n",
       " 'night': 8389,\n",
       " 'spent': 9948,\n",
       " 'late': 7671,\n",
       " 'afternoon': 4535,\n",
       " 'casualty': 5343,\n",
       " 'means': 8045,\n",
       " 'stuff42moro': 10112,\n",
       " 'includes': 7299,\n",
       " 'sheets': 9659,\n",
       " 'Smile': 3698,\n",
       " 'Pleasure': 3223,\n",
       " 'trouble': 10601,\n",
       " 'pours': 8937,\n",
       " 'Rain': 3355,\n",
       " 'sum1': 10162,\n",
       " 'Hurts': 2279,\n",
       " 'becoz': 4942,\n",
       " 'SOMEONE': 3500,\n",
       " 'Loves': 2655,\n",
       " 'Smiling': 3700,\n",
       " 'service': 9621,\n",
       " 'representative': 9314,\n",
       " '0800': 50,\n",
       " '169': 384,\n",
       " '6031': 726,\n",
       " '10am9pm': 309,\n",
       " 'guaranteed': 6935,\n",
       " '£5000': 11346,\n",
       " 'planning': 8841,\n",
       " 'buy': 5219,\n",
       " 'lido': 7745,\n",
       " '530': 697,\n",
       " 'show': 9702,\n",
       " 'work': 11107,\n",
       " 'ringtone': 9389,\n",
       " 'collected': 5558,\n",
       " 'Simply': 3668,\n",
       " 'text': 10336,\n",
       " 'password': 8718,\n",
       " 'MIX': 2720,\n",
       " '85069': 856,\n",
       " 'verify': 10802,\n",
       " 'Get': 2040,\n",
       " 'Usher': 4123,\n",
       " 'Britney': 1315,\n",
       " 'FML': 1850,\n",
       " 'PO': 3123,\n",
       " 'Box': 1292,\n",
       " '5249': 694,\n",
       " 'MK17': 2721,\n",
       " '92H': 914,\n",
       " '450Ppw': 636,\n",
       " 'Watching': 4257,\n",
       " 'telugu': 10317,\n",
       " 'moviewat': 8237,\n",
       " 'abt': 4446,\n",
       " 'loads': 7812,\n",
       " 'loans': 7814,\n",
       " 'Hi': 2215,\n",
       " 'Wk': 4310,\n",
       " 'hols': 7120,\n",
       " 'run': 9452,\n",
       " 'Forgot': 1927,\n",
       " 'hairdressers': 6968,\n",
       " 'appointment': 4707,\n",
       " 'four': 6651,\n",
       " 'shower': 9704,\n",
       " 'beforehand': 4956,\n",
       " 'cause': 5350,\n",
       " 'prob': 9022,\n",
       " 'cup': 5778,\n",
       " 'coffee': 5546,\n",
       " 'animation': 4645,\n",
       " 'nothing': 8441,\n",
       " 'else': 6248,\n",
       " 'Okay': 3052,\n",
       " 'price': 8998,\n",
       " 'long': 7838,\n",
       " 'legal': 7713,\n",
       " 'Wen': 4275,\n",
       " 'ave': 4832,\n",
       " 'ams': 4629,\n",
       " 'xx': 11221,\n",
       " 'gone': 6854,\n",
       " '4the': 675,\n",
       " 'driving': 6138,\n",
       " 'test': 10332,\n",
       " 'yet': 11251,\n",
       " 'wow': 11135,\n",
       " 'mean': 8041,\n",
       " 'guess': 6939,\n",
       " 'gave': 6765,\n",
       " 'boston': 5097,\n",
       " 'men': 8077,\n",
       " 'changed': 5384,\n",
       " 'search': 9556,\n",
       " 'location': 7817,\n",
       " 'nyc': 8480,\n",
       " 'Cuz': 1560,\n",
       " 'signin': 9732,\n",
       " 'page': 8656,\n",
       " 'says': 9519,\n",
       " 'Umma': 4093,\n",
       " 'life': 7748,\n",
       " 'vava': 10792,\n",
       " 'umma': 10667,\n",
       " 'lot': 7859,\n",
       " 'dear': 5872,\n",
       " 'wishes': 11057,\n",
       " 'birthday': 5022,\n",
       " 'making': 7966,\n",
       " 'truly': 10608,\n",
       " 'memorable': 8074,\n",
       " 'Aight': 1031,\n",
       " 'hit': 7098,\n",
       " 'would': 11132,\n",
       " 'ip': 7381,\n",
       " 'address': 4496,\n",
       " 'considering': 5649,\n",
       " 'computer': 5613,\n",
       " 'minecraft': 8132,\n",
       " 'server': 9620,\n",
       " 'Grumpy': 2085,\n",
       " 'old': 8541,\n",
       " 'people': 8754,\n",
       " 'mom': 8194,\n",
       " 'better': 4991,\n",
       " 'lying': 7922,\n",
       " 'jokes': 7493,\n",
       " 'worry': 11123,\n",
       " 'busy': 5214,\n",
       " 'plural': 8865,\n",
       " 'noun': 8448,\n",
       " 'research': 9323,\n",
       " 'Going': 2059,\n",
       " 'dinnermsg': 6015,\n",
       " 'cos': 5698,\n",
       " 'things': 10389,\n",
       " 'scared': 9525,\n",
       " 'mah': 7952,\n",
       " 'Cos': 1523,\n",
       " 'loud': 7870,\n",
       " 'GENT': 1972,\n",
       " 'contact': 5654,\n",
       " 'Last': 2595,\n",
       " 'weekends': 10964,\n",
       " 'draw': 6117,\n",
       " 'shows': 9709,\n",
       " 'GUARANTEED': 2015,\n",
       " '09064012160': 238,\n",
       " 'Code': 1494,\n",
       " 'K52': 2457,\n",
       " '12hrs': 338,\n",
       " '150ppm': 370,\n",
       " 'Wa': 4233,\n",
       " 'openin': 8563,\n",
       " 'sentence': 9610,\n",
       " 'formal': 6635,\n",
       " 'Anyway': 1072,\n",
       " 'fine': 6531,\n",
       " 'juz': 7522,\n",
       " 'tt': 10618,\n",
       " 'eatin': 6202,\n",
       " 'puttin': 9103,\n",
       " 'weightHaha': 10971,\n",
       " 'anythin': 4678,\n",
       " 'happened': 6992,\n",
       " 'entered': 6287,\n",
       " 'cabin': 5234,\n",
       " 'PA': 3091,\n",
       " 'Happy': 2178,\n",
       " 'Bday': 1232,\n",
       " 'Boss': 1290,\n",
       " 'felt': 6492,\n",
       " 'askd': 4771,\n",
       " 'invited': 7374,\n",
       " 'apartment': 4687,\n",
       " 'went': 10985,\n",
       " 'winner': 11047,\n",
       " 'specially': 9935,\n",
       " 'holiday': 7116,\n",
       " 'flights': 6575,\n",
       " 'inc': 7294,\n",
       " 'operator': 8567,\n",
       " '0871277810910pmin': 123,\n",
       " '18': 387,\n",
       " 'Goodo': 2068,\n",
       " 'must': 8286,\n",
       " 'friday': 6678,\n",
       " 'eggpotato': 6227,\n",
       " 'ratio': 9163,\n",
       " 'tortilla': 10540,\n",
       " 'needed': 8349,\n",
       " 'Hmmmy': 2236,\n",
       " 'uncle': 10672,\n",
       " 'informed': 7321,\n",
       " 'paying': 8733,\n",
       " 'school': 9531,\n",
       " 'directly': 6019,\n",
       " 'pls': 8861,\n",
       " 'food': 6611,\n",
       " 'PRIVATE': 3153,\n",
       " '2004': 429,\n",
       " 'Account': 1004,\n",
       " 'Statement': 3761,\n",
       " '07742676969': 31,\n",
       " '786': 788,\n",
       " 'unredeemed': 10710,\n",
       " 'Points': 3238,\n",
       " '08719180248': 171,\n",
       " 'Identifier': 2337,\n",
       " '45239': 639,\n",
       " 'Expires': 1818,\n",
       " '£2000': 11331,\n",
       " 'Caller': 1420,\n",
       " '5903': 702,\n",
       " 'Landline': 2590,\n",
       " '09064019788': 244,\n",
       " 'BOX42WR29C': 1185,\n",
       " '150PPM': 355,\n",
       " 'applespairsall': 4701,\n",
       " 'malarky': 7968,\n",
       " 'Todays': 3996,\n",
       " 'Voda': 4162,\n",
       " 'numbers': 8471,\n",
       " 'ending': 6266,\n",
       " '7548': 783,\n",
       " '350': 566,\n",
       " 'award': 4843,\n",
       " 'match': 8008,\n",
       " 'please': 8854,\n",
       " '08712300220': 105,\n",
       " 'quoting': 9130,\n",
       " '4041': 610,\n",
       " 'standard': 10002,\n",
       " 'rates': 9161,\n",
       " 'app': 4695,\n",
       " 'sao': 9491,\n",
       " 'mu': 8260,\n",
       " 'Ü': 11362,\n",
       " 'predict': 8965,\n",
       " 'üll': 11366,\n",
       " 'buying': 5222,\n",
       " 'Good': 2063,\n",
       " 'knowyetunde': 7608,\n",
       " 'sent': 9609,\n",
       " 'bother': 5099,\n",
       " 'sending': 9602,\n",
       " 'involve': 7378,\n",
       " 'imposed': 7284,\n",
       " 'apologise': 4692,\n",
       " 'HEY': 2123,\n",
       " 'GIRL': 1978,\n",
       " 'HOPE': 2141,\n",
       " 'WELL': 4190,\n",
       " 'DEL': 1580,\n",
       " 'BAK': 1134,\n",
       " 'LONG': 2563,\n",
       " 'TIME': 3868,\n",
       " 'GIVE': 1981,\n",
       " 'CALL': 1341,\n",
       " 'SUM': 3551,\n",
       " 'LUCYxx': 2583,\n",
       " 'Kkhow': 2509,\n",
       " 'cost': 5700,\n",
       " 'Dear': 1631,\n",
       " 'Tmorrowpls': 3989,\n",
       " 'accomodate': 4463,\n",
       " 'answer': 4661,\n",
       " 'question': 9116,\n",
       " 'Sunshine': 3802,\n",
       " 'Quiz': 3305,\n",
       " 'Wkly': 4311,\n",
       " 'Q': 3291,\n",
       " 'Win': 4299,\n",
       " 'top': 10531,\n",
       " 'Sony': 3717,\n",
       " 'DVD': 1611,\n",
       " 'player': 8846,\n",
       " 'country': 5714,\n",
       " 'Algarve': 1047,\n",
       " 'ansr': 4660,\n",
       " '82277': 827,\n",
       " 'SPTyrone': 3526,\n",
       " 'Want': 4248,\n",
       " 'laid': 7643,\n",
       " 'Dogging': 1683,\n",
       " 'locations': 7818,\n",
       " 'direct': 6018,\n",
       " 'mob': 8177,\n",
       " 'Join': 2435,\n",
       " 'UKs': 4060,\n",
       " 'largest': 7665,\n",
       " 'Network': 2950,\n",
       " 'bt': 5178,\n",
       " 'Txting': 4049,\n",
       " 'GRAVEL': 2011,\n",
       " '69888': 752,\n",
       " 'Nt': 3007,\n",
       " 'ec2a': 6205,\n",
       " '31pmsg150p': 559,\n",
       " 'haf': 6962,\n",
       " 'msn': 8255,\n",
       " 'yijuehotmailcom': 11257,\n",
       " 'rooms': 9424,\n",
       " 'befor': 4955,\n",
       " 'activities': 4486,\n",
       " 'msgs': 8248,\n",
       " 'chat': 5406,\n",
       " 'svc': 10210,\n",
       " 'Hardcore': 2180,\n",
       " 'services': 9622,\n",
       " 'GO': 1986,\n",
       " '69988': 756,\n",
       " 'Age': 1025,\n",
       " 'Verify': 4152,\n",
       " 'yr': 11288,\n",
       " 'Got': 2073,\n",
       " 'lazy': 7693,\n",
       " 'type': 10651,\n",
       " 'forgot': 6632,\n",
       " 'lect': 7707,\n",
       " 'pouch': 8932,\n",
       " 'Sir': 3675,\n",
       " 'Waiting': 4240,\n",
       " 'mail': 7955,\n",
       " 'swt': 10231,\n",
       " 'Nver': 3012,\n",
       " 'tired': 10458,\n",
       " 'little': 7800,\n",
       " 'lovable': 7874,\n",
       " 'persons': 8777,\n",
       " 'Cozsomtimes': 1532,\n",
       " 'occupy': 8496,\n",
       " 'biggest': 5006,\n",
       " 'Hearts': 2192,\n",
       " 'Gud': 2089,\n",
       " 'ni8': 8382,\n",
       " 'open': 8560,\n",
       " 'ya': 11230,\n",
       " 'dot': 6100,\n",
       " 'Whats': 4284,\n",
       " 'staff': 9992,\n",
       " 'taking': 10258,\n",
       " 'replied': 9307,\n",
       " 'Randy': 3362,\n",
       " 'sexy': 9636,\n",
       " 'female': 6493,\n",
       " 'local': 7816,\n",
       " 'Luv': 2668,\n",
       " 'Netcollex': 2949,\n",
       " 'Ltd': 2659,\n",
       " '08700621170150p': 75,\n",
       " 'Stop': 3770,\n",
       " 'Ummmawill': 4094,\n",
       " 'inour': 7337,\n",
       " 'begin': 4961,\n",
       " 'qatar': 9108,\n",
       " 'pray': 8959,\n",
       " 'hard': 7001,\n",
       " 'Ki': 2491,\n",
       " 'deleted': 5916,\n",
       " 'Sindu': 3672,\n",
       " 'birla': 5019,\n",
       " 'soft': 9856,\n",
       " 'wine': 11044,\n",
       " 'flowing': 6589,\n",
       " 'nevering': 8372,\n",
       " 'thk': 10399,\n",
       " 'cine': 5485,\n",
       " 'plaza': 8852,\n",
       " 'Ur': 4116,\n",
       " ...}"
      ]
     },
     "execution_count": 29,
     "metadata": {},
     "output_type": "execute_result"
    }
   ],
   "source": [
    "bow_transformer.vocabulary_"
   ]
  },
  {
   "cell_type": "code",
   "execution_count": 30,
   "metadata": {},
   "outputs": [
    {
     "data": {
      "text/plain": [
       "11371"
      ]
     },
     "execution_count": 30,
     "metadata": {},
     "output_type": "execute_result"
    }
   ],
   "source": [
    "max(bow_transformer.vocabulary_.values())"
   ]
  },
  {
   "cell_type": "code",
   "execution_count": 31,
   "metadata": {},
   "outputs": [
    {
     "data": {
      "text/plain": [
       "11372"
      ]
     },
     "execution_count": 31,
     "metadata": {},
     "output_type": "execute_result"
    }
   ],
   "source": [
    "len(bow_transformer.get_feature_names())"
   ]
  },
  {
   "cell_type": "markdown",
   "metadata": {},
   "source": [
    "Let's take one text message and get its bag-of-words counts as a vector, putting to use our new `bow_transformer`:"
   ]
  },
  {
   "cell_type": "code",
   "execution_count": 32,
   "metadata": {},
   "outputs": [
    {
     "name": "stdout",
     "output_type": "stream",
     "text": [
      "U dun say so early hor... U c already then say...\n",
      "49\n"
     ]
    }
   ],
   "source": [
    "message4 = messages['message'][3]\n",
    "print(message4)\n",
    "print(len(message4))"
   ]
  },
  {
   "cell_type": "markdown",
   "metadata": {},
   "source": [
    "Now let's see its vector representation:"
   ]
  },
  {
   "cell_type": "code",
   "execution_count": 33,
   "metadata": {},
   "outputs": [
    {
     "name": "stdout",
     "output_type": "stream",
     "text": [
      "  (0, 4601)\t1\n",
      "  (0, 5232)\t1\n",
      "  (0, 6188)\t1\n",
      "  (0, 7149)\t1\n",
      "  (0, 9514)\t2\n",
      "(1, 11372)\n"
     ]
    }
   ],
   "source": [
    "bow4 = bow_transformer.transform([message4])\n",
    "print(bow4)\n",
    "print(bow4.shape)"
   ]
  },
  {
   "cell_type": "code",
   "execution_count": 34,
   "metadata": {},
   "outputs": [
    {
     "data": {
      "text/plain": [
       "<1x11372 sparse matrix of type '<class 'numpy.int64'>'\n",
       "\twith 5 stored elements in Compressed Sparse Row format>"
      ]
     },
     "execution_count": 34,
     "metadata": {},
     "output_type": "execute_result"
    }
   ],
   "source": [
    "bow4"
   ]
  },
  {
   "cell_type": "markdown",
   "metadata": {},
   "source": [
    "This means that there are seven unique words in message number 4 (after removing common stop words). Two of them appear twice, the rest only once. Let's go ahead and check and confirm which ones appear twice:"
   ]
  },
  {
   "cell_type": "code",
   "execution_count": 35,
   "metadata": {},
   "outputs": [
    {
     "name": "stdout",
     "output_type": "stream",
     "text": [
      "already\n",
      "c\n",
      "early\n",
      "hor\n",
      "say\n"
     ]
    }
   ],
   "source": [
    "print(bow_transformer.get_feature_names()[4601])\n",
    "print(bow_transformer.get_feature_names()[5232])\n",
    "print(bow_transformer.get_feature_names()[6188])\n",
    "print(bow_transformer.get_feature_names()[7149])\n",
    "print(bow_transformer.get_feature_names()[9514])"
   ]
  },
  {
   "cell_type": "markdown",
   "metadata": {},
   "source": [
    "Now we can use **.transform** on our Bag-of-Words (bow) transformed object and transform the entire DataFrame of messages. Let's go ahead and check out how the bag-of-words counts for the entire SMS corpus is a large, sparse matrix:"
   ]
  },
  {
   "cell_type": "code",
   "execution_count": 36,
   "metadata": {},
   "outputs": [],
   "source": [
    "messages_bow = bow_transformer.transform(messages['message'])"
   ]
  },
  {
   "cell_type": "code",
   "execution_count": 37,
   "metadata": {},
   "outputs": [
    {
     "name": "stdout",
     "output_type": "stream",
     "text": [
      "Shape of Sparse Matrix:  (5572, 11372)\n",
      "Amount of Non-Zero occurences:  48847\n"
     ]
    }
   ],
   "source": [
    "print('Shape of Sparse Matrix: ', messages_bow.shape)\n",
    "print('Amount of Non-Zero occurences: ', messages_bow.nnz)"
   ]
  },
  {
   "cell_type": "code",
   "execution_count": 38,
   "metadata": {},
   "outputs": [
    {
     "name": "stdout",
     "output_type": "stream",
     "text": [
      "sparsity: 0.07708856073745947\n"
     ]
    }
   ],
   "source": [
    "sparsity = (100.0 * messages_bow.nnz / (messages_bow.shape[0] * messages_bow.shape[1]))\n",
    "print('sparsity: {}'.format(sparsity))"
   ]
  },
  {
   "cell_type": "code",
   "execution_count": 39,
   "metadata": {},
   "outputs": [
    {
     "name": "stdout",
     "output_type": "stream",
     "text": [
      "137\n",
      "U dun say so early hor... U c already then say...\n"
     ]
    }
   ],
   "source": [
    "count = 0\n",
    "first_mess = ''\n",
    "for mess in messages['message'] :\n",
    "    if('say' in mess.lower()) :\n",
    "        if(count == 0) :\n",
    "            first_mess = mess;\n",
    "        count += 1;\n",
    "print(count)\n",
    "print(first_mess)"
   ]
  },
  {
   "cell_type": "code",
   "execution_count": 40,
   "metadata": {},
   "outputs": [
    {
     "data": {
      "text/plain": [
       "137"
      ]
     },
     "execution_count": 40,
     "metadata": {},
     "output_type": "execute_result"
    }
   ],
   "source": [
    "sum(messages['message'].str.contains('say', case=False))"
   ]
  },
  {
   "cell_type": "markdown",
   "metadata": {},
   "source": [
    "After the counting, the term weighting and normalization can be done with [TF-IDF](http://en.wikipedia.org/wiki/Tf%E2%80%93idf), using scikit-learn's `TfidfTransformer`.\n",
    "\n",
    "____\n",
    "### So what is TF-IDF?\n",
    "TF-IDF stands for *term frequency-inverse document frequency*, and the tf-idf weight is a weight often used in information retrieval and text mining. This weight is a statistical measure used to evaluate how important a word is to a document in a collection or corpus. The importance increases proportionally to the number of times a word appears in the document but is offset by the frequency of the word in the corpus. Variations of the tf-idf weighting scheme are often used by search engines as a central tool in scoring and ranking a document's relevance given a user query.\n",
    "\n",
    "One of the simplest ranking functions is computed by summing the tf-idf for each query term; many more sophisticated ranking functions are variants of this simple model.\n",
    "\n",
    "Typically, the tf-idf weight is composed by two terms: the first computes the normalized Term Frequency (TF), aka. the number of times a word appears in a document, divided by the total number of words in that document; the second term is the Inverse Document Frequency (IDF), computed as the logarithm of the number of the documents in the corpus divided by the number of documents where the specific term appears.\n",
    "\n",
    "**TF: Term Frequency**, which measures how frequently a term occurs in a document. Since every document is different in length, it is possible that a term would appear much more times in long documents than shorter ones. Thus, the term frequency is often divided by the document length (aka. the total number of terms in the document) as a way of normalization: \n",
    "\n",
    "*TF(t) = (Number of times term t appears in a document) / (Total number of terms in the document).*\n",
    "\n",
    "**IDF: Inverse Document Frequency**, which measures how important a term is. While computing TF, all terms are considered equally important. However it is known that certain terms, such as \"is\", \"of\", and \"that\", may appear a lot of times but have little importance. Thus we need to weigh down the frequent terms while scale up the rare ones, by computing the following: \n",
    "\n",
    "*IDF(t) = log_e(Total number of documents / Number of documents with term t in it).*\n",
    "\n",
    "See below for a simple example.\n",
    "\n",
    "**Example:**\n",
    "\n",
    "Consider a document containing 100 words wherein the word cat appears 3 times. \n",
    "\n",
    "The term frequency (i.e., tf) for cat is then (3 / 100) = 0.03. Now, assume we have 10 million documents and the word cat appears in one thousand of these. Then, the inverse document frequency (i.e., idf) is calculated as log(10,000,000 / 1,000) = 4. Thus, the Tf-idf weight is the product of these quantities: 0.03 * 4 = 0.12.\n",
    "____\n",
    "\n",
    "Let's go ahead and see how we can do this in SciKit Learn:"
   ]
  },
  {
   "cell_type": "code",
   "execution_count": 41,
   "metadata": {},
   "outputs": [
    {
     "name": "stdout",
     "output_type": "stream",
     "text": [
      "  (0, 9514)\t0.6245712864226955\n",
      "  (0, 7149)\t0.5090349049250255\n",
      "  (0, 6188)\t0.369621666590601\n",
      "  (0, 5232)\t0.3447784312493634\n",
      "  (0, 4601)\t0.30870994586550676\n"
     ]
    }
   ],
   "source": [
    "from sklearn.feature_extraction.text import TfidfTransformer\n",
    "\n",
    "tfidf_transformer = TfidfTransformer().fit(messages_bow)\n",
    "tfidf4 = tfidf_transformer.transform(bow4)\n",
    "print(tfidf4)"
   ]
  },
  {
   "cell_type": "markdown",
   "metadata": {},
   "source": [
    "We'll go ahead and check what is the IDF (inverse document frequency) of the word `\"u\"` and of word `\"university\"`?"
   ]
  },
  {
   "cell_type": "code",
   "execution_count": 42,
   "metadata": {},
   "outputs": [
    {
     "name": "stdout",
     "output_type": "stream",
     "text": [
      "8.527076498901426\n",
      "5.231239632897098\n"
     ]
    }
   ],
   "source": [
    "# print(tfidf_transformer.idf_[bow_transformer.vocabulary_['u']])\n",
    "print(tfidf_transformer.idf_[bow_transformer.vocabulary_['university']])\n",
    "print(tfidf_transformer.idf_[bow_transformer.vocabulary_['say']])"
   ]
  },
  {
   "cell_type": "markdown",
   "metadata": {},
   "source": [
    "To transform the entire bag-of-words corpus into TF-IDF corpus at once:"
   ]
  },
  {
   "cell_type": "code",
   "execution_count": 43,
   "metadata": {},
   "outputs": [
    {
     "name": "stdout",
     "output_type": "stream",
     "text": [
      "(5572, 11372)\n"
     ]
    }
   ],
   "source": [
    "messages_tfidf = tfidf_transformer.transform(messages_bow)\n",
    "print(messages_tfidf.shape)"
   ]
  },
  {
   "cell_type": "code",
   "execution_count": 44,
   "metadata": {},
   "outputs": [
    {
     "name": "stdout",
     "output_type": "stream",
     "text": [
      "  (0, 11115)\t0.23368731546484867\n",
      "  (0, 10920)\t0.19356751519955978\n",
      "  (0, 8877)\t0.2507162340087826\n",
      "  (0, 7630)\t0.2679558860819871\n",
      "  (0, 7517)\t0.3171811131121076\n",
      "  (0, 6903)\t0.18619455375770394\n",
      "  (0, 6872)\t0.15383643628213323\n",
      "  (0, 6183)\t0.19196535642818258\n",
      "  (0, 5739)\t0.2535584301309341\n",
      "  (0, 5189)\t0.2726973849309619\n",
      "  (0, 5188)\t0.30278365716105465\n",
      "  (0, 4625)\t0.3171811131121076\n",
      "  (0, 2053)\t0.2456349383518318\n",
      "  (0, 1483)\t0.3171811131121076\n",
      "  (0, 1110)\t0.2925684995970474\n",
      "  (1, 7663)\t0.5114666111551778\n",
      "  (1, 3051)\t0.39533577569629436\n",
      "  (1, 2439)\t0.7629623386039754\n",
      "  (2, 11076)\t0.19104387220509106\n",
      "  (2, 11037)\t0.15898145347176754\n",
      "  (2, 10643)\t0.13995540820792943\n",
      "  (2, 10469)\t0.2118842499614227\n",
      "  (2, 9212)\t0.16121646071144807\n",
      "  (2, 9160)\t0.22538631044314436\n",
      "  (2, 9119)\t0.22538631044314436\n",
      "  :\t:\n",
      "  (5568, 6848)\t0.31367469776242124\n",
      "  (5568, 6657)\t0.47781076401785183\n",
      "  (5568, 6320)\t0.5575721048646767\n",
      "  (5568, 4851)\t0.3853122086093004\n",
      "  (5569, 10157)\t0.520467167163554\n",
      "  (5569, 8214)\t0.4328299709057074\n",
      "  (5569, 3706)\t0.520467167163554\n",
      "  (5569, 3215)\t0.520467167163554\n",
      "  (5570, 10961)\t0.20434525994453323\n",
      "  (5570, 10743)\t0.22867843486502568\n",
      "  (5570, 9873)\t0.22380228376189748\n",
      "  (5570, 8381)\t0.22651675757217207\n",
      "  (5570, 7762)\t0.17243888184764117\n",
      "  (5570, 7357)\t0.3071475234812021\n",
      "  (5570, 7250)\t0.26786677935500575\n",
      "  (5570, 6950)\t0.2641640440122445\n",
      "  (5570, 6765)\t0.294185812624235\n",
      "  (5570, 6665)\t0.2008376534326777\n",
      "  (5570, 6248)\t0.2607702439080329\n",
      "  (5570, 5222)\t0.302353515740512\n",
      "  (5570, 5026)\t0.36357250744470165\n",
      "  (5570, 4480)\t0.3470692575834817\n",
      "  (5571, 10605)\t0.539218119882165\n",
      "  (5571, 8309)\t0.48542915408134024\n",
      "  (5571, 3418)\t0.6881877327870772\n"
     ]
    }
   ],
   "source": [
    "print(messages_tfidf)"
   ]
  },
  {
   "cell_type": "markdown",
   "metadata": {},
   "source": [
    "There are many ways the data can be preprocessed and vectorized. These steps involve feature engineering and building a \"pipeline\". I encourage you to check out SciKit Learn's documentation on dealing with text data as well as the expansive collection of available papers and books on the general topic of NLP."
   ]
  },
  {
   "cell_type": "markdown",
   "metadata": {},
   "source": [
    "## Training a model"
   ]
  },
  {
   "cell_type": "markdown",
   "metadata": {},
   "source": [
    "With messages represented as vectors, we can finally train our spam/ham classifier. Now we can actually use almost any sort of classification algorithms. For a [variety of reasons](http://www.inf.ed.ac.uk/teaching/courses/inf2b/learnnotes/inf2b-learn-note07-2up.pdf), the Naive Bayes classifier algorithm is a good choice."
   ]
  },
  {
   "cell_type": "markdown",
   "metadata": {},
   "source": [
    "We'll be using scikit-learn here, choosing the [Naive Bayes](http://en.wikipedia.org/wiki/Naive_Bayes_classifier) classifier to start with:"
   ]
  },
  {
   "cell_type": "code",
   "execution_count": 45,
   "metadata": {},
   "outputs": [],
   "source": [
    "from sklearn.naive_bayes import MultinomialNB\n",
    "spam_detect_model = MultinomialNB().fit(messages_tfidf, messages['label'])"
   ]
  },
  {
   "cell_type": "markdown",
   "metadata": {},
   "source": [
    "Let's try classifying our single random message and checking how we do:"
   ]
  },
  {
   "cell_type": "code",
   "execution_count": 46,
   "metadata": {},
   "outputs": [
    {
     "name": "stdout",
     "output_type": "stream",
     "text": [
      "predicted: ham\n",
      "expected: ham\n"
     ]
    }
   ],
   "source": [
    "print('predicted:', spam_detect_model.predict(tfidf4)[0])\n",
    "print('expected:', messages.label[3])"
   ]
  },
  {
   "cell_type": "markdown",
   "metadata": {},
   "source": [
    "Fantastic! We've developed a model that can attempt to predict spam vs ham classification!\n",
    "\n",
    "## Part 6: Model Evaluation\n",
    "Now we want to determine how well our model will do overall on the entire dataset. Let's begin by getting all the predictions:"
   ]
  },
  {
   "cell_type": "code",
   "execution_count": 47,
   "metadata": {},
   "outputs": [
    {
     "name": "stdout",
     "output_type": "stream",
     "text": [
      "['ham' 'ham' 'spam' ... 'ham' 'ham' 'ham']\n"
     ]
    }
   ],
   "source": [
    "all_predictions = spam_detect_model.predict(messages_tfidf)\n",
    "print(all_predictions)"
   ]
  },
  {
   "cell_type": "markdown",
   "metadata": {},
   "source": [
    "We can use SciKit Learn's built-in classification report, which returns [precision, recall,](https://en.wikipedia.org/wiki/Precision_and_recall) [f1-score](https://en.wikipedia.org/wiki/F1_score), and a column for support (meaning how many cases supported that classification). Check out the links for more detailed info on each of these metrics and the figure below:"
   ]
  },
  {
   "cell_type": "markdown",
   "metadata": {},
   "source": [
    "<img src='https://upload.wikimedia.org/wikipedia/commons/thumb/2/26/Precisionrecall.svg/700px-Precisionrecall.svg.png' width=400 />"
   ]
  },
  {
   "cell_type": "code",
   "execution_count": 48,
   "metadata": {},
   "outputs": [
    {
     "name": "stdout",
     "output_type": "stream",
     "text": [
      "              precision    recall  f1-score   support\n",
      "\n",
      "         ham       0.98      1.00      0.99      4825\n",
      "        spam       1.00      0.86      0.92       747\n",
      "\n",
      "   micro avg       0.98      0.98      0.98      5572\n",
      "   macro avg       0.99      0.93      0.96      5572\n",
      "weighted avg       0.98      0.98      0.98      5572\n",
      "\n"
     ]
    }
   ],
   "source": [
    "from sklearn.metrics import classification_report\n",
    "print (classification_report(messages['label'], all_predictions))"
   ]
  },
  {
   "cell_type": "markdown",
   "metadata": {},
   "source": [
    "There are quite a few possible metrics for evaluating model performance. Which one is the most important depends on the task and the business effects of decisions based off of the model. For example, the cost of mis-predicting \"spam\" as \"ham\" is probably much lower than mis-predicting \"ham\" as \"spam\"."
   ]
  },
  {
   "cell_type": "markdown",
   "metadata": {},
   "source": [
    "In the above \"evaluation\",we evaluated accuracy on the same data we used for training. **You should never actually evaluate on the same dataset you train on!**\n",
    "\n",
    "Such evaluation tells us nothing about the true predictive power of our model. If we simply remembered each example during training, the accuracy on training data would trivially be 100%, even though we wouldn't be able to classify any new messages.\n",
    "\n",
    "A proper way is to split the data into a training/test set, where the model only ever sees the **training data** during its model fitting and parameter tuning. The **test data** is never used in any way. This is then our final evaluation on test data is representative of true predictive performance.\n",
    "\n",
    "## Train Test Split"
   ]
  },
  {
   "cell_type": "code",
   "execution_count": 49,
   "metadata": {},
   "outputs": [],
   "source": [
    "# messages['label'] = messages['label'].apply(lambda x: 0 if x == 'ham' else 1)"
   ]
  },
  {
   "cell_type": "code",
   "execution_count": 50,
   "metadata": {},
   "outputs": [
    {
     "name": "stdout",
     "output_type": "stream",
     "text": [
      "4457 1115 5572\n"
     ]
    }
   ],
   "source": [
    "from sklearn.model_selection import train_test_split\n",
    "\n",
    "msg_train, msg_test, label_train, label_test = train_test_split(messages['message'], messages['label'], test_size=0.2)\n",
    "\n",
    "print(len(msg_train), len(msg_test), len(msg_train) + len(msg_test))"
   ]
  },
  {
   "cell_type": "markdown",
   "metadata": {},
   "source": [
    "The test size is 20% of the entire dataset (1115 messages out of total 5572), and the training is the rest (4457 out of 5572). Note the default split would have been 30/70.\n",
    "\n",
    "## Creating a Data Pipeline\n",
    "\n",
    "Let's run our model again and then predict off the test set. We will use SciKit Learn's [pipeline](http://scikit-learn.org/stable/modules/pipeline.html) capabilities to store a pipeline of workflow. This will allow us to set up all the transformations that we will do to the data for future use. Let's see an example of how it works:"
   ]
  },
  {
   "cell_type": "code",
   "execution_count": 51,
   "metadata": {},
   "outputs": [],
   "source": [
    "from sklearn.pipeline import Pipeline\n",
    "\n",
    "pipeline = Pipeline([\n",
    "    ('bow', CountVectorizer(analyzer=text_process)),  # strings to token integer counts\n",
    "    ('tfidf', TfidfTransformer()),  # integer counts to weighted TF-IDF scores\n",
    "    ('classifier', MultinomialNB()),  # train on TF-IDF vectors w/ Naive Bayes classifier\n",
    "])"
   ]
  },
  {
   "cell_type": "markdown",
   "metadata": {},
   "source": [
    "Now we can directly pass message text data and the pipeline will do our pre-processing for us! We can treat it as a model/estimator API:"
   ]
  },
  {
   "cell_type": "code",
   "execution_count": 52,
   "metadata": {},
   "outputs": [
    {
     "data": {
      "text/plain": [
       "Pipeline(memory=None,\n",
       "     steps=[('bow', CountVectorizer(analyzer=<function text_process at 0x000002101A493048>,\n",
       "        binary=False, decode_error='strict', dtype=<class 'numpy.int64'>,\n",
       "        encoding='utf-8', input='content', lowercase=True, max_df=1.0,\n",
       "        max_features=None, min_df=1, ngram_range=(1, 1), preprocesso...f=False, use_idf=True)), ('classifier', MultinomialNB(alpha=1.0, class_prior=None, fit_prior=True))])"
      ]
     },
     "execution_count": 52,
     "metadata": {},
     "output_type": "execute_result"
    }
   ],
   "source": [
    "pipeline.fit(msg_train,label_train)"
   ]
  },
  {
   "cell_type": "code",
   "execution_count": 53,
   "metadata": {},
   "outputs": [
    {
     "data": {
      "text/plain": [
       "array(['ham', 'ham', 'ham', ..., 'ham', 'ham', 'ham'], dtype='<U4')"
      ]
     },
     "execution_count": 53,
     "metadata": {},
     "output_type": "execute_result"
    }
   ],
   "source": [
    "predictions = pipeline.predict(msg_test)\n",
    "predictions"
   ]
  },
  {
   "cell_type": "code",
   "execution_count": 54,
   "metadata": {},
   "outputs": [
    {
     "data": {
      "text/plain": [
       "array([[0.99797948, 0.00202052],\n",
       "       [0.99588204, 0.00411796],\n",
       "       [0.98650542, 0.01349458],\n",
       "       [0.87166255, 0.12833745],\n",
       "       [0.99171223, 0.00828777]])"
      ]
     },
     "execution_count": 54,
     "metadata": {},
     "output_type": "execute_result"
    }
   ],
   "source": [
    "predictProba = pipeline.predict_proba(msg_test)\n",
    "predictProba[:5]"
   ]
  },
  {
   "cell_type": "code",
   "execution_count": 55,
   "metadata": {},
   "outputs": [
    {
     "data": {
      "text/plain": [
       "array([0.99797948, 0.99588204, 0.98650542, ..., 0.99132712, 0.98702924,\n",
       "       0.99658659])"
      ]
     },
     "execution_count": 55,
     "metadata": {},
     "output_type": "execute_result"
    }
   ],
   "source": [
    "predictProba[:,0]"
   ]
  },
  {
   "cell_type": "code",
   "execution_count": 56,
   "metadata": {},
   "outputs": [],
   "source": [
    "# predictions = []\n",
    "# for prob in predictProba[:,0] :\n",
    "#     if (prob > 0.60) :\n",
    "#         predictions.append('ham')\n",
    "#     else :\n",
    "#         predictions.append('spam')"
   ]
  },
  {
   "cell_type": "code",
   "execution_count": 57,
   "metadata": {},
   "outputs": [
    {
     "data": {
      "text/plain": [
       "ham     985\n",
       "spam    130\n",
       "dtype: int64"
      ]
     },
     "execution_count": 57,
     "metadata": {},
     "output_type": "execute_result"
    }
   ],
   "source": [
    "pd.Series(predictions).value_counts()"
   ]
  },
  {
   "cell_type": "code",
   "execution_count": 58,
   "metadata": {},
   "outputs": [
    {
     "data": {
      "text/plain": [
       "ham     940\n",
       "spam    175\n",
       "Name: label, dtype: int64"
      ]
     },
     "execution_count": 58,
     "metadata": {},
     "output_type": "execute_result"
    }
   ],
   "source": [
    "label_test.value_counts()"
   ]
  },
  {
   "cell_type": "code",
   "execution_count": 59,
   "metadata": {},
   "outputs": [
    {
     "name": "stdout",
     "output_type": "stream",
     "text": [
      "              precision    recall  f1-score   support\n",
      "\n",
      "         ham       0.95      1.00      0.98       940\n",
      "        spam       1.00      0.74      0.85       175\n",
      "\n",
      "   micro avg       0.96      0.96      0.96      1115\n",
      "   macro avg       0.98      0.87      0.91      1115\n",
      "weighted avg       0.96      0.96      0.96      1115\n",
      "\n"
     ]
    }
   ],
   "source": [
    "print(classification_report(label_test,predictions))"
   ]
  },
  {
   "cell_type": "markdown",
   "metadata": {},
   "source": [
    "Now we have a classification report for our model on a true testing set! There is a lot more to Natural Language Processing than what we've covered here, and its vast expanse of topic could fill up several college courses! I encourage you to check out the resources below for more information on NLP!"
   ]
  },
  {
   "cell_type": "code",
   "execution_count": 60,
   "metadata": {},
   "outputs": [
    {
     "data": {
      "text/plain": [
       "'ham'"
      ]
     },
     "execution_count": 60,
     "metadata": {},
     "output_type": "execute_result"
    }
   ],
   "source": [
    "predictions = pipeline.predict(['Hello nama aku Baron'])\n",
    "predictions[0]"
   ]
  },
  {
   "cell_type": "code",
   "execution_count": 61,
   "metadata": {},
   "outputs": [
    {
     "data": {
      "text/plain": [
       "'ham'"
      ]
     },
     "execution_count": 61,
     "metadata": {},
     "output_type": "execute_result"
    }
   ],
   "source": [
    "predictions = pipeline.predict(['''Ayo buruan beli paket bento A dari hoki-hoki bento sebelum kehabisan, bisa dipesan di \n",
    "www.hokihokibento.com'''])\n",
    "predictions[0]"
   ]
  },
  {
   "cell_type": "code",
   "execution_count": 62,
   "metadata": {},
   "outputs": [
    {
     "data": {
      "text/plain": [
       "'ham'"
      ]
     },
     "execution_count": 62,
     "metadata": {},
     "output_type": "execute_result"
    }
   ],
   "source": [
    "predictions = pipeline.predict(['''Promo hanya untuk hari ini, buy 1 get 1 free ice coffee latte di starbucks'''])\n",
    "predictions[0]"
   ]
  },
  {
   "cell_type": "markdown",
   "metadata": {},
   "source": [
    "## More Resources\n",
    "\n",
    "Check out the links below for more info on Natural Language Processing:\n",
    "\n",
    "[NLTK Book Online](http://www.nltk.org/book/)\n",
    "\n",
    "[Kaggle Walkthrough](https://www.kaggle.com/c/word2vec-nlp-tutorial/details/part-1-for-beginners-bag-of-words)\n",
    "\n",
    "[SciKit Learn's Tutorial](http://scikit-learn.org/stable/tutorial/text_analytics/working_with_text_data.html)"
   ]
  },
  {
   "cell_type": "markdown",
   "metadata": {},
   "source": [
    "# Good Job!"
   ]
  }
 ],
 "metadata": {
  "kernelspec": {
   "display_name": "Python 3",
   "language": "python",
   "name": "python3"
  },
  "language_info": {
   "codemirror_mode": {
    "name": "ipython",
    "version": 3
   },
   "file_extension": ".py",
   "mimetype": "text/x-python",
   "name": "python",
   "nbconvert_exporter": "python",
   "pygments_lexer": "ipython3",
   "version": "3.6.5"
  }
 },
 "nbformat": 4,
 "nbformat_minor": 1
}
